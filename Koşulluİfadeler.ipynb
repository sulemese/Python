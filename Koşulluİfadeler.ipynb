{
  "nbformat": 4,
  "nbformat_minor": 0,
  "metadata": {
    "colab": {
      "provenance": []
    },
    "kernelspec": {
      "name": "python3",
      "display_name": "Python 3"
    },
    "language_info": {
      "name": "python"
    }
  },
  "cells": [
    {
      "cell_type": "markdown",
      "source": [
        "#Koşullu İfadeler (İf Else)"
      ],
      "metadata": {
        "id": "GtpdjhsEXwO1"
      }
    },
    {
      "cell_type": "markdown",
      "source": [
        "Python mantıksal ifadeleri oluşturmak için mantıksal operatörlerden yararlanır.\n",
        "\n",
        "* a==b\n",
        "* a!=b\n",
        "* a>b\n",
        "* a>=b\n",
        "* a<b\n",
        "* a<=b\n",
        "\n",
        "Bu mantıksal ifadeler if gibi koşullarda  veya döngülerde sıkça kullanılırlar.\n",
        "\n"
      ],
      "metadata": {
        "id": "KpoFbSDqq0Eo"
      }
    },
    {
      "cell_type": "markdown",
      "source": [
        "## 1. İF"
      ],
      "metadata": {
        "id": "bSVNaByWsCwy"
      }
    },
    {
      "cell_type": "markdown",
      "source": [
        "İfade doğru ise if'ten sonraki satırlar çalıştırılır. İfade yanlış ise if'ten sonraki satırlar atlanır."
      ],
      "metadata": {
        "id": "NL9sZzz1sGzA"
      }
    },
    {
      "cell_type": "code",
      "source": [
        "a = 200\n",
        "b = 300\n",
        "\n",
        "if b>a:\n",
        "  print(\"a is greater than b \")"
      ],
      "metadata": {
        "colab": {
          "base_uri": "https://localhost:8080/"
        },
        "id": "x12DMTlAsRu6",
        "outputId": "cf2fb995-a7c2-4ed3-f8ab-775ca4d838f1"
      },
      "execution_count": 2,
      "outputs": [
        {
          "output_type": "stream",
          "name": "stdout",
          "text": [
            "a is greater than b \n"
          ]
        }
      ]
    },
    {
      "cell_type": "markdown",
      "source": [
        "## 2. ELİF"
      ],
      "metadata": {
        "id": "VOo7XWCoscdi"
      }
    },
    {
      "cell_type": "markdown",
      "source": [
        "Eğer if koşulu doğru değilse deneme yapılacak diğer koşulları tanımlar."
      ],
      "metadata": {
        "id": "GuPY8Ms3seJf"
      }
    },
    {
      "cell_type": "code",
      "source": [
        "a = 300\n",
        "b = 300\n",
        "\n",
        "if b>a:\n",
        "  print(\"b is greater than a \")\n",
        "\n",
        "elif b==a:\n",
        "  print(\"b is equal to a\")"
      ],
      "metadata": {
        "colab": {
          "base_uri": "https://localhost:8080/"
        },
        "id": "yGY2eVwzsUSJ",
        "outputId": "6360fdde-8d07-4cf7-925b-6d13537b448c"
      },
      "execution_count": 4,
      "outputs": [
        {
          "output_type": "stream",
          "name": "stdout",
          "text": [
            "b is equal to a\n"
          ]
        }
      ]
    },
    {
      "cell_type": "markdown",
      "source": [
        "## 3. ELSE"
      ],
      "metadata": {
        "id": "MDwb-DDms9hP"
      }
    },
    {
      "cell_type": "markdown",
      "source": [
        "Eğer hiçbir koşula girilmediyse yapılacak işlemler tanımlanır."
      ],
      "metadata": {
        "id": "0NvNTekYs-6n"
      }
    },
    {
      "cell_type": "code",
      "source": [
        "a = 400\n",
        "b = 300\n",
        "\n",
        "if b>a:\n",
        "  print(\"b is greater than a \")\n",
        "\n",
        "elif b==a:\n",
        "  print(\"b is equal to a\")\n",
        "\n",
        "else:\n",
        "  print(\"a is greater than b\")"
      ],
      "metadata": {
        "colab": {
          "base_uri": "https://localhost:8080/"
        },
        "id": "Pq4YAY-1tFsi",
        "outputId": "1d2456a0-7bd5-4e6b-a8b2-f877c1c8038a"
      },
      "execution_count": 5,
      "outputs": [
        {
          "output_type": "stream",
          "name": "stdout",
          "text": [
            "a is greater than b\n"
          ]
        }
      ]
    },
    {
      "cell_type": "markdown",
      "source": [
        "## 4. SHORT HAND IF"
      ],
      "metadata": {
        "id": "5Ip2TpjttptA"
      }
    },
    {
      "cell_type": "markdown",
      "source": [
        "Eğer yürütülecek 1 ifadeniz varsa onu if ile aynı satıra yerleştirebilirsiniz."
      ],
      "metadata": {
        "id": "HZPv0PT4tQ1H"
      }
    },
    {
      "cell_type": "code",
      "source": [
        "a=200\n",
        "b=100\n",
        "\n",
        "if a>b: print(\"a is greater than b\")"
      ],
      "metadata": {
        "colab": {
          "base_uri": "https://localhost:8080/"
        },
        "id": "jbASivnAtWEf",
        "outputId": "b14ea795-f63d-4945-b198-5a18c5f9eab7"
      },
      "execution_count": 6,
      "outputs": [
        {
          "output_type": "stream",
          "name": "stdout",
          "text": [
            "a is greater than b\n"
          ]
        }
      ]
    },
    {
      "cell_type": "markdown",
      "source": [
        "## 5. SHORT HAND IF ELSE"
      ],
      "metadata": {
        "id": "-LbPuoiYtt8n"
      }
    },
    {
      "cell_type": "markdown",
      "source": [
        "Eğer if ve else için yürütülecek 1 ifadeniz varsa onu ve if else'i aynı satıra yerleştirebilirsiniz."
      ],
      "metadata": {
        "id": "0eMHDHRztwoO"
      }
    },
    {
      "cell_type": "code",
      "source": [
        "a=2\n",
        "b=3\n",
        "\n",
        "print(\"a>b\") if a>b else print(\"b>a\")"
      ],
      "metadata": {
        "colab": {
          "base_uri": "https://localhost:8080/"
        },
        "id": "UyahSiTyt2D7",
        "outputId": "8302ceaf-f094-4677-c3a6-b96eb0d969dd"
      },
      "execution_count": 7,
      "outputs": [
        {
          "output_type": "stream",
          "name": "stdout",
          "text": [
            "b>a\n"
          ]
        }
      ]
    },
    {
      "cell_type": "markdown",
      "source": [
        "# KOŞULLU İFADELERİ BİRLEŞTİRME"
      ],
      "metadata": {
        "id": "n2PQVQoVueJN"
      }
    },
    {
      "cell_type": "markdown",
      "source": [
        "Koşullu ifadeleri birleştirmek için and,or,not operatörleri kullanılır.\n",
        "\n",
        "Bu sayede her ifade için ayrı ayrı if koşulları yazmaya gerek kalmaz."
      ],
      "metadata": {
        "id": "d6XGJW25ujIe"
      }
    },
    {
      "cell_type": "markdown",
      "source": [
        "## 1. AND"
      ],
      "metadata": {
        "id": "pHVSXhEYuygX"
      }
    },
    {
      "cell_type": "markdown",
      "source": [
        "\"And\" anahtar kelimesi mantıksal bir operatördür ve koşullu ifadeleri birleştirmek için kullanılır:"
      ],
      "metadata": {
        "id": "iwDgDuM7u0Bo"
      }
    },
    {
      "cell_type": "code",
      "source": [
        "a = 200\n",
        "b = 33\n",
        "c = 500\n",
        "if a > b and c > a:\n",
        "  print(\"Both conditions are True\")"
      ],
      "metadata": {
        "colab": {
          "base_uri": "https://localhost:8080/"
        },
        "id": "kRugwQJPu6Fv",
        "outputId": "a55c4592-7092-4620-831d-8c933c53ee37"
      },
      "execution_count": 8,
      "outputs": [
        {
          "output_type": "stream",
          "name": "stdout",
          "text": [
            "Both conditions are True\n"
          ]
        }
      ]
    },
    {
      "cell_type": "markdown",
      "source": [
        "## 2. OR"
      ],
      "metadata": {
        "id": "7YOhA6MvvBqX"
      }
    },
    {
      "cell_type": "markdown",
      "source": [
        "\"or\" anahtar kelimesi mantıksal bir operatördür ve koşullu ifadeleri birleştirmek için kullanılır:"
      ],
      "metadata": {
        "id": "6kUnHhDcvDFH"
      }
    },
    {
      "cell_type": "code",
      "source": [
        "a = 200\n",
        "b = 33\n",
        "c = 500\n",
        "if a > b or a > c:\n",
        "  print(\"At least one of the conditions is True\")"
      ],
      "metadata": {
        "colab": {
          "base_uri": "https://localhost:8080/"
        },
        "id": "Fiwii_9DvM7y",
        "outputId": "3a9f56b7-086e-4248-9546-1122c36e0e58"
      },
      "execution_count": 9,
      "outputs": [
        {
          "output_type": "stream",
          "name": "stdout",
          "text": [
            "At least one of the conditions is True\n"
          ]
        }
      ]
    },
    {
      "cell_type": "markdown",
      "source": [
        "## 3. NOT"
      ],
      "metadata": {
        "id": "-dLGCVLevRWR"
      }
    },
    {
      "cell_type": "markdown",
      "source": [
        "\"not anahtar kelimesi mantıksal bir operatördür ve koşullu ifadenin sonucunu tersine çevirmek için kullanılır:"
      ],
      "metadata": {
        "id": "9n-oZrDovS3v"
      }
    },
    {
      "cell_type": "code",
      "source": [
        "a = 33\n",
        "b = 200\n",
        "if not a > b:\n",
        "  print(\"a is NOT greater than b\")"
      ],
      "metadata": {
        "colab": {
          "base_uri": "https://localhost:8080/"
        },
        "id": "yI16Kg06vW7Q",
        "outputId": "3d3a0430-d66a-42a2-b9aa-73eee1849484"
      },
      "execution_count": 10,
      "outputs": [
        {
          "output_type": "stream",
          "name": "stdout",
          "text": [
            "a is NOT greater than b\n"
          ]
        }
      ]
    },
    {
      "cell_type": "markdown",
      "source": [
        "# İÇ İÇE ŞARTLI İFADELER"
      ],
      "metadata": {
        "id": "Z7xlC4xWvkA_"
      }
    },
    {
      "cell_type": "code",
      "source": [
        "x = 41\n",
        "\n",
        "if x > 10:\n",
        "  print(\"Above ten,\")\n",
        "  if x > 20:\n",
        "    print(\"and also above 20!\")\n",
        "  else:\n",
        "    print(\"but not above 20.\")"
      ],
      "metadata": {
        "colab": {
          "base_uri": "https://localhost:8080/"
        },
        "id": "0Kko8VNivm_n",
        "outputId": "5d06f1ab-60cd-4707-f718-6abea11eab1d"
      },
      "execution_count": 11,
      "outputs": [
        {
          "output_type": "stream",
          "name": "stdout",
          "text": [
            "Above ten,\n",
            "and also above 20!\n"
          ]
        }
      ]
    },
    {
      "cell_type": "markdown",
      "source": [
        "# PASS ANAHTAR KELİMESİ"
      ],
      "metadata": {
        "id": "73pbxX5Xvrxn"
      }
    },
    {
      "cell_type": "markdown",
      "source": [
        "İf durumlarının içi boş olamaz. Ama bazı durumlardan dolayı boş olması gerekiyorsa içine \"pass\" anahtar kelimesi konularak error almaktan kaçınılır."
      ],
      "metadata": {
        "id": "JqY63Ckavwen"
      }
    },
    {
      "cell_type": "code",
      "source": [
        "if a>b:\n",
        "  pass"
      ],
      "metadata": {
        "id": "oxFj9PMwv8tj"
      },
      "execution_count": 12,
      "outputs": []
    },
    {
      "cell_type": "markdown",
      "source": [
        "\n",
        "\n",
        "---\n",
        "\n"
      ],
      "metadata": {
        "id": "TbccPfkCyGZP"
      }
    },
    {
      "cell_type": "markdown",
      "source": [
        "#ÖRNEKLER"
      ],
      "metadata": {
        "id": "W5LMG06lyHZH"
      }
    },
    {
      "cell_type": "code",
      "source": [
        "var1=10\n",
        "var2=11\n",
        "\n",
        "if (var1>var2):\n",
        "  print(\"var1 büyüktür var2\")\n",
        "elif (var1 == var2):\n",
        "  print(\"var1 eşittir var2\")\n",
        "else:\n",
        "  print(\"var1 küçüktür var2\")"
      ],
      "metadata": {
        "colab": {
          "base_uri": "https://localhost:8080/"
        },
        "id": "zz5_WaGnyJUv",
        "outputId": "7e1782b6-c781-4d64-a386-35dfc39d6b14"
      },
      "execution_count": 13,
      "outputs": [
        {
          "output_type": "stream",
          "name": "stdout",
          "text": [
            "var1 küçüktür var2\n"
          ]
        }
      ]
    },
    {
      "cell_type": "code",
      "source": [
        "liste=[1,2,4]\n",
        "\n",
        "value = 3\n",
        "\n",
        "if value in liste:\n",
        "  print(value, \"değeri listede var\")\n",
        "else:\n",
        "  print(value, \"değeri listede yok\")"
      ],
      "metadata": {
        "colab": {
          "base_uri": "https://localhost:8080/"
        },
        "id": "z0hihQx3yeJz",
        "outputId": "cbbe4137-0989-4320-dcfd-78a54bb590df"
      },
      "execution_count": 19,
      "outputs": [
        {
          "output_type": "stream",
          "name": "stdout",
          "text": [
            "3 değeri listede yok\n"
          ]
        }
      ]
    },
    {
      "cell_type": "code",
      "source": [
        "dictionary1={\"name\":\"şule\",\"age\":19}\n",
        "\n",
        "if \"name\" in dictionary1.keys():\n",
        "  print(\"name anahtarı dictionary1'de bulunmaktadır.\")\n",
        "else:\n",
        "  print(\"name anahtarı dictionary1'de bulunmamaktadır.\")"
      ],
      "metadata": {
        "colab": {
          "base_uri": "https://localhost:8080/"
        },
        "id": "KnRgpiWDzhZj",
        "outputId": "cd276a4b-2dae-48b7-99a8-851f34680f26"
      },
      "execution_count": 20,
      "outputs": [
        {
          "output_type": "stream",
          "name": "stdout",
          "text": [
            "name anahtarı dictionary1'de bulunmaktadır.\n"
          ]
        }
      ]
    }
  ]
}
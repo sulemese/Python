{
  "nbformat": 4,
  "nbformat_minor": 0,
  "metadata": {
    "colab": {
      "provenance": []
    },
    "kernelspec": {
      "name": "python3",
      "display_name": "Python 3"
    },
    "language_info": {
      "name": "python"
    }
  },
  "cells": [
    {
      "cell_type": "markdown",
      "source": [
        "#Print Komutu\n",
        "print() ekrandan çıktı almaya yarar.\n",
        "\"\" , ''  ile içine dize yazılabilir."
      ],
      "metadata": {
        "id": "vKq1bAVMmgHK"
      }
    },
    {
      "cell_type": "code",
      "execution_count": 1,
      "metadata": {
        "colab": {
          "base_uri": "https://localhost:8080/"
        },
        "id": "9ntWcBuTlHX-",
        "outputId": "01d0af23-ffb7-4a65-e865-2513fb63deae"
      },
      "outputs": [
        {
          "output_type": "stream",
          "name": "stdout",
          "text": [
            "merhaba dünya\n"
          ]
        }
      ],
      "source": [
        "print(\"merhaba dünya\")"
      ]
    },
    {
      "cell_type": "code",
      "source": [
        "print('merhaba dünya')"
      ],
      "metadata": {
        "colab": {
          "base_uri": "https://localhost:8080/"
        },
        "id": "2M7zO2uqm8hR",
        "outputId": "66091264-d4f7-4177-fa23-79b24137a3ee"
      },
      "execution_count": 2,
      "outputs": [
        {
          "output_type": "stream",
          "name": "stdout",
          "text": [
            "merhaba dünya\n"
          ]
        }
      ]
    },
    {
      "cell_type": "markdown",
      "source": [
        "print içinde tırnak işareti kullanılacaksa kaçış karakteri olarak kullanılmalıdır."
      ],
      "metadata": {
        "id": "Vg809XPBnEiZ"
      }
    },
    {
      "cell_type": "code",
      "source": [
        "print(\"merhaba \\\" dünya \")"
      ],
      "metadata": {
        "colab": {
          "base_uri": "https://localhost:8080/"
        },
        "id": "CZAach5vnK7Z",
        "outputId": "aafad9f0-a261-435f-e7ff-3f3373fa32db"
      },
      "execution_count": 3,
      "outputs": [
        {
          "output_type": "stream",
          "name": "stdout",
          "text": [
            "merhaba \" dünya \n"
          ]
        }
      ]
    },
    {
      "cell_type": "markdown",
      "source": [
        "format() metodu print içinde kullanılabilir."
      ],
      "metadata": {
        "id": "h5OQu2qVnkoZ"
      }
    },
    {
      "cell_type": "code",
      "source": [
        "print(\"merhaba {}\".format(\"mesut\"))"
      ],
      "metadata": {
        "colab": {
          "base_uri": "https://localhost:8080/"
        },
        "id": "5SQVi9fXnnqp",
        "outputId": "668db44a-dcd9-4b18-84c1-66792245f082"
      },
      "execution_count": 4,
      "outputs": [
        {
          "output_type": "stream",
          "name": "stdout",
          "text": [
            "merhaba mesut\n"
          ]
        }
      ]
    },
    {
      "cell_type": "code",
      "source": [
        "print(\"merhaba {} {}\".format(\"mesut\",16))"
      ],
      "metadata": {
        "colab": {
          "base_uri": "https://localhost:8080/"
        },
        "id": "dYTMXYBunrkQ",
        "outputId": "43d634d4-be1e-4d50-d4bc-2267d38d5ea3"
      },
      "execution_count": 5,
      "outputs": [
        {
          "output_type": "stream",
          "name": "stdout",
          "text": [
            "merhaba mesut 16\n"
          ]
        }
      ]
    },
    {
      "cell_type": "code",
      "source": [
        "print(\"merhaba {0} {1}\".format(\"mesut\",16))"
      ],
      "metadata": {
        "colab": {
          "base_uri": "https://localhost:8080/"
        },
        "id": "Uy9ZAI3Gny-J",
        "outputId": "ed9f1f16-aac6-42af-904e-a69b848668f6"
      },
      "execution_count": 6,
      "outputs": [
        {
          "output_type": "stream",
          "name": "stdout",
          "text": [
            "merhaba mesut 16\n"
          ]
        }
      ]
    },
    {
      "cell_type": "code",
      "source": [
        "print(\"merhaba {1} {0}\".format(\"mesut\",16))"
      ],
      "metadata": {
        "colab": {
          "base_uri": "https://localhost:8080/"
        },
        "id": "B3KmK7zBn3C4",
        "outputId": "34fb1c1d-b1a1-4fa0-e0df-c54eb7c119f0"
      },
      "execution_count": 7,
      "outputs": [
        {
          "output_type": "stream",
          "name": "stdout",
          "text": [
            "merhaba 16 mesut\n"
          ]
        }
      ]
    },
    {
      "cell_type": "code",
      "source": [
        "print(\"merhaba {ad} {yas}\".format(ad=\"mesut\",yas=16))"
      ],
      "metadata": {
        "colab": {
          "base_uri": "https://localhost:8080/"
        },
        "id": "B18UNGMAoGZw",
        "outputId": "3227a7a4-6b4e-4dfc-e85f-80fc80c9d249"
      },
      "execution_count": 8,
      "outputs": [
        {
          "output_type": "stream",
          "name": "stdout",
          "text": [
            "merhaba mesut 16\n"
          ]
        }
      ]
    }
  ]
}
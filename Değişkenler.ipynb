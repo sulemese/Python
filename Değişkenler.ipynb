{
  "nbformat": 4,
  "nbformat_minor": 0,
  "metadata": {
    "colab": {
      "provenance": []
    },
    "kernelspec": {
      "name": "python3",
      "display_name": "Python 3"
    },
    "language_info": {
      "name": "python"
    }
  },
  "cells": [
    {
      "cell_type": "markdown",
      "source": [
        "# Değişkenler\n"
      ],
      "metadata": {
        "id": "1Q_qaE_pFXKx"
      }
    },
    {
      "cell_type": "markdown",
      "source": [
        "Değişkenler verilerileri depolamak için kullanılan depolama birimleridir."
      ],
      "metadata": {
        "id": "3gFmnYw5t5Ec"
      }
    },
    {
      "cell_type": "markdown",
      "source": [
        "# Neden Değişken Kullanıyoruz?\n"
      ],
      "metadata": {
        "id": "_AmqFA3ct6Zg"
      }
    },
    {
      "cell_type": "markdown",
      "source": [
        "Örneğin uzun bir roman yazdığınızı düşünün. Bu romanda aynı karakter yüzlerce kez geçmektedir. Biz bu romanda ana karakterin ismini değiştirmeye karar verdik. Bu değişikliği o ismin geçtiği tüm sayfa konumlarını bulup yapmak gerekiyor. Ayrıca bunu yaparken manuel olarak isim girdiğimiz için hatalı yazma olasılığımız çok yüksek. İşte değişkenler bu tarz çok kullanılan değerleri otomatik olarak yönetme ve atama yapmayı sağlıyor. Kodun birçok yerinde bir değişkeni kullandığımızda değerini sadece tanımladığımız yerden değiştiriyoruz."
      ],
      "metadata": {
        "id": "bli7j6CNvQu_"
      }
    },
    {
      "cell_type": "markdown",
      "source": [
        "# Değişken Oluşturma\n"
      ],
      "metadata": {
        "id": "atOxnNpUFvPy"
      }
    },
    {
      "cell_type": "markdown",
      "source": [
        "Python'da değişkenler değer ataması ile oluşturulur."
      ],
      "metadata": {
        "id": "_6KhVatPHGpQ"
      }
    },
    {
      "cell_type": "code",
      "source": [
        "x=\"John\"\n",
        "y=5\n",
        "print(x)\n",
        "print(y)"
      ],
      "metadata": {
        "colab": {
          "base_uri": "https://localhost:8080/"
        },
        "id": "gQhcxgJaF3hf",
        "outputId": "a88b7dd2-30e1-4fa5-d97e-5f4f327d7b07"
      },
      "execution_count": null,
      "outputs": [
        {
          "output_type": "stream",
          "name": "stdout",
          "text": [
            "John\n",
            "5\n"
          ]
        }
      ]
    },
    {
      "cell_type": "markdown",
      "source": [
        "Değişkenler türü bildirilmeden oluşturulabilir."
      ],
      "metadata": {
        "id": "x1pLQcSVGEJ_"
      }
    },
    {
      "cell_type": "code",
      "source": [
        "b=5\n",
        "print(type(b))"
      ],
      "metadata": {
        "colab": {
          "base_uri": "https://localhost:8080/"
        },
        "id": "H2IqSPbJGIvf",
        "outputId": "e454cd12-4d66-4719-d93f-7f180829b3ab"
      },
      "execution_count": null,
      "outputs": [
        {
          "output_type": "stream",
          "name": "stdout",
          "text": [
            "<class 'int'>\n"
          ]
        }
      ]
    },
    {
      "cell_type": "markdown",
      "source": [
        "Değişkenler türü bildirilerek oluşturulabilir. (type casting ile)"
      ],
      "metadata": {
        "id": "tbiVLZBIHUF3"
      }
    },
    {
      "cell_type": "code",
      "source": [
        "b=int(5)\n",
        "print(type(b))"
      ],
      "metadata": {
        "colab": {
          "base_uri": "https://localhost:8080/"
        },
        "id": "HuotkEYEHX9n",
        "outputId": "ab19fae3-ff3c-4790-eedb-3eb39ab883db"
      },
      "execution_count": null,
      "outputs": [
        {
          "output_type": "stream",
          "name": "stdout",
          "text": [
            "<class 'int'>\n"
          ]
        }
      ]
    },
    {
      "cell_type": "markdown",
      "source": [
        "Değişkenlerin türü tanımlandıktan sonra değiştirilebilir."
      ],
      "metadata": {
        "id": "daGZgoLMGTSf"
      }
    },
    {
      "cell_type": "code",
      "source": [
        "x=5 #x is of type int\n",
        "print(type(x))\n",
        "x=\"John\"   #x is now of type str\n",
        "print(type(x))"
      ],
      "metadata": {
        "colab": {
          "base_uri": "https://localhost:8080/"
        },
        "id": "QPiHss7NGadw",
        "outputId": "98220180-ab47-4685-bc57-789edd3fa3bf"
      },
      "execution_count": null,
      "outputs": [
        {
          "output_type": "stream",
          "name": "stdout",
          "text": [
            "<class 'int'>\n",
            "<class 'str'>\n"
          ]
        }
      ]
    },
    {
      "cell_type": "code",
      "source": [
        "y=int(5)\n",
        "print(type(y))\n",
        "y=\"sally\"\n",
        "print(type(y))\n"
      ],
      "metadata": {
        "colab": {
          "base_uri": "https://localhost:8080/"
        },
        "id": "wFJpHjDiGiGw",
        "outputId": "a61ce758-6b75-47b1-d33f-05572c2a79de"
      },
      "execution_count": null,
      "outputs": [
        {
          "output_type": "stream",
          "name": "stdout",
          "text": [
            "<class 'int'>\n",
            "<class 'str'>\n"
          ]
        }
      ]
    },
    {
      "cell_type": "markdown",
      "source": [
        "Değişkenin veri tipi type() ile alınabilir."
      ],
      "metadata": {
        "id": "Xs5QzqbiHqQR"
      }
    },
    {
      "cell_type": "code",
      "source": [
        "a=10.2\n",
        "print(type(a))"
      ],
      "metadata": {
        "colab": {
          "base_uri": "https://localhost:8080/"
        },
        "id": "QaMAa5SdHtbX",
        "outputId": "36c0ac55-10d8-40ea-d10a-eff9256c8dae"
      },
      "execution_count": null,
      "outputs": [
        {
          "output_type": "stream",
          "name": "stdout",
          "text": [
            "<class 'float'>\n"
          ]
        }
      ]
    },
    {
      "cell_type": "markdown",
      "source": [
        "String değişkenler için tek veya çift tırnak kullanılabilir."
      ],
      "metadata": {
        "id": "UtdjZq6cHy_H"
      }
    },
    {
      "cell_type": "code",
      "source": [
        "a=\"hello\"\n",
        "b='hello'\n"
      ],
      "metadata": {
        "id": "-hz7J2IDH2lo"
      },
      "execution_count": null,
      "outputs": []
    },
    {
      "cell_type": "markdown",
      "source": [
        "# Değişken Adlandırma Kuralları"
      ],
      "metadata": {
        "id": "MPJHeoztIQNX"
      }
    },
    {
      "cell_type": "markdown",
      "source": [
        "1.Değişken adları büyük/küçük harfe duyarlıdır (yaş, Yaş ve YAŞ üç farklı değişkendir)"
      ],
      "metadata": {
        "id": "QYx2VsNbH8e4"
      }
    },
    {
      "cell_type": "code",
      "source": [
        "A=5\n",
        "a=5\n",
        "#ikisi farklıdır."
      ],
      "metadata": {
        "id": "NRbTVrB9IGzn"
      },
      "execution_count": null,
      "outputs": []
    },
    {
      "cell_type": "markdown",
      "source": [
        "2.Değişken adı yalnızca alfasayısal karakterler ve alt çizgiler içerebilir (Az, 0-9 ve _ )"
      ],
      "metadata": {
        "id": "wuz_EmJ7IXo3"
      }
    },
    {
      "cell_type": "code",
      "source": [
        "a+!bc = \"john\"  #hatalı değişken adı"
      ],
      "metadata": {
        "id": "X5NluEvfIb0k"
      },
      "execution_count": null,
      "outputs": []
    },
    {
      "cell_type": "markdown",
      "source": [
        "3.Değişken adı sayıyla başlayamaz"
      ],
      "metadata": {
        "id": "QENhtMMlIeA3"
      }
    },
    {
      "cell_type": "code",
      "source": [
        "5xyz= \"hello\"  #hatalı değişken adı"
      ],
      "metadata": {
        "id": "aJyejWeRIfwP"
      },
      "execution_count": null,
      "outputs": []
    },
    {
      "cell_type": "markdown",
      "source": [
        "4.Değişken adı bir harfle veya alt çizgi karakteriyle başlamalıdır"
      ],
      "metadata": {
        "id": "c3q3NMRCIgLv"
      }
    },
    {
      "cell_type": "code",
      "source": [
        "a_bc =\"hello\""
      ],
      "metadata": {
        "id": "OsSouBfQIi4f"
      },
      "execution_count": null,
      "outputs": []
    },
    {
      "cell_type": "markdown",
      "source": [
        "5.Değişken adı Python anahtar sözcüklerinden herhangi biri olamaz ."
      ],
      "metadata": {
        "id": "8YqT0GUcIk4B"
      }
    },
    {
      "cell_type": "code",
      "source": [
        "for = \"YES\""
      ],
      "metadata": {
        "colab": {
          "base_uri": "https://localhost:8080/",
          "height": 144
        },
        "id": "ZTp98SRQIlsH",
        "outputId": "acb372cd-5d74-4804-b9a3-bc50be6957a6"
      },
      "execution_count": null,
      "outputs": [
        {
          "output_type": "error",
          "ename": "SyntaxError",
          "evalue": "invalid syntax (<ipython-input-17-bb849cc8c283>, line 1)",
          "traceback": [
            "\u001b[0;36m  File \u001b[0;32m\"<ipython-input-17-bb849cc8c283>\"\u001b[0;36m, line \u001b[0;32m1\u001b[0m\n\u001b[0;31m    for = \"YES\"\u001b[0m\n\u001b[0m        ^\u001b[0m\n\u001b[0;31mSyntaxError\u001b[0m\u001b[0;31m:\u001b[0m invalid syntax\n"
          ]
        }
      ]
    },
    {
      "cell_type": "markdown",
      "source": [
        "# Değişken Adlandırma Teknikleri\n",
        "\n",
        "\n"
      ],
      "metadata": {
        "id": "s1cHCB5kJJ3J"
      }
    },
    {
      "cell_type": "markdown",
      "source": [
        "**1. Camel Case**\n",
        "\n",
        "İlk kelime hariç tüm kelimeler büyük harfle başlar."
      ],
      "metadata": {
        "id": "WO82bSOIJQL_"
      }
    },
    {
      "cell_type": "code",
      "source": [
        "myNewCarName =\"audi\""
      ],
      "metadata": {
        "id": "0ARmr0hiKM6_"
      },
      "execution_count": null,
      "outputs": []
    },
    {
      "cell_type": "markdown",
      "source": [
        "**2. Pascal Case**\n",
        "\n",
        "Tüm kelimeler büyük harfle başlar."
      ],
      "metadata": {
        "id": "MCZhFr9AKRKu"
      }
    },
    {
      "cell_type": "code",
      "source": [
        "MyNewCarName = \"audi\""
      ],
      "metadata": {
        "id": "3YMsTI9_KcEu"
      },
      "execution_count": null,
      "outputs": []
    },
    {
      "cell_type": "markdown",
      "source": [
        "**3. Snake Case**\n",
        "Tüm kelimeler alt çizgi ile ayrılır."
      ],
      "metadata": {
        "id": "Jn9hzS-GKfWH"
      }
    },
    {
      "cell_type": "code",
      "source": [
        "my_new_car_name = \"audi\""
      ],
      "metadata": {
        "id": "Z27A2uJcKmcI"
      },
      "execution_count": null,
      "outputs": []
    },
    {
      "cell_type": "markdown",
      "source": [
        "# Değişkenlere Çoklu Değer Ataması Yapmak (Assign Multiple Values)"
      ],
      "metadata": {
        "id": "BhZ1R-eOLh64"
      }
    },
    {
      "cell_type": "markdown",
      "source": [
        "Birden fazla değişkene aynı anda değer ataması yapabiliriz."
      ],
      "metadata": {
        "id": "aKzjqdndL_ZX"
      }
    },
    {
      "cell_type": "markdown",
      "source": [
        "NOT: Değişken sayısı değer sayısı ile eşleşmelidir. Aksi halde hata alırız."
      ],
      "metadata": {
        "id": "44cmpEoLNQTg"
      }
    },
    {
      "cell_type": "code",
      "source": [
        "x , y , z = \"hello\",5,2.13\n",
        "print(x)\n",
        "print(y)\n",
        "print(z)"
      ],
      "metadata": {
        "colab": {
          "base_uri": "https://localhost:8080/"
        },
        "id": "S5FcGX-LMNOL",
        "outputId": "bbfd60b3-c379-4f6d-82a3-6875aa558921"
      },
      "execution_count": null,
      "outputs": [
        {
          "output_type": "stream",
          "name": "stdout",
          "text": [
            "hello\n",
            "5\n",
            "2.13\n"
          ]
        }
      ]
    },
    {
      "cell_type": "markdown",
      "source": [
        "Birden fazla değişkene aynı satırda belli bir değeri atayabiliriz."
      ],
      "metadata": {
        "id": "mn0XmgjzMd2e"
      }
    },
    {
      "cell_type": "code",
      "source": [
        "x = y = z = \"hello\"\n",
        "print(x)\n",
        "print(y)\n",
        "print(z)"
      ],
      "metadata": {
        "colab": {
          "base_uri": "https://localhost:8080/"
        },
        "id": "YspMz7ceMccP",
        "outputId": "265b1663-7180-4253-a370-6ca9f5b26e0c"
      },
      "execution_count": null,
      "outputs": [
        {
          "output_type": "stream",
          "name": "stdout",
          "text": [
            "hello\n",
            "hello\n",
            "hello\n"
          ]
        }
      ]
    },
    {
      "cell_type": "markdown",
      "source": [
        "Bir listedeki değerleri değişkenlere çıkarabiliriz. Buna \"paketten çıkarma\" denir."
      ],
      "metadata": {
        "id": "aD5RBVbCNBvR"
      }
    },
    {
      "cell_type": "code",
      "source": [
        "fruits = [\"apple\", \"banana\", \"cherry\"]\n",
        "x, y, z = fruits\n",
        "print(x)\n",
        "print(y)\n",
        "print(z)"
      ],
      "metadata": {
        "colab": {
          "base_uri": "https://localhost:8080/"
        },
        "id": "PzT4KeESNZMP",
        "outputId": "c6ae28df-a7f1-47f8-91fb-ab30537887d6"
      },
      "execution_count": null,
      "outputs": [
        {
          "output_type": "stream",
          "name": "stdout",
          "text": [
            "apple\n",
            "banana\n",
            "cherry\n"
          ]
        }
      ]
    },
    {
      "cell_type": "markdown",
      "source": [
        "\n",
        "\n",
        "---\n",
        "\n"
      ],
      "metadata": {
        "id": "kFB2iBZvRQYn"
      }
    },
    {
      "cell_type": "markdown",
      "source": [
        "# Değişken Çıktısı (Output Variables)"
      ],
      "metadata": {
        "id": "FyaprYXJNqJ4"
      }
    },
    {
      "cell_type": "markdown",
      "source": [
        "print() fonksiyonu değişken çıktısı almak için kullanılır."
      ],
      "metadata": {
        "id": "kQH-n4X_N4P_"
      }
    },
    {
      "cell_type": "code",
      "source": [
        "x=\"you are awesome\"\n",
        "print(x)"
      ],
      "metadata": {
        "colab": {
          "base_uri": "https://localhost:8080/"
        },
        "id": "0ud2BehRN_o3",
        "outputId": "67e6ee81-de54-4e97-9258-9654509301a4"
      },
      "execution_count": null,
      "outputs": [
        {
          "output_type": "stream",
          "name": "stdout",
          "text": [
            "you are awesome\n"
          ]
        }
      ]
    },
    {
      "cell_type": "markdown",
      "source": [
        "print() fonksiyonunda birden fazla değişkenin çıktısını almak için değişkenler virgül ile ayrılır."
      ],
      "metadata": {
        "id": "zES_0QHPOH2A"
      }
    },
    {
      "cell_type": "code",
      "source": [
        "x = \"Python\"\n",
        "y = \"is\"\n",
        "z = \"awesome\"\n",
        "print(x, y, z)"
      ],
      "metadata": {
        "colab": {
          "base_uri": "https://localhost:8080/"
        },
        "id": "FZ-00pSqOP0B",
        "outputId": "7b241a5d-8fdf-4b6e-b2f3-7fce5d6f0be5"
      },
      "execution_count": null,
      "outputs": [
        {
          "output_type": "stream",
          "name": "stdout",
          "text": [
            "Python is awesome\n"
          ]
        }
      ]
    },
    {
      "cell_type": "markdown",
      "source": [
        "print() fonksiyonunda birden fazla değişkenin çıktısını almak için değişkenler + ile de ayrılabilir."
      ],
      "metadata": {
        "id": "0-6r5PSPObdi"
      }
    },
    {
      "cell_type": "code",
      "source": [
        "x = \"Python\"\n",
        "y = \"is\"\n",
        "z = \"awesome\"\n",
        "print(x + y + z)"
      ],
      "metadata": {
        "colab": {
          "base_uri": "https://localhost:8080/"
        },
        "id": "Iu6mt2FQOiaP",
        "outputId": "a9f1f387-0c94-4bd9-f168-6e995962e05b"
      },
      "execution_count": null,
      "outputs": [
        {
          "output_type": "stream",
          "name": "stdout",
          "text": [
            "Pythonisawesome\n"
          ]
        }
      ]
    },
    {
      "cell_type": "markdown",
      "source": [
        "print() fonksiyonunda birden fazla değişkenin çıktısını almak için değişkenler + ile ayrılabilir. Ancak bu kural sayısal değişkenlerde geçersizdir. 2 sayısal değişken için +  bir matematiksel operatör olarak görev yapar."
      ],
      "metadata": {
        "id": "bmRqMOaLO35g"
      }
    },
    {
      "cell_type": "code",
      "source": [
        "x=10\n",
        "y=5\n",
        "print(x+y)"
      ],
      "metadata": {
        "colab": {
          "base_uri": "https://localhost:8080/"
        },
        "id": "a8sSkfeoPOAw",
        "outputId": "e01f77d5-2a3d-4fb5-a1c1-752f57e95f4f"
      },
      "execution_count": null,
      "outputs": [
        {
          "output_type": "stream",
          "name": "stdout",
          "text": [
            "15\n"
          ]
        }
      ]
    },
    {
      "cell_type": "markdown",
      "source": [
        "print() fonksiyonu içinde + ile bir sayısal ve string değişken birleştirilemez."
      ],
      "metadata": {
        "id": "9ClVdlB0PXqQ"
      }
    },
    {
      "cell_type": "code",
      "source": [
        "x=5\n",
        "y=\"a\"\n",
        "print(x+y)"
      ],
      "metadata": {
        "id": "CvICDSNpPsmH"
      },
      "execution_count": null,
      "outputs": []
    },
    {
      "cell_type": "markdown",
      "source": [
        "print() fonksiyonu içinde bir sayısal ve string değişkeni birleştirmenin yolu onları virgül ile ayırmaktır."
      ],
      "metadata": {
        "id": "5fN2Xz-wPxMX"
      }
    },
    {
      "cell_type": "code",
      "source": [
        "x=5\n",
        "y=\"a\"\n",
        "print(x,y)"
      ],
      "metadata": {
        "colab": {
          "base_uri": "https://localhost:8080/"
        },
        "id": "VN3UgJt7P3_A",
        "outputId": "9dcb461e-8d3a-486d-ba6d-086f702ed5ab"
      },
      "execution_count": null,
      "outputs": [
        {
          "output_type": "stream",
          "name": "stdout",
          "text": [
            "5 a\n"
          ]
        }
      ]
    },
    {
      "cell_type": "markdown",
      "source": [
        "\n",
        "\n",
        "---\n",
        "\n"
      ],
      "metadata": {
        "id": "AL7zkLeFRJ9n"
      }
    },
    {
      "cell_type": "markdown",
      "source": [
        "# YEREL VE GLOBAL DEĞİŞKENLER"
      ],
      "metadata": {
        "id": "5g1YHDzmQ8co"
      }
    },
    {
      "cell_type": "markdown",
      "source": [
        "## 1. Global Değişkenler"
      ],
      "metadata": {
        "id": "UUrFe2HNQ_7n"
      }
    },
    {
      "cell_type": "markdown",
      "source": [
        "Global değişken programın her yerinde geçerli olan , fonksiyonların dışında programın içinde tanımlanan değişkenlerdir."
      ],
      "metadata": {
        "id": "U_X-i54tReNh"
      }
    },
    {
      "cell_type": "markdown",
      "source": [
        "Global değişkenler tüm fonksiyonların içinde kullanılabilir."
      ],
      "metadata": {
        "id": "Si4vVj4vRr94"
      }
    },
    {
      "cell_type": "code",
      "source": [
        "x = \"awesome\"\n",
        "\n",
        "def myfunc():\n",
        "  print(\"python is \"+ x )\n",
        "\n",
        "myfunc()"
      ],
      "metadata": {
        "colab": {
          "base_uri": "https://localhost:8080/"
        },
        "id": "j7yA02jwRptP",
        "outputId": "16e46e45-72dd-41fa-85a1-02eed2c24033"
      },
      "execution_count": null,
      "outputs": [
        {
          "output_type": "stream",
          "name": "stdout",
          "text": [
            "python is awesome\n"
          ]
        }
      ]
    },
    {
      "cell_type": "markdown",
      "source": [
        "## 2.Yerel Değişkenler\n"
      ],
      "metadata": {
        "id": "kuS0x7QlSI35"
      }
    },
    {
      "cell_type": "markdown",
      "source": [
        "Belirli bir kapsam,scope içinde (örn:fonksiyon) tanımlanan değişkenlere yerel değişkenler denir.\n",
        "\n",
        "Yerel değişkenler sadece tanımlandığı kapsam içinde geçerlidir."
      ],
      "metadata": {
        "id": "teh_oUvESfDn"
      }
    },
    {
      "cell_type": "code",
      "source": [
        "def myfunc():\n",
        "  myvar=5\n",
        "\n",
        "\n",
        "print(myvar)"
      ],
      "metadata": {
        "id": "GpQ_hQmCSbOw"
      },
      "execution_count": null,
      "outputs": []
    },
    {
      "cell_type": "markdown",
      "source": [
        "## NOT !\n",
        "Bir kapsam içinde global değişken ile aynı isimde bir değişken tanımlanırsa o yerel değişken olur ve sadece tanımlandığı kapsamda geçerlidir. Global değişkenin değerine bir etkisi olmaz."
      ],
      "metadata": {
        "id": "EThwEm4XTBxg"
      }
    },
    {
      "cell_type": "code",
      "source": [
        "myvar1 = \"hello\"\n",
        "\n",
        "def myfunc():\n",
        "  myvar1 = 5.2\n",
        "\n",
        "\n",
        "print(myvar1) #global"
      ],
      "metadata": {
        "colab": {
          "base_uri": "https://localhost:8080/"
        },
        "id": "O42oOL7HTYTJ",
        "outputId": "bd219eb9-f4a5-404f-ed2c-e92bb84b53f5"
      },
      "execution_count": null,
      "outputs": [
        {
          "output_type": "stream",
          "name": "stdout",
          "text": [
            "5.2\n",
            "hello\n"
          ]
        }
      ]
    },
    {
      "cell_type": "markdown",
      "source": [
        "## NOT !\n",
        "Bir fonksiyon içinde global değişken oluşturmak için \"global\" anahtar kelimesi kullanılır."
      ],
      "metadata": {
        "id": "AU__rgPxTvjH"
      }
    },
    {
      "cell_type": "code",
      "source": [
        "def myfunc():\n",
        "  global myvar1\n",
        "  myvar1 = 5.2\n",
        "\n",
        "\n",
        "print(myvar1) #global"
      ],
      "metadata": {
        "colab": {
          "base_uri": "https://localhost:8080/"
        },
        "id": "WfJsl6UAT1l5",
        "outputId": "55e894f3-3f20-48cf-a831-546325789363"
      },
      "execution_count": null,
      "outputs": [
        {
          "output_type": "stream",
          "name": "stdout",
          "text": [
            "hello\n"
          ]
        }
      ]
    },
    {
      "cell_type": "markdown",
      "source": [
        "## NOT !\n",
        "Bir fonksiyonun içindeki global değişkenin değerini değiştirmek için, \"global\" anahtar kelimesini kullanarak değişkene başvurun"
      ],
      "metadata": {
        "id": "CW8H7PjSUnoB"
      }
    },
    {
      "cell_type": "code",
      "source": [
        "var5 = \"yes\"\n",
        "\n",
        "def myfunction():\n",
        "  global var5\n",
        "  var5=\"no\"\n",
        "\n",
        "print(var5)\n",
        "myfunction()\n",
        "print(var5)\n",
        "var5=\"i dont know\"\n",
        "print(var5)"
      ],
      "metadata": {
        "colab": {
          "base_uri": "https://localhost:8080/"
        },
        "id": "JFIKPEjeUtCv",
        "outputId": "4d65b543-f291-4528-c207-03614c71c9bc"
      },
      "execution_count": null,
      "outputs": [
        {
          "output_type": "stream",
          "name": "stdout",
          "text": [
            "yes\n",
            "no\n",
            "i dont know\n"
          ]
        }
      ]
    }
  ]
}
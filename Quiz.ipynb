{
  "nbformat": 4,
  "nbformat_minor": 0,
  "metadata": {
    "colab": {
      "provenance": []
    },
    "kernelspec": {
      "name": "python3",
      "display_name": "Python 3"
    },
    "language_info": {
      "name": "python"
    }
  },
  "cells": [
    {
      "cell_type": "code",
      "execution_count": 7,
      "metadata": {
        "colab": {
          "base_uri": "https://localhost:8080/",
          "height": 253
        },
        "id": "OJ8QzZGjPiF9",
        "outputId": "076ce357-db39-416d-b15a-b994b6061b89"
      },
      "outputs": [
        {
          "output_type": "error",
          "ename": "NameError",
          "evalue": "name 'averageScore' is not defined",
          "traceback": [
            "\u001b[0;31m---------------------------------------------------------------------------\u001b[0m",
            "\u001b[0;31mNameError\u001b[0m                                 Traceback (most recent call last)",
            "\u001b[0;32m<ipython-input-7-d7a5d0a604ad>\u001b[0m in \u001b[0;36m<cell line: 19>\u001b[0;34m()\u001b[0m\n\u001b[1;32m     17\u001b[0m \u001b[0;34m\u001b[0m\u001b[0m\n\u001b[1;32m     18\u001b[0m \u001b[0;34m\u001b[0m\u001b[0m\n\u001b[0;32m---> 19\u001b[0;31m \u001b[0mupdateStudentAverageScore\u001b[0m\u001b[0;34m(\u001b[0m\u001b[0mstudent1\u001b[0m\u001b[0;34m[\u001b[0m\u001b[0maverageScore\u001b[0m\u001b[0;34m]\u001b[0m\u001b[0;34m)\u001b[0m\u001b[0;34m\u001b[0m\u001b[0;34m\u001b[0m\u001b[0m\n\u001b[0m\u001b[1;32m     20\u001b[0m \u001b[0mprint\u001b[0m\u001b[0;34m(\u001b[0m\u001b[0mstudent1\u001b[0m\u001b[0;34m[\u001b[0m\u001b[0maverageScore\u001b[0m\u001b[0;34m]\u001b[0m\u001b[0;34m)\u001b[0m\u001b[0;34m\u001b[0m\u001b[0;34m\u001b[0m\u001b[0m\n\u001b[1;32m     21\u001b[0m \u001b[0;34m\u001b[0m\u001b[0m\n",
            "\u001b[0;31mNameError\u001b[0m: name 'averageScore' is not defined"
          ]
        }
      ],
      "source": [
        "#Bir öğrenci veritabanı oluşturmak istiyorsunuz.\n",
        "#Her öğrencinin bir adı, bir öğrenci numarası ve bir not ortalaması bulunmaktadır.\n",
        "#Bu bilgileri içeren bir sözlük oluşturun. Daha sonra, bu öğrenci veritabanında bir öğrencinin not\n",
        "#ortalamasını güncellemek için bir Python fonksiyonu yazın. Bu fonksiyon, öğrenci numarasını parametre\n",
        "#olarak almalı ve kullanıcıdan yeni not ortalamasını girmesini istemelidir.\n",
        "#Sonra, sözlükte ilgili öğrencinin not ortalamasını güncellemelidir.\n",
        "\n",
        "\n",
        "\n",
        "student1 = {\"name\":\"şule meşe\",\"no\":1110,\"averageScore\":95}\n",
        "\n",
        "newScore=0\n",
        "\n",
        "def updateStudentAverageScore(yeni):\n",
        "  newScore=90\n",
        "  yeni=newScore\n",
        "\n",
        "\n",
        "updateStudentAverageScore(student1[averageScore])\n",
        "print(student1[averageScore])\n",
        "\n",
        "\n"
      ]
    },
    {
      "cell_type": "markdown",
      "source": [
        "SORU 1\n",
        "\n",
        "Bir öğrenci veritabanı oluşturmak istiyorsunuz. Her öğrencinin bir adı, bir öğrenci numarası ve bir not ortalaması bulunmaktadır. Bu bilgileri içeren bir sözlük oluşturun. Daha sonra, bu öğrenci veritabanında bir öğrencinin not ortalamasını güncellemek için bir Python fonksiyonu yazın. Bu fonksiyon, öğrenci numarasını parametre olarak almalı ve kullanıcıdan yeni not ortalamasını girmesini istemelidir. Sonra, sözlükte ilgili öğrencinin not ortalamasını güncellemelidir.\n",
        "\n",
        "\n",
        "\n"
      ],
      "metadata": {
        "id": "aRKmAhX7RYNx"
      }
    },
    {
      "cell_type": "code",
      "source": [
        "#öğrenci veritabanı (ipucu:iç içe sözlük)\n",
        "öğrenciVeritabanı = {\n",
        "    110:{\"ad\":\"şule\",\"notOrtalaması\":90},\n",
        "    111:{\"ad\":\"yeliz\",\"notOrtalaması\":80},\n",
        "    112:{\"ad\":\"melis\",\"notOrtalaması\":70}\n",
        "}\n",
        "\n",
        "# Not ortalamasını güncellemek için bir fonksiyon\n",
        "def öğrenciNotunuGüncelle(öğrenciNo,yeniNotOrtalaması):\n",
        "  if öğrenciNo in öğrenciVeritabanı:\n",
        "    öğrenciVeritabanı[öğrenciNo][\"notOrtalaması\"]=yeniNotOrtalaması\n",
        "    print(\"{} numaralı öğrencinin notu başarıyla güncellenmiştir!\".format(öğrenciNo))\n",
        "\n",
        "  else:\n",
        "    print(\"Bu no ile kayıtlı öğrenci bulunmamaktadır!\")\n",
        "\n",
        "# Kullanıcıdan bilgi alınması\n",
        "ogrenci_no = int(input(\"Not ortalamasını güncellemek istediğiniz öğrencinin numarasını girin: \"))\n",
        "yeni_not = float(input(\"Yeni not ortalamasını girin: \"))\n",
        "\n",
        "# Fonksiyonu çağırın\n",
        "öğrenciNotunuGüncelle(ogrenci_no, yeni_not)\n",
        "\n",
        "#kontrol\n",
        "print(öğrenciVeritabanı[110][\"notOrtalaması\"])\n",
        "\n",
        "\n",
        "\n",
        "\n",
        "\n"
      ],
      "metadata": {
        "colab": {
          "base_uri": "https://localhost:8080/"
        },
        "id": "DCxx-_sTRbRo",
        "outputId": "01b9e555-90ee-41b1-f589-cc35b881c5c5"
      },
      "execution_count": 11,
      "outputs": [
        {
          "output_type": "stream",
          "name": "stdout",
          "text": [
            "Not ortalamasını güncellemek istediğiniz öğrencinin numarasını girin: 110\n",
            "Yeni not ortalamasını girin: 98\n",
            "110 numaralı öğrencinin notu başarıyla güncellenmiştir!\n",
            "98.0\n"
          ]
        }
      ]
    }
  ]
}
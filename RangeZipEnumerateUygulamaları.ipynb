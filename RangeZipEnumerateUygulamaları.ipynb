{
  "nbformat": 4,
  "nbformat_minor": 0,
  "metadata": {
    "colab": {
      "provenance": []
    },
    "kernelspec": {
      "name": "python3",
      "display_name": "Python 3"
    },
    "language_info": {
      "name": "python"
    }
  },
  "cells": [
    {
      "cell_type": "markdown",
      "source": [
        "#Range İşlevi\n",
        "\n",
        "range() fonksiyonu belirli aralıkta bulunan sayıları göstermek için kullanılır."
      ],
      "metadata": {
        "id": "2V8qohpH-j-n"
      }
    },
    {
      "cell_type": "markdown",
      "source": [
        "1 parametre verilirse 0 dan başlar , parametreye kadar devam eder.\n",
        "\n",
        "* range(bitiş)"
      ],
      "metadata": {
        "id": "DTxtHJfe_KRl"
      }
    },
    {
      "cell_type": "code",
      "execution_count": 4,
      "metadata": {
        "colab": {
          "base_uri": "https://localhost:8080/"
        },
        "id": "Kms6oULA-jiV",
        "outputId": "f538437b-b45f-46a2-878c-2b5ff5b25e5c"
      },
      "outputs": [
        {
          "output_type": "stream",
          "name": "stdout",
          "text": [
            "0\n",
            "1\n",
            "2\n",
            "3\n",
            "4\n",
            "5\n",
            "6\n",
            "7\n",
            "8\n",
            "9\n"
          ]
        }
      ],
      "source": [
        "for x in range(10):\n",
        "  print(x)"
      ]
    },
    {
      "cell_type": "markdown",
      "source": [
        "2 parametre verilirse 1. parametreden başlar , 2. parametreye kadar devam eder.\n",
        "\n",
        "* range(başlangıç,bitiş)"
      ],
      "metadata": {
        "id": "wFgdWeae_SGA"
      }
    },
    {
      "cell_type": "code",
      "source": [
        "for x in range(2,10):\n",
        "  print(x)"
      ],
      "metadata": {
        "colab": {
          "base_uri": "https://localhost:8080/"
        },
        "id": "xnAXgDNv_Y_e",
        "outputId": "231fbd9b-274e-46f9-edb9-238653dd6333"
      },
      "execution_count": 3,
      "outputs": [
        {
          "output_type": "stream",
          "name": "stdout",
          "text": [
            "2\n",
            "3\n",
            "4\n",
            "5\n",
            "6\n",
            "7\n",
            "8\n",
            "9\n"
          ]
        }
      ]
    },
    {
      "cell_type": "markdown",
      "source": [
        "3 parametre verilirse 1. parametreden 2. parametreye kadar 3. parametre kadar atlama yaparak devam eder.\n",
        "\n",
        "* range(başlangıç,bitiş,artış)"
      ],
      "metadata": {
        "id": "CmrKOg5a_gpK"
      }
    },
    {
      "cell_type": "code",
      "source": [
        "for x in range(2,10,2):\n",
        "  print(x)"
      ],
      "metadata": {
        "colab": {
          "base_uri": "https://localhost:8080/"
        },
        "id": "V0vcUHJM_liv",
        "outputId": "7ec1c9e6-a80f-41a7-f2df-e016116c54c4"
      },
      "execution_count": 5,
      "outputs": [
        {
          "output_type": "stream",
          "name": "stdout",
          "text": [
            "2\n",
            "4\n",
            "6\n",
            "8\n"
          ]
        }
      ]
    },
    {
      "cell_type": "markdown",
      "source": [
        "Range başka bir iterable türüne dönüştürülebilir. (örneğin liste)"
      ],
      "metadata": {
        "id": "mRh9eu_S_n-5"
      }
    },
    {
      "cell_type": "code",
      "source": [
        "list(range(10))"
      ],
      "metadata": {
        "colab": {
          "base_uri": "https://localhost:8080/"
        },
        "id": "WRO1Sb-8_r5p",
        "outputId": "40a66dc6-30fe-4166-e1c9-760101923253"
      },
      "execution_count": 6,
      "outputs": [
        {
          "output_type": "execute_result",
          "data": {
            "text/plain": [
              "[0, 1, 2, 3, 4, 5, 6, 7, 8, 9]"
            ]
          },
          "metadata": {},
          "execution_count": 6
        }
      ]
    },
    {
      "cell_type": "code",
      "source": [
        "[*range(10)] #broadcasting ile liste çevrim"
      ],
      "metadata": {
        "colab": {
          "base_uri": "https://localhost:8080/"
        },
        "id": "OrIJVe7Q_6om",
        "outputId": "4e483c76-22a0-4309-cfa1-4868a476987b"
      },
      "execution_count": 7,
      "outputs": [
        {
          "output_type": "execute_result",
          "data": {
            "text/plain": [
              "[0, 1, 2, 3, 4, 5, 6, 7, 8, 9]"
            ]
          },
          "metadata": {},
          "execution_count": 7
        }
      ]
    },
    {
      "cell_type": "code",
      "source": [
        "#örnek :Girilen parola 5 ile 8 karakter arasındaysa \"Parolanız kabul edildi, \", değilse \"parolanız kabul edilmedi\" mesajını ekrana yazan Python kodlarını yazınız.\n",
        "\n",
        "def parolaKontrol(parola):\n",
        "  if len(parola) in range(5,9):\n",
        "    print(\"Parolanız kabul edildi\")\n",
        "  else:\n",
        "    print(\"parolanız kabul edilmedi\")\n",
        "\n",
        "parolaKontrol(\"abc456\")\n",
        "parolaKontrol(\"3575839490\")"
      ],
      "metadata": {
        "colab": {
          "base_uri": "https://localhost:8080/"
        },
        "id": "9L6x7ckjBHqO",
        "outputId": "672613f1-2172-44c2-de64-a42f3506d966"
      },
      "execution_count": 10,
      "outputs": [
        {
          "output_type": "stream",
          "name": "stdout",
          "text": [
            "Parolanız kabul edildi\n",
            "parolanız kabul edilmedi\n"
          ]
        }
      ]
    },
    {
      "cell_type": "markdown",
      "source": [
        "#ENUMERATE\n",
        "enumerate() fonksiyonu, bir veri kümesindeki her bir öğenin indeksini ve değerini birlikte döndürmek için kullanılır. Yani örneğin elimizde bir liste olsun. Enumerate() bu listeyi ilk elemanı indeks ikinci elemanı liste öğesi olan bir tuple'a dönüştürür."
      ],
      "metadata": {
        "id": "y0rYQ70BAeoK"
      }
    },
    {
      "cell_type": "code",
      "source": [
        "harfler = [\"a\",\"b\",\"c\",\"d\"]\n",
        "for harf in enumerate(harfler):\n",
        "  print(harf)"
      ],
      "metadata": {
        "colab": {
          "base_uri": "https://localhost:8080/"
        },
        "id": "ijbLbKFKCwbW",
        "outputId": "2092d842-3cbb-4063-cd63-270796ea8695"
      },
      "execution_count": 12,
      "outputs": [
        {
          "output_type": "stream",
          "name": "stdout",
          "text": [
            "(0, 'a')\n",
            "(1, 'b')\n",
            "(2, 'c')\n",
            "(3, 'd')\n"
          ]
        }
      ]
    },
    {
      "cell_type": "code",
      "source": [
        "harfler = [\"a\",\"b\",\"c\",\"d\"]\n",
        "for indeks,harf in enumerate(harfler):\n",
        "  print(\"{}. harf:{}\".format(indeks+1,harf))"
      ],
      "metadata": {
        "colab": {
          "base_uri": "https://localhost:8080/"
        },
        "id": "XXB-MGmoDHLu",
        "outputId": "ec7c1f20-cd14-4425-c882-7ce115cc4e4e"
      },
      "execution_count": 15,
      "outputs": [
        {
          "output_type": "stream",
          "name": "stdout",
          "text": [
            "1. harf:a\n",
            "2. harf:b\n",
            "3. harf:c\n",
            "4. harf:d\n"
          ]
        }
      ]
    },
    {
      "cell_type": "markdown",
      "source": [
        "#ZİP\n",
        "zip() fonksiyonu iki veya daha liste içerisinde tek hamleyle gezmeye imkan tanır."
      ],
      "metadata": {
        "id": "t-APYmqUDoku"
      }
    },
    {
      "cell_type": "code",
      "source": [
        "ülkeler = [\"almanya\",\"fransa\",\"ingiltere\",\"türkiye\"]\n",
        "diller=[\"almanca\",\"fransızca\",\"ingilizce\",\"türkçe\"]\n",
        "\n",
        "for x,y in zip(ülkeler,diller):\n",
        "  print(\"{} ülkesinde kullanılan dil {} dir.\".format(x,y))"
      ],
      "metadata": {
        "colab": {
          "base_uri": "https://localhost:8080/"
        },
        "id": "ChcJc_MoD4VC",
        "outputId": "3e08b7c1-538d-48dd-a117-bddbe36f7438"
      },
      "execution_count": 16,
      "outputs": [
        {
          "output_type": "stream",
          "name": "stdout",
          "text": [
            "almanya ülkesinde kullanılan dil almanca dir.\n",
            "fransa ülkesinde kullanılan dil fransızca dir.\n",
            "ingiltere ülkesinde kullanılan dil ingilizce dir.\n",
            "türkiye ülkesinde kullanılan dil türkçe dir.\n"
          ]
        }
      ]
    },
    {
      "cell_type": "code",
      "source": [
        "ülkeler=[\"almanya\",\"fransa\",\"ingiltere\",\"türkiye\"]\n",
        "siralamalar = range(1,5)\n",
        "\n",
        "for siralama,ülke in zip(siralamalar,ülkeler):\n",
        "  print(\"{}. ülke : {}\".format(siralama,ülke))"
      ],
      "metadata": {
        "colab": {
          "base_uri": "https://localhost:8080/"
        },
        "id": "GnN-A5nxETwm",
        "outputId": "95e04ab0-5bfe-4e4c-c7d3-7a3e307384ac"
      },
      "execution_count": 17,
      "outputs": [
        {
          "output_type": "stream",
          "name": "stdout",
          "text": [
            "1. ülke : almanya\n",
            "2. ülke : fransa\n",
            "3. ülke : ingiltere\n",
            "4. ülke : türkiye\n"
          ]
        }
      ]
    },
    {
      "cell_type": "code",
      "source": [
        "student1 = {\"name\":\"şule\",\"age\":19}\n",
        "lesson1={\"name\":\"python\",\"credit\":3}\n",
        "\n",
        "for x,y,z,k in zip(student1.keys(),lesson1.keys(),student1.values(),lesson1.values()):\n",
        "  print(x,z)\n",
        "  print(y,k)\n"
      ],
      "metadata": {
        "colab": {
          "base_uri": "https://localhost:8080/"
        },
        "id": "ZPnNddATE9Tn",
        "outputId": "cbaf4225-be9c-430d-b38a-2d7ba8d40916"
      },
      "execution_count": 27,
      "outputs": [
        {
          "output_type": "stream",
          "name": "stdout",
          "text": [
            "name şule\n",
            "name python\n",
            "age 19\n",
            "credit 3\n"
          ]
        }
      ]
    }
  ]
}
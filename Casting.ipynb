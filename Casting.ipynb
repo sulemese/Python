{
  "nbformat": 4,
  "nbformat_minor": 0,
  "metadata": {
    "colab": {
      "provenance": []
    },
    "kernelspec": {
      "name": "python3",
      "display_name": "Python 3"
    },
    "language_info": {
      "name": "python"
    }
  },
  "cells": [
    {
      "cell_type": "markdown",
      "source": [
        "# Casting (Tür Dönüşümü)"
      ],
      "metadata": {
        "id": "OHWZ3prqlqPl"
      }
    },
    {
      "cell_type": "markdown",
      "source": [
        "Değişkeni tanımlarken türünü de belirtmek isteyebiliriz. Casting değişkenin türünü belirtmeye yarar.\n",
        "Tür belirtmek için veri türlerinin sınıflarında bulunan yapıcı metodları kullanılır."
      ],
      "metadata": {
        "id": "QxpoYdqXk-nn"
      }
    },
    {
      "cell_type": "code",
      "source": [
        "x = int(1)   # x will be 1\n",
        "y = int(2.8) # y will be 2\n",
        "z = int(\"3\") # z will be 3"
      ],
      "metadata": {
        "id": "SaHTcKanlRT9"
      },
      "execution_count": 1,
      "outputs": []
    },
    {
      "cell_type": "code",
      "source": [
        "x = float(1)     # x will be 1.0\n",
        "y = float(2.8)   # y will be 2.8\n",
        "z = float(\"3\")   # z will be 3.0\n",
        "w = float(\"4.2\") # w will be 4.2"
      ],
      "metadata": {
        "id": "YMhh1X7QlVM1"
      },
      "execution_count": 2,
      "outputs": []
    },
    {
      "cell_type": "code",
      "source": [
        "x = str(\"s1\") # x will be 's1'\n",
        "y = str(2)    # y will be '2'\n",
        "z = str(3.0)  # z will be '3.0'"
      ],
      "metadata": {
        "id": "tZG4-nIJlYFl"
      },
      "execution_count": 3,
      "outputs": []
    }
  ]
}
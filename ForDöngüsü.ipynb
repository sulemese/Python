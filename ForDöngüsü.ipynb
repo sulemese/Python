{
  "nbformat": 4,
  "nbformat_minor": 0,
  "metadata": {
    "colab": {
      "provenance": []
    },
    "kernelspec": {
      "name": "python3",
      "display_name": "Python 3"
    },
    "language_info": {
      "name": "python"
    }
  },
  "cells": [
    {
      "cell_type": "markdown",
      "source": [
        "Bir for döngüsü, bir dizi ( list,tuple,dictionary,set,string) üzerinde yineleme yapmak için kullanılır.\n",
        "\n",
        "\n",
        "For döngüsüyle bir liste, tuple, set vb. içindeki her öğe için bir dizi ifadeyi bir kez çalıştırabiliriz."
      ],
      "metadata": {
        "id": "atavUM3pw0Ct"
      }
    },
    {
      "cell_type": "markdown",
      "source": [
        "# Dizi İçinde Dolaşmak"
      ],
      "metadata": {
        "id": "zpQeueGnxnN9"
      }
    },
    {
      "cell_type": "code",
      "execution_count": null,
      "metadata": {
        "colab": {
          "base_uri": "https://localhost:8080/"
        },
        "id": "o1oQpOd1vNt6",
        "outputId": "84bba80e-3458-4f1d-b2f6-797cd4b54851"
      },
      "outputs": [
        {
          "output_type": "stream",
          "name": "stdout",
          "text": [
            "elma\n",
            "armut\n",
            "kiraz\n"
          ]
        }
      ],
      "source": [
        "fruits = [\"elma\",\"armut\",\"kiraz\"]\n",
        "for x in fruits:\n",
        "  print(x)"
      ]
    },
    {
      "cell_type": "markdown",
      "source": [
        "#String İçinde Dolaşmak"
      ],
      "metadata": {
        "id": "Loz1g1IcxlCu"
      }
    },
    {
      "cell_type": "code",
      "source": [
        "string = \"banana\"\n",
        "\n",
        "for x in string:\n",
        "  print(x)"
      ],
      "metadata": {
        "colab": {
          "base_uri": "https://localhost:8080/"
        },
        "id": "Rfp49aT0xfeN",
        "outputId": "e4d4d6ab-b85f-4100-f2d5-895631cf50a7"
      },
      "execution_count": null,
      "outputs": [
        {
          "output_type": "stream",
          "name": "stdout",
          "text": [
            "b\n",
            "a\n",
            "n\n",
            "a\n",
            "n\n",
            "a\n"
          ]
        }
      ]
    },
    {
      "cell_type": "markdown",
      "source": [
        "#Break Deyimi"
      ],
      "metadata": {
        "id": "xgvMJgQMxuAN"
      }
    },
    {
      "cell_type": "markdown",
      "source": [
        "Break deyimi döngüyü kırmaya yarar."
      ],
      "metadata": {
        "id": "w0nFZFBfxv5F"
      }
    },
    {
      "cell_type": "code",
      "source": [
        "liste = [\"a\",\"b\",\"c\"]\n",
        "for x in liste:\n",
        "  print(x)\n",
        "\n",
        "  if x == \"b\":\n",
        "    break  #for döngüsünden çıkar."
      ],
      "metadata": {
        "colab": {
          "base_uri": "https://localhost:8080/"
        },
        "id": "X16dU5oAx5GA",
        "outputId": "c4cae23e-9c9b-4cbd-f1e8-ba1349db1f97"
      },
      "execution_count": null,
      "outputs": [
        {
          "output_type": "stream",
          "name": "stdout",
          "text": [
            "a\n",
            "b\n"
          ]
        }
      ]
    },
    {
      "cell_type": "markdown",
      "source": [
        "# Continue Deyimi\n"
      ],
      "metadata": {
        "id": "8AvsdHw3zKky"
      }
    },
    {
      "cell_type": "markdown",
      "source": [
        "Python'da \"continue\" deyimi , döngü içinde bir koşul oluştuğunda o döngüyü tamamlamadan bir sonraki kademeye geçmeye yarar."
      ],
      "metadata": {
        "id": "Rhm5XIvRzW7F"
      }
    },
    {
      "cell_type": "code",
      "source": [
        "fruits = [\"apple\",\"banana\",\"kiwi\",\"orange\"]\n",
        "for x in fruits:\n",
        "  if x == \"banana\":\n",
        "    continue\n",
        "  print(x)"
      ],
      "metadata": {
        "id": "xBLM4jfOy9hu",
        "colab": {
          "base_uri": "https://localhost:8080/"
        },
        "outputId": "b5efd37a-fe1a-4544-c792-d8db1bec047c"
      },
      "execution_count": 1,
      "outputs": [
        {
          "output_type": "stream",
          "name": "stdout",
          "text": [
            "apple\n",
            "kiwi\n",
            "orange\n"
          ]
        }
      ]
    },
    {
      "cell_type": "markdown",
      "source": [
        "#Range İşlevi"
      ],
      "metadata": {
        "id": "xYL2wLL_SvM7"
      }
    },
    {
      "cell_type": "markdown",
      "source": [
        "Bir kod kümesinde belirli sayıda döngü yapmak için range() işlevini kullanabiliriz ,\n",
        "range () işlevi, varsayılan olarak 0'dan başlayan ve 1 (varsayılan olarak) artan ve belirtilen sayıda biten bir sayı dizisi döndürür."
      ],
      "metadata": {
        "id": "xONAhChQS3HV"
      }
    },
    {
      "cell_type": "code",
      "source": [
        "for x in range(5): #bitiş indeksi\n",
        "  print(x)"
      ],
      "metadata": {
        "colab": {
          "base_uri": "https://localhost:8080/"
        },
        "id": "YPzNch_mS360",
        "outputId": "b39a9b77-61b7-427d-a451-11f911f28603"
      },
      "execution_count": 4,
      "outputs": [
        {
          "output_type": "stream",
          "name": "stdout",
          "text": [
            "0\n",
            "1\n",
            "2\n",
            "3\n",
            "4\n"
          ]
        }
      ]
    },
    {
      "cell_type": "code",
      "source": [
        "for x in range(2,5): #başlangıç indeksi - bitiş indeksi\n",
        "  print(x)"
      ],
      "metadata": {
        "colab": {
          "base_uri": "https://localhost:8080/"
        },
        "id": "zjm2NVHWTIVT",
        "outputId": "470e85fb-c31c-4908-e299-f83cb84ac296"
      },
      "execution_count": 3,
      "outputs": [
        {
          "output_type": "stream",
          "name": "stdout",
          "text": [
            "2\n",
            "3\n",
            "4\n"
          ]
        }
      ]
    },
    {
      "cell_type": "code",
      "source": [
        "for x in range(2,10,2): #başlangıç indeksi - bitiş indeksi - artış miktarı\n",
        "  print(x)"
      ],
      "metadata": {
        "colab": {
          "base_uri": "https://localhost:8080/"
        },
        "id": "pqlAHiOETS2b",
        "outputId": "84338cf0-4230-421c-e1ce-3d8ff048fbee"
      },
      "execution_count": 5,
      "outputs": [
        {
          "output_type": "stream",
          "name": "stdout",
          "text": [
            "2\n",
            "4\n",
            "6\n",
            "8\n"
          ]
        }
      ]
    },
    {
      "cell_type": "markdown",
      "source": [
        "#Else Deyimi"
      ],
      "metadata": {
        "id": "Hyw5fHZaTqCM"
      }
    },
    {
      "cell_type": "markdown",
      "source": [
        " Döngüdeki else anahtar kelimesi, for döngüsü tamamlandığında yürütülecek kod bloğunu belirtir:"
      ],
      "metadata": {
        "id": "JHw8307bTsRM"
      }
    },
    {
      "cell_type": "code",
      "source": [
        "#tüm sözlük değerlerini yazdırın ve döngü sona erdiğinde bir mesaj yazdırın:\n",
        "dictionary1 = {\"name\":\"şule\",\"age\":\"19\",\"status\":\"student\"}\n",
        "for x in dictionary1.values():\n",
        "  print(x)\n",
        "else:\n",
        "  print(\"işlem başarıyla tamamlandı\")"
      ],
      "metadata": {
        "colab": {
          "base_uri": "https://localhost:8080/"
        },
        "id": "ukD0l-VJT8DH",
        "outputId": "cb5e86ed-b336-4165-83b0-67ad33d12ed9"
      },
      "execution_count": 6,
      "outputs": [
        {
          "output_type": "stream",
          "name": "stdout",
          "text": [
            "şule\n",
            "19\n",
            "student\n",
            "işlem başarıyla tamamlandı\n"
          ]
        }
      ]
    },
    {
      "cell_type": "markdown",
      "source": [
        "Eğer döngü break komutu ile durdurulursa else bloğu çalışmayacaktır."
      ],
      "metadata": {
        "id": "GdBrEwdqUjd8"
      }
    },
    {
      "cell_type": "code",
      "source": [
        "#tüm sözlük değerlerini yazdırın ve döngü sona erdiğinde bir mesaj yazdırın:\n",
        "dictionary1 = {\"name\":\"şule\",\"age\":\"19\",\"status\":\"student\"}\n",
        "for x in dictionary1.values():\n",
        "  if x == \"student\":\n",
        "    break\n",
        "  print(x)\n",
        "else:\n",
        "  print(\"işlem başarıyla tamamlandı\")"
      ],
      "metadata": {
        "colab": {
          "base_uri": "https://localhost:8080/"
        },
        "id": "CMWpJbONUn5P",
        "outputId": "b9cbd4b9-32af-4322-e25c-879cbc97f0b4"
      },
      "execution_count": 7,
      "outputs": [
        {
          "output_type": "stream",
          "name": "stdout",
          "text": [
            "şule\n",
            "19\n"
          ]
        }
      ]
    },
    {
      "cell_type": "markdown",
      "source": [
        "#İç İçe Döngüler"
      ],
      "metadata": {
        "id": "XwOyPaU4VBZM"
      }
    },
    {
      "cell_type": "markdown",
      "source": [
        "Bir döngü yapısının içine başka bir döngü yapısının yerleştirilmesiyle elde edilen yapıya iç içe döngü (nested loop) adı verilir.\n",
        "\n",
        "\"İç döngü\", \"dış döngü\"nün her yinelemesinde bir kez yürütülecektir:"
      ],
      "metadata": {
        "id": "grGJpsPTVDkM"
      }
    },
    {
      "cell_type": "code",
      "source": [
        "#Her meyve için her sıfatı yazdırın:\n",
        "\n",
        "adj = [\"red\", \"big\", \"tasty\"]\n",
        "fruits = [\"apple\", \"banana\", \"cherry\"]\n",
        "\n",
        "for x in adj:\n",
        "  for y in fruits:\n",
        "    print(x, y)"
      ],
      "metadata": {
        "colab": {
          "base_uri": "https://localhost:8080/"
        },
        "id": "ykOg4F9IVSon",
        "outputId": "0af710c5-86e6-4f98-ca5f-865ece9674f0"
      },
      "execution_count": 9,
      "outputs": [
        {
          "output_type": "stream",
          "name": "stdout",
          "text": [
            "red apple\n",
            "red banana\n",
            "red cherry\n",
            "big apple\n",
            "big banana\n",
            "big cherry\n",
            "tasty apple\n",
            "tasty banana\n",
            "tasty cherry\n"
          ]
        }
      ]
    },
    {
      "cell_type": "markdown",
      "source": [
        "#Pass"
      ],
      "metadata": {
        "id": "a2XFz3fsVvhc"
      }
    },
    {
      "cell_type": "markdown",
      "source": [
        "For döngüleri boş olamaz. Boş olacaksa içine \"pass\" anahtar kelimesi yerleştirilir."
      ],
      "metadata": {
        "id": "U-uzWpLvVyZs"
      }
    },
    {
      "cell_type": "code",
      "source": [
        "for x in range(5):\n",
        "  pass"
      ],
      "metadata": {
        "id": "iE78pWqHV7dc"
      },
      "execution_count": 10,
      "outputs": []
    },
    {
      "cell_type": "markdown",
      "source": [
        "\n",
        "\n",
        "---\n",
        "\n"
      ],
      "metadata": {
        "id": "91kukl88ZIsU"
      }
    },
    {
      "cell_type": "code",
      "source": [
        "#quiz\n",
        "def yearToCentury(year):\n",
        "  strYear = str(year)\n",
        "\n",
        "  if len(strYear) < 3: #yıl 2 basamaklı ise\n",
        "    return 1\n",
        "\n",
        "\n",
        "  elif len(strYear)==3: #yıl 3 basamaklı ise\n",
        "    if(strYear[1:3]==\"00\"):\n",
        "      return int(strYear[0])\n",
        "    else:\n",
        "      return int(strYear[0])+1\n",
        "\n",
        "\n",
        "  elif len(strYear)==4: #yıl 4 basamaklı ise\n",
        "    if strYear[2:4]==\"00\":\n",
        "      return int(strYear[0:2])\n",
        "    else:\n",
        "      return int(strYear[0:2])+1\n",
        "\n",
        "print(yearToCentury(2100))"
      ],
      "metadata": {
        "colab": {
          "base_uri": "https://localhost:8080/"
        },
        "id": "yFrGhTyKWLTj",
        "outputId": "f1c82660-c82d-4f4d-edd9-9b17fab9042f"
      },
      "execution_count": 15,
      "outputs": [
        {
          "output_type": "stream",
          "name": "stdout",
          "text": [
            "21\n"
          ]
        }
      ]
    },
    {
      "cell_type": "code",
      "source": [
        "#stringi boşluk karakterine göre bölümleyerek for ile elemanlarını yazdırın.\n",
        "for x in \"python is a good programming language\".split():\n",
        "  print(x)"
      ],
      "metadata": {
        "colab": {
          "base_uri": "https://localhost:8080/"
        },
        "id": "22ITnAE9ZLa-",
        "outputId": "52896d7d-6531-4527-85c7-a69b2b6cd6f3"
      },
      "execution_count": 16,
      "outputs": [
        {
          "output_type": "stream",
          "name": "stdout",
          "text": [
            "python\n",
            "is\n",
            "a\n",
            "good\n",
            "programming\n",
            "language\n"
          ]
        }
      ]
    },
    {
      "cell_type": "code",
      "source": [
        "#liste elemanlarının toplamını bulun.\n",
        "liste=[1,2,3,5,6,78]\n",
        "count=0\n",
        "for x in liste:\n",
        "  count+=x\n",
        "print(count)"
      ],
      "metadata": {
        "colab": {
          "base_uri": "https://localhost:8080/"
        },
        "id": "HAKhMGctZqw8",
        "outputId": "f7cc4b08-02ed-48cb-8716-7f3efded4f22"
      },
      "execution_count": 17,
      "outputs": [
        {
          "output_type": "stream",
          "name": "stdout",
          "text": [
            "95\n"
          ]
        }
      ]
    },
    {
      "cell_type": "code",
      "source": [
        "#verilen listedeki en küçük sayıyı bulun.\n",
        "liste = [1,2,3,4,5,64,23,67,21,-500,23,451,67]\n",
        "\n",
        "minNumber = liste[0]\n",
        "\n",
        "for x in liste:\n",
        "  if x<minNumber:\n",
        "    minNumber=x\n",
        "  else:\n",
        "    continue\n",
        "\n",
        "print(minNumber)\n"
      ],
      "metadata": {
        "colab": {
          "base_uri": "https://localhost:8080/"
        },
        "id": "7txdOZ-1air8",
        "outputId": "bb0afad6-2621-410c-c8bc-7e03424ec6e2"
      },
      "execution_count": 19,
      "outputs": [
        {
          "output_type": "stream",
          "name": "stdout",
          "text": [
            "-500\n"
          ]
        }
      ]
    },
    {
      "cell_type": "code",
      "source": [
        "kullanicilar = [\"ali\",\"ayşe\",\"yavuz\",\"erdem\"]\n",
        "kullaniciSayisi=0\n",
        "\n",
        "for kullanici in kullanicilar:\n",
        "  kullaniciSayisi+=1\n",
        "  print(\"{}. kullanici : {}\".format(kullaniciSayisi,kullanici))\n",
        "\n"
      ],
      "metadata": {
        "colab": {
          "base_uri": "https://localhost:8080/"
        },
        "id": "xpqBySvcdeEF",
        "outputId": "a2ec4651-bfb2-4442-e910-2c7893387c31"
      },
      "execution_count": 22,
      "outputs": [
        {
          "output_type": "stream",
          "name": "stdout",
          "text": [
            "1. kullanici : ali\n",
            "2. kullanici : ayşe\n",
            "3. kullanici : yavuz\n",
            "4. kullanici : erdem\n"
          ]
        }
      ]
    },
    {
      "cell_type": "code",
      "source": [
        "kullanicilar = [\"ali kılınç\",\"ayşe durmaz\",\"yavuz eroğlu\",\"erdem inan\"]\n",
        "kullaniciSayisi=0\n",
        "\n",
        "for kullanici in kullanicilar:\n",
        "  kullaniciSayisi+=1\n",
        "  ad = kullanici.split()[0]\n",
        "  soyad = kullanici.split()[1]\n",
        "  print(\"{}. Kullanıcının Adı:{} Soyadı:{}\".format(kullaniciSayisi,ad,soyad))\n",
        "\n"
      ],
      "metadata": {
        "colab": {
          "base_uri": "https://localhost:8080/"
        },
        "id": "fze6vNNBfjlF",
        "outputId": "771d7e27-e674-45fb-bcfb-405fd5f009b6"
      },
      "execution_count": 26,
      "outputs": [
        {
          "output_type": "stream",
          "name": "stdout",
          "text": [
            "1. Kullanıcının Adı:ali Soyadı:kılınç\n",
            "2. Kullanıcının Adı:ayşe Soyadı:durmaz\n",
            "3. Kullanıcının Adı:yavuz Soyadı:eroğlu\n",
            "4. Kullanıcının Adı:erdem Soyadı:inan\n"
          ]
        }
      ]
    },
    {
      "cell_type": "code",
      "source": [
        "users=[\"emily june\",\"john wick\",\"dan cairo\",\"emma stone\"]\n",
        "moderator=\"emily june\"\n",
        "userCount=0\n",
        "moderatorCount=0\n",
        "\n",
        "for user in users:\n",
        "\n",
        "    if user == moderator:\n",
        "      moderatorCount+=1\n",
        "      ad = moderator.split()[0]\n",
        "      soyad = moderator.split()[1]\n",
        "      print(moderatorCount,\"moderator:\",ad,soyad)\n",
        "    else:\n",
        "      userCount+=1\n",
        "      ad = user.split()[0]\n",
        "      soyad=user.split()[1]\n",
        "      print(userCount,\"user:\",ad,soyad)"
      ],
      "metadata": {
        "colab": {
          "base_uri": "https://localhost:8080/"
        },
        "id": "m49JnrBOhmx-",
        "outputId": "3325eda3-a06d-4589-99af-bbcdfcdc022f"
      },
      "execution_count": 2,
      "outputs": [
        {
          "output_type": "stream",
          "name": "stdout",
          "text": [
            "1 moderator: emily june\n",
            "1 user: john wick\n",
            "2 user: dan cairo\n",
            "3 user: emma stone\n"
          ]
        }
      ]
    },
    {
      "cell_type": "code",
      "source": [
        "tup1 = (1,3,5,7)\n",
        "for x in tup1:\n",
        "  print(x)"
      ],
      "metadata": {
        "colab": {
          "base_uri": "https://localhost:8080/"
        },
        "id": "R1mCuZip4w_X",
        "outputId": "0d4dcf49-7788-4f1e-aa3f-35bb4d29b004"
      },
      "execution_count": 1,
      "outputs": [
        {
          "output_type": "stream",
          "name": "stdout",
          "text": [
            "1\n",
            "3\n",
            "5\n",
            "7\n"
          ]
        }
      ]
    },
    {
      "cell_type": "code",
      "source": [
        "liste=[[1,2],[3,4]]\n",
        "for x in liste:\n",
        "  print(x)\n"
      ],
      "metadata": {
        "colab": {
          "base_uri": "https://localhost:8080/"
        },
        "id": "Qv5TUI0C7j7f",
        "outputId": "6dfd034b-a915-4dfc-ea25-91aaf8ec33d8"
      },
      "execution_count": 3,
      "outputs": [
        {
          "output_type": "stream",
          "name": "stdout",
          "text": [
            "[1, 2]\n",
            "[3, 4]\n"
          ]
        }
      ]
    },
    {
      "cell_type": "code",
      "source": [
        "liste=[[1,2],[3,4]]\n",
        "for x,y in liste:\n",
        "  print(x)\n",
        "\n"
      ],
      "metadata": {
        "colab": {
          "base_uri": "https://localhost:8080/"
        },
        "id": "pFuKl2YD8Kan",
        "outputId": "8a376ba4-f1f2-407f-b80b-b0d5f6b315b4"
      },
      "execution_count": 5,
      "outputs": [
        {
          "output_type": "stream",
          "name": "stdout",
          "text": [
            "1\n",
            "3\n"
          ]
        }
      ]
    },
    {
      "cell_type": "code",
      "source": [
        "liste=[[1,2],[3,4]]\n",
        "for x,y in liste:\n",
        "  print(y)\n"
      ],
      "metadata": {
        "colab": {
          "base_uri": "https://localhost:8080/"
        },
        "id": "lULBHsI18PXu",
        "outputId": "c96ce968-7802-4ea5-a22d-9fbdf8a5e356"
      },
      "execution_count": 6,
      "outputs": [
        {
          "output_type": "stream",
          "name": "stdout",
          "text": [
            "2\n",
            "4\n"
          ]
        }
      ]
    },
    {
      "cell_type": "code",
      "source": [
        "liste=[[1,2,3],[3,4,5]]\n",
        "for x,y,z in liste:\n",
        "  print(x)\n",
        "\n"
      ],
      "metadata": {
        "colab": {
          "base_uri": "https://localhost:8080/"
        },
        "id": "5hoSS7m68U4u",
        "outputId": "7b6adea0-d9b6-440c-926a-adba91d0614c"
      },
      "execution_count": 7,
      "outputs": [
        {
          "output_type": "stream",
          "name": "stdout",
          "text": [
            "1\n",
            "3\n"
          ]
        }
      ]
    },
    {
      "cell_type": "code",
      "source": [
        "liste=[[1,2,3],[3,4,5]]\n",
        "for x,y,z in liste:\n",
        "  print(y)\n",
        "\n"
      ],
      "metadata": {
        "colab": {
          "base_uri": "https://localhost:8080/"
        },
        "id": "YfSRu_9z8Z9O",
        "outputId": "cad20716-e8eb-4e3f-c6ec-d8224460de06"
      },
      "execution_count": 8,
      "outputs": [
        {
          "output_type": "stream",
          "name": "stdout",
          "text": [
            "2\n",
            "4\n"
          ]
        }
      ]
    },
    {
      "cell_type": "code",
      "source": [
        "liste=[[1,2,3],[3,4,5]]\n",
        "for x,y,z in liste:\n",
        "  print(z)\n",
        "\n"
      ],
      "metadata": {
        "colab": {
          "base_uri": "https://localhost:8080/"
        },
        "id": "S4RTIqOb8buf",
        "outputId": "739c6900-4940-4b8b-a9c5-e469049f5331"
      },
      "execution_count": 9,
      "outputs": [
        {
          "output_type": "stream",
          "name": "stdout",
          "text": [
            "3\n",
            "5\n"
          ]
        }
      ]
    },
    {
      "cell_type": "code",
      "source": [
        "kullanici1 = {\"ad\":\"Naz\",\"soyad\":\"Yağcıoğlu\"}\n",
        "print(kullanici1)\n",
        "print(kullanici1.keys())\n",
        "print(kullanici1.values())\n",
        "print(kullanici1.items())\n",
        "\n",
        "for key,value in kullanici1.items():\n",
        "  print(key , value)\n",
        "\n",
        "\n",
        "for key in kullanici1.keys():\n",
        "  print(key)\n",
        "\n",
        "for value in kullanici1.values():\n",
        "  print(value)"
      ],
      "metadata": {
        "colab": {
          "base_uri": "https://localhost:8080/"
        },
        "id": "vqdf_tlx8oc_",
        "outputId": "573db6de-a7f7-461b-fc9c-099db91de15d"
      },
      "execution_count": 14,
      "outputs": [
        {
          "output_type": "stream",
          "name": "stdout",
          "text": [
            "{'ad': 'Naz', 'soyad': 'Yağcıoğlu'}\n",
            "dict_keys(['ad', 'soyad'])\n",
            "dict_values(['Naz', 'Yağcıoğlu'])\n",
            "dict_items([('ad', 'Naz'), ('soyad', 'Yağcıoğlu')])\n",
            "ad Naz\n",
            "soyad Yağcıoğlu\n",
            "ad\n",
            "soyad\n",
            "Naz\n",
            "Yağcıoğlu\n"
          ]
        }
      ]
    },
    {
      "cell_type": "code",
      "source": [],
      "metadata": {
        "id": "rzsKLdkH8_Tf"
      },
      "execution_count": null,
      "outputs": []
    }
  ]
}
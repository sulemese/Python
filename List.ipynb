{
  "nbformat": 4,
  "nbformat_minor": 0,
  "metadata": {
    "colab": {
      "provenance": []
    },
    "kernelspec": {
      "name": "python3",
      "display_name": "Python 3"
    },
    "language_info": {
      "name": "python"
    }
  },
  "cells": [
    {
      "cell_type": "markdown",
      "source": [
        "# LİST (LİSTELER)"
      ],
      "metadata": {
        "id": "nS-OZ7zcF2uV"
      }
    },
    {
      "cell_type": "markdown",
      "source": [
        "* Listeler birden fazla öğeyi tek bir değişkende depolamak için kullanılır.\n",
        "\n",
        "* Listeler, Python'da veri koleksiyonlarını depolamak için kullanılan 4 yerleşik veri türünden biridir; diğer 3'ü Tuple , Set ve Dictionary olup hepsi farklı nitelik ve kullanıma sahiptir.\n",
        "\n"
      ],
      "metadata": {
        "id": "nkSz0lDQGHk_"
      }
    },
    {
      "cell_type": "markdown",
      "source": [
        "#Liste Oluşturma"
      ],
      "metadata": {
        "id": "MXptKsV7JIPF"
      }
    },
    {
      "cell_type": "markdown",
      "source": [
        "1.  Listeler köşeli parantez kullanılarak oluşturulur:"
      ],
      "metadata": {
        "id": "dQ6N6-L3JKiU"
      }
    },
    {
      "cell_type": "code",
      "execution_count": null,
      "metadata": {
        "colab": {
          "base_uri": "https://localhost:8080/"
        },
        "id": "2DsICHiZFWK9",
        "outputId": "a2ab7c07-f02f-4121-9b6f-c5161c2ef7f6"
      },
      "outputs": [
        {
          "output_type": "execute_result",
          "data": {
            "text/plain": [
              "list"
            ]
          },
          "metadata": {},
          "execution_count": 1
        }
      ],
      "source": [
        "liste=[\"a\",\"b\",\"c\"]\n",
        "type(liste)"
      ]
    },
    {
      "cell_type": "markdown",
      "source": [
        "2. Yeni bir liste oluştururken list() yapıcısını kullanmak da mümkündür ."
      ],
      "metadata": {
        "id": "ZZaJDMoPJRSF"
      }
    },
    {
      "cell_type": "code",
      "source": [
        "mylist=list((\"a\",\"b\",\"c\"))\n",
        "type(mylist)"
      ],
      "metadata": {
        "colab": {
          "base_uri": "https://localhost:8080/"
        },
        "id": "yvOpeIzrJVMk",
        "outputId": "8276ebff-7a19-4301-fd98-07e1690e6ab2"
      },
      "execution_count": null,
      "outputs": [
        {
          "output_type": "execute_result",
          "data": {
            "text/plain": [
              "list"
            ]
          },
          "metadata": {},
          "execution_count": 7
        }
      ]
    },
    {
      "cell_type": "markdown",
      "source": [
        "# Liste Öğelerinin Özellikleri\n",
        "\n"
      ],
      "metadata": {
        "id": "v1w2XvBJHLQk"
      }
    },
    {
      "cell_type": "markdown",
      "source": [
        "1. Liste öğeleri sıralıdır. (ordered)\n",
        "Liste öğeleri sıralıdır.öğelerin belirli bir sırası vardır ve bu sıra değişmez . Bir listeye yeni öğeler eklerseniz, yeni öğeler listenin sonuna yerleştirilecektir."
      ],
      "metadata": {
        "id": "S_pIBNgBHyWU"
      }
    },
    {
      "cell_type": "markdown",
      "source": [
        "2. Liste değiştirilebilir (changeable); yani liste oluşturulduktan sonra listedeki öğeleri değiştirebilir, ekleyebilir ve kaldırabiliriz."
      ],
      "metadata": {
        "id": "Ej7q_TFiH34b"
      }
    },
    {
      "cell_type": "markdown",
      "source": [
        "3. Listeler indekslendiğinden listeler aynı değere sahip öğeler içerebilir(duplicate values)"
      ],
      "metadata": {
        "id": "GQ8QgldwH_Ej"
      }
    },
    {
      "cell_type": "code",
      "source": [
        "thislist = [\"apple\", \"banana\", \"cherry\", \"apple\", \"cherry\"]\n",
        "print(thislist)"
      ],
      "metadata": {
        "colab": {
          "base_uri": "https://localhost:8080/"
        },
        "id": "JY8JiUAgIJCv",
        "outputId": "4cdb5839-28e9-451a-e00c-b0d0a74c0794"
      },
      "execution_count": null,
      "outputs": [
        {
          "output_type": "stream",
          "name": "stdout",
          "text": [
            "['apple', 'banana', 'cherry', 'apple', 'cherry']\n"
          ]
        }
      ]
    },
    {
      "cell_type": "markdown",
      "source": [
        " 4. Liste öğeleri herhangi bir veri türünde olabilir"
      ],
      "metadata": {
        "id": "KOammkYHId2-"
      }
    },
    {
      "cell_type": "code",
      "source": [
        "list1 = [\"apple\", \"banana\", \"cherry\"]\n",
        "list2 = [1, 5, 7, 9, 3]\n",
        "list3 = [True, False, False]"
      ],
      "metadata": {
        "id": "6NTGxeNiIfRM"
      },
      "execution_count": null,
      "outputs": []
    },
    {
      "cell_type": "markdown",
      "source": [
        "5. Bir liste farklı veri türleri içerebilir"
      ],
      "metadata": {
        "id": "AFMLcoEaItUs"
      }
    },
    {
      "cell_type": "code",
      "source": [
        "list1 = [\"abc\", 34, True, 40, \"male\"]"
      ],
      "metadata": {
        "id": "fbiuknJKIvCc"
      },
      "execution_count": null,
      "outputs": []
    },
    {
      "cell_type": "markdown",
      "source": [
        "# Liste Uzunluğu"
      ],
      "metadata": {
        "id": "nK01VcH2IPs8"
      }
    },
    {
      "cell_type": "markdown",
      "source": [
        "len() metodu listenin eleman sayısını yani uzunluğunu verir."
      ],
      "metadata": {
        "id": "9gmOoinXIRsT"
      }
    },
    {
      "cell_type": "code",
      "source": [
        "thislist = [\"apple\", \"banana\", \"cherry\", \"apple\", \"cherry\"]\n",
        "print(len(thislist))"
      ],
      "metadata": {
        "colab": {
          "base_uri": "https://localhost:8080/"
        },
        "id": "fN4Q2c98IXFj",
        "outputId": "28c51a7c-31fd-4793-e5f9-d73f278b92a5"
      },
      "execution_count": null,
      "outputs": [
        {
          "output_type": "stream",
          "name": "stdout",
          "text": [
            "5\n"
          ]
        }
      ]
    },
    {
      "cell_type": "markdown",
      "source": [
        "# Listelerin Veri Tipi"
      ],
      "metadata": {
        "id": "ZlL1DL2VI2Z0"
      }
    },
    {
      "cell_type": "markdown",
      "source": [
        "Python'un bakış açısına göre listeler, 'list' veri türüne sahip nesneler olarak tanımlanır"
      ],
      "metadata": {
        "id": "VivfC1hBI4ds"
      }
    },
    {
      "cell_type": "code",
      "source": [
        "thislist = [\"apple\", \"banana\", \"cherry\", \"apple\", \"cherry\"]\n",
        "type(thislist)"
      ],
      "metadata": {
        "colab": {
          "base_uri": "https://localhost:8080/"
        },
        "id": "LKk3-VRRI5Ys",
        "outputId": "4b003815-91ec-436e-d13f-351a5b745181"
      },
      "execution_count": null,
      "outputs": [
        {
          "output_type": "execute_result",
          "data": {
            "text/plain": [
              "list"
            ]
          },
          "metadata": {},
          "execution_count": 6
        }
      ]
    },
    {
      "cell_type": "markdown",
      "source": [
        "# Liste Öğelerine Erişim"
      ],
      "metadata": {
        "id": "2-Ck7rRYwJqQ"
      }
    },
    {
      "cell_type": "markdown",
      "source": [
        "#### Pozitif İndeksleme İle Erişim\n",
        "Liste öğeleri indekslenmiştir ve bunlara indeks numarasına başvurarak erişebilirsiniz. İlk öğenin indeksi 0'dır."
      ],
      "metadata": {
        "id": "qPww9neywNc9"
      }
    },
    {
      "cell_type": "code",
      "source": [
        "thislist = [\"apple\", \"banana\", \"cherry\"]\n",
        "print(thislist[0])"
      ],
      "metadata": {
        "colab": {
          "base_uri": "https://localhost:8080/"
        },
        "id": "Er2_ZkDuwQSG",
        "outputId": "356eabee-3c1f-47d1-be05-0548d134e66c"
      },
      "execution_count": null,
      "outputs": [
        {
          "output_type": "stream",
          "name": "stdout",
          "text": [
            "apple\n"
          ]
        }
      ]
    },
    {
      "cell_type": "markdown",
      "source": [
        "#### Negatif İndeksleme İle Erişim\n",
        "\n",
        "Negatif indekslerle de liste öğelerine ulaşabiliriz. Negatif indekslemede öğeler sondan başa doğru -1,-2... diye indekslenirler."
      ],
      "metadata": {
        "id": "NCrrflVswcBp"
      }
    },
    {
      "cell_type": "code",
      "source": [
        "#Listenin son öğesini yazdırın:\n",
        "\n",
        "thislist = [\"apple\", \"banana\", \"cherry\"]\n",
        "print(thislist[-1])"
      ],
      "metadata": {
        "colab": {
          "base_uri": "https://localhost:8080/"
        },
        "id": "P4FdzQe4wrGg",
        "outputId": "74c4109d-2a8d-4121-8884-aa1219319a6d"
      },
      "execution_count": null,
      "outputs": [
        {
          "output_type": "stream",
          "name": "stdout",
          "text": [
            "cherry\n"
          ]
        }
      ]
    },
    {
      "cell_type": "markdown",
      "source": [
        "#### Pozitif İndeks Aralığı\n",
        "\n",
        "Aralığın nereden başlayacağını ve nerede biteceğini belirterek bir dizi dizin belirleyebilirsiniz.\n",
        "\n",
        "Bir aralık belirtirken dönüş değeri, belirtilen öğeleri içeren yeni bir liste olacaktır."
      ],
      "metadata": {
        "id": "QKPR3TegxCPn"
      }
    },
    {
      "cell_type": "code",
      "source": [
        "#Üçüncü, dördüncü ve beşinci öğeyi döndürün:\n",
        "\n",
        "thislist = [\"apple\", \"banana\", \"cherry\", \"orange\", \"kiwi\", \"melon\", \"mango\"]\n",
        "print(thislist[2:5])"
      ],
      "metadata": {
        "colab": {
          "base_uri": "https://localhost:8080/"
        },
        "id": "kNJrJy5AxHt3",
        "outputId": "501dad37-0c9a-42b4-8157-f0081c747688"
      },
      "execution_count": null,
      "outputs": [
        {
          "output_type": "stream",
          "name": "stdout",
          "text": [
            "['cherry', 'orange', 'kiwi']\n"
          ]
        }
      ]
    },
    {
      "cell_type": "markdown",
      "source": [
        "Başlangıç ​​değeri dışarıda bırakıldığında aralık ilk öğeden başlayacaktır:"
      ],
      "metadata": {
        "id": "fmZwCf7xxf-K"
      }
    },
    {
      "cell_type": "code",
      "source": [
        "#Bu örnek, başlangıçtan itibaren \"kivi\"ye kadar olan ancak dahil olmayan öğeleri döndürür:\n",
        "\n",
        "thislist = [\"apple\", \"banana\", \"cherry\", \"orange\", \"kiwi\", \"melon\", \"mango\"]\n",
        "print(thislist[:4])"
      ],
      "metadata": {
        "colab": {
          "base_uri": "https://localhost:8080/"
        },
        "id": "vLrD8Q1sxVel",
        "outputId": "a1704922-ba32-41ab-bd20-533a6dfa5fa5"
      },
      "execution_count": null,
      "outputs": [
        {
          "output_type": "stream",
          "name": "stdout",
          "text": [
            "['apple', 'banana', 'cherry', 'orange']\n"
          ]
        }
      ]
    },
    {
      "cell_type": "markdown",
      "source": [
        "Bitiş değeri dışarıda bırakıldığında aralık listenin sonuna kadar devam eder:"
      ],
      "metadata": {
        "id": "WVfZwnUExiOL"
      }
    },
    {
      "cell_type": "code",
      "source": [
        "#Bu örnek, \"kiraz\"dan sonuna kadar olan öğeleri döndürür:\n",
        "\n",
        "thislist = [\"apple\", \"banana\", \"cherry\", \"orange\", \"kiwi\", \"melon\", \"mango\"]\n",
        "print(thislist[2:])"
      ],
      "metadata": {
        "colab": {
          "base_uri": "https://localhost:8080/"
        },
        "id": "MEiMG8qyxZul",
        "outputId": "7b594f2a-125d-4015-dee2-ea62352b4520"
      },
      "execution_count": null,
      "outputs": [
        {
          "output_type": "stream",
          "name": "stdout",
          "text": [
            "['cherry', 'orange', 'kiwi', 'melon', 'mango']\n"
          ]
        }
      ]
    },
    {
      "cell_type": "markdown",
      "source": [
        "#### Negatif İndeks Aralığı\n",
        "Aramayı listenin sonundan başlatmak istiyorsanız negatif dizinleri belirtin:"
      ],
      "metadata": {
        "id": "sEF52wwgxnYe"
      }
    },
    {
      "cell_type": "code",
      "source": [
        "#Bu örnek, \"turuncu\" (-4) ile \"mango\" (-1) arasındaki öğeleri döndürür, ancak \"mango\" (-1) dahil DEĞİLDİR:\n",
        "\n",
        "thislist = [\"apple\", \"banana\", \"cherry\", \"orange\", \"kiwi\", \"melon\", \"mango\"]\n",
        "print(thislist[-4:-1])"
      ],
      "metadata": {
        "colab": {
          "base_uri": "https://localhost:8080/"
        },
        "id": "qp9tAjhGxuFl",
        "outputId": "c9809d58-c7da-47c6-8352-58a29eaea445"
      },
      "execution_count": null,
      "outputs": [
        {
          "output_type": "stream",
          "name": "stdout",
          "text": [
            "['orange', 'kiwi', 'melon']\n"
          ]
        }
      ]
    },
    {
      "cell_type": "markdown",
      "source": [
        "#### Öğenin Var olup olmadığını kontrol edin\n",
        "\n",
        "\"in\" anahtar kelimesi öğenin listede bulunup bulunmadığını kontrol eder."
      ],
      "metadata": {
        "id": "qMbTK-kJx421"
      }
    },
    {
      "cell_type": "code",
      "source": [
        "#Listede \"elma\" olup olmadığını kontrol edin:\n",
        "\n",
        "thislist = [\"apple\", \"banana\", \"cherry\"]\n",
        "if \"apple\" in thislist:\n",
        "  print(\"Yes, 'apple' is in the fruits list\")"
      ],
      "metadata": {
        "colab": {
          "base_uri": "https://localhost:8080/"
        },
        "id": "1LEIPWMfyBJg",
        "outputId": "0f08232b-f148-4dc7-d00b-3ffddbfe73a9"
      },
      "execution_count": null,
      "outputs": [
        {
          "output_type": "stream",
          "name": "stdout",
          "text": [
            "Yes, 'apple' is in the fruits list\n"
          ]
        }
      ]
    },
    {
      "cell_type": "markdown",
      "source": [
        "# Liste Öğelerini Değiştirme"
      ],
      "metadata": {
        "id": "V6o163muyMSn"
      }
    },
    {
      "cell_type": "markdown",
      "source": [
        "#### Bir Öğe Değerini Değiştirme\n",
        "\n",
        "Belirli bir öğenin değerini değiştirmek için dizin numarasına bakın:\n"
      ],
      "metadata": {
        "id": "Jrm_OUwSyRj7"
      }
    },
    {
      "cell_type": "code",
      "source": [
        "thislist = [\"apple\", \"banana\", \"cherry\"]\n",
        "thislist[1] = \"blackcurrant\"\n",
        "print(thislist)"
      ],
      "metadata": {
        "colab": {
          "base_uri": "https://localhost:8080/"
        },
        "id": "NWLHMubbyVJW",
        "outputId": "d33ed85f-f4ce-43fb-c1d8-c120d07eb112"
      },
      "execution_count": null,
      "outputs": [
        {
          "output_type": "stream",
          "name": "stdout",
          "text": [
            "['apple', 'blackcurrant', 'cherry']\n"
          ]
        }
      ]
    },
    {
      "cell_type": "markdown",
      "source": [
        "#### Belirli Bir Aralıktaki Öğe Değerlerini Değiştirme\n",
        "Belirli bir aralıktaki öğelerin değerini değiştirmek için yeni değerleri içeren bir liste tanımlayın ve yeni değerleri eklemek istediğiniz dizin numarası aralığına bakın:"
      ],
      "metadata": {
        "id": "_TpP3D2Lyfj2"
      }
    },
    {
      "cell_type": "markdown",
      "source": [
        "Not: Eklenen öğe sayısı değiştirilen öğe sayısıyla eşleşmediğinde listenin uzunluğu değişecektir.\n"
      ],
      "metadata": {
        "id": "I3mwrlDFzdd_"
      }
    },
    {
      "cell_type": "code",
      "source": [
        "#\"Muz\" ve \"kiraz\" değerlerini \"frenk üzümü\" ve \"karpuz\" değerleriyle değiştirin:\n",
        "thislist = [\"apple\", \"banana\", \"cherry\", \"orange\", \"kiwi\", \"mango\"]\n",
        "thislist[1:3] = [\"blackcurrant\", \"watermelon\"]\n",
        "print(thislist)"
      ],
      "metadata": {
        "colab": {
          "base_uri": "https://localhost:8080/"
        },
        "id": "SoWHHBACy1O_",
        "outputId": "c8e8e027-ae89-4c68-f0be-802207e9a795"
      },
      "execution_count": null,
      "outputs": [
        {
          "output_type": "stream",
          "name": "stdout",
          "text": [
            "['apple', 'blackcurrant', 'watermelon', 'orange', 'kiwi', 'mango']\n"
          ]
        }
      ]
    },
    {
      "cell_type": "markdown",
      "source": [
        "\n",
        "Değiştirdiğinizden daha fazla öğe eklerseniz , yeni öğeler belirttiğiniz yere eklenecek ve geri kalan öğeler buna göre taşınacaktır:"
      ],
      "metadata": {
        "id": "LQNw7Nm7y_h0"
      }
    },
    {
      "cell_type": "code",
      "source": [
        "#İkinci değeri iki yeni değerle değiştirerek değiştirin :\n",
        "thislist = [\"apple\", \"banana\", \"cherry\"]\n",
        "thislist[1:2] = [\"blackcurrant\", \"watermelon\"]\n",
        "print(thislist)"
      ],
      "metadata": {
        "colab": {
          "base_uri": "https://localhost:8080/"
        },
        "id": "vncRAM2XzAUX",
        "outputId": "efd308ab-74ba-4016-887f-184edfbc6aa2"
      },
      "execution_count": null,
      "outputs": [
        {
          "output_type": "stream",
          "name": "stdout",
          "text": [
            "['apple', 'blackcurrant', 'watermelon', 'cherry']\n"
          ]
        }
      ]
    },
    {
      "cell_type": "markdown",
      "source": [
        "Değiştirdiğinizden daha az öğe eklerseniz , yeni öğeler belirttiğiniz yere eklenecek ve kalan öğeler buna göre taşınacaktır:"
      ],
      "metadata": {
        "id": "ccjmbQ_6zaJq"
      }
    },
    {
      "cell_type": "code",
      "source": [
        "#İkinci ve üçüncü değeri bir değerle değiştirerek değiştirin :\n",
        "thislist = [\"apple\", \"banana\", \"cherry\"]\n",
        "thislist[1:3] = [\"watermelon\"]\n",
        "print(thislist)"
      ],
      "metadata": {
        "colab": {
          "base_uri": "https://localhost:8080/"
        },
        "id": "ym6Qa8_dza2K",
        "outputId": "01e02b64-e3a5-4986-84c6-3c31613c26be"
      },
      "execution_count": null,
      "outputs": [
        {
          "output_type": "stream",
          "name": "stdout",
          "text": [
            "['apple', 'watermelon']\n"
          ]
        }
      ]
    },
    {
      "cell_type": "markdown",
      "source": [
        "# Liste Öğeleri Ekleme"
      ],
      "metadata": {
        "id": "aF6Z6iR00yV4"
      }
    },
    {
      "cell_type": "markdown",
      "source": [
        "#### Listenin Sonuna Öğe Ekleme\n",
        "Listenin sonuna bir öğe eklemek için append() yöntemini kullanın:"
      ],
      "metadata": {
        "id": "q21Ykw7v043n"
      }
    },
    {
      "cell_type": "code",
      "source": [
        "thislist = [\"apple\", \"banana\", \"cherry\"]\n",
        "thislist.append(\"orange\")\n",
        "print(thislist)"
      ],
      "metadata": {
        "colab": {
          "base_uri": "https://localhost:8080/"
        },
        "id": "-QQGeBJF0_RF",
        "outputId": "1c40b4d9-7a76-4e03-ee21-ca6b1be295b0"
      },
      "execution_count": null,
      "outputs": [
        {
          "output_type": "stream",
          "name": "stdout",
          "text": [
            "['apple', 'banana', 'cherry', 'orange']\n"
          ]
        }
      ]
    },
    {
      "cell_type": "markdown",
      "source": [
        "#### Belirtilen Dizine Öğe Ekleme\n",
        "Belirtilen dizine bir liste öğesi eklemek için insert() yöntemi kullanın."
      ],
      "metadata": {
        "id": "ZnBqC6FB1J9H"
      }
    },
    {
      "cell_type": "code",
      "source": [
        "thislist = [\"apple\", \"banana\", \"cherry\"]\n",
        "thislist.insert(1, \"orange\")\n",
        "print(thislist)"
      ],
      "metadata": {
        "colab": {
          "base_uri": "https://localhost:8080/"
        },
        "id": "pA5eRfrW1Rfr",
        "outputId": "bbf16d0a-3dd8-4f56-8860-13937ae4f9da"
      },
      "execution_count": null,
      "outputs": [
        {
          "output_type": "stream",
          "name": "stdout",
          "text": [
            "['apple', 'orange', 'banana', 'cherry']\n"
          ]
        }
      ]
    },
    {
      "cell_type": "markdown",
      "source": [
        "#### Başka Bir Listeyi Geçerli Listeye Ekleme\n",
        "Başka bir listedeki öğeleri geçerli listeye eklemek için extend()yöntemi kullanın.Öğeler listenin sonuna eklenecektir."
      ],
      "metadata": {
        "id": "Yaj5w5EW1jP2"
      }
    },
    {
      "cell_type": "code",
      "source": [
        "thislist = [\"apple\", \"banana\", \"cherry\"]\n",
        "tropical = [\"mango\", \"pineapple\", \"papaya\"]\n",
        "thislist.extend(tropical)\n",
        "print(thislist)"
      ],
      "metadata": {
        "colab": {
          "base_uri": "https://localhost:8080/"
        },
        "id": "0z4Ae5FA1rLj",
        "outputId": "dff80897-a2cf-4312-8a91-b6e5ba403f52"
      },
      "execution_count": null,
      "outputs": [
        {
          "output_type": "stream",
          "name": "stdout",
          "text": [
            "['apple', 'banana', 'cherry', 'mango', 'pineapple', 'papaya']\n"
          ]
        }
      ]
    },
    {
      "cell_type": "markdown",
      "source": [
        "#### Başka bir Veri Koleksiyonunu Geçerli Listeye Ekleme (Set,Dictionary,Tuple)\n",
        " yinelenebilir herhangi bir nesneyi (demetler, kümeler, sözlükler vb.)\n",
        "  de extend() ile ekleyebilirsiniz."
      ],
      "metadata": {
        "id": "k9110uzU1_vZ"
      }
    },
    {
      "cell_type": "code",
      "source": [
        "thislist = [\"apple\", \"banana\", \"cherry\"]\n",
        "thistuple = (\"kiwi\", \"orange\")\n",
        "thislist.extend(thistuple)\n",
        "print(thislist)"
      ],
      "metadata": {
        "colab": {
          "base_uri": "https://localhost:8080/"
        },
        "id": "F1hPxpq02Mwe",
        "outputId": "346f0de2-2597-453b-9e60-291efe8aa64a"
      },
      "execution_count": null,
      "outputs": [
        {
          "output_type": "stream",
          "name": "stdout",
          "text": [
            "['apple', 'banana', 'cherry', 'kiwi', 'orange']\n"
          ]
        }
      ]
    },
    {
      "cell_type": "markdown",
      "source": [
        "\n",
        "\n",
        "---\n",
        "\n"
      ],
      "metadata": {
        "id": "XSCiSBOn2wTp"
      }
    },
    {
      "cell_type": "markdown",
      "source": [
        "# Liste Öğelerini Kaldırma"
      ],
      "metadata": {
        "id": "UG1_xsGY2dhu"
      }
    },
    {
      "cell_type": "markdown",
      "source": [
        "### 1. Belirtilen Öğeyi Kaldır\n"
      ],
      "metadata": {
        "id": "zii0yUT02g6d"
      }
    },
    {
      "cell_type": "markdown",
      "source": [
        " remove() belirtilen öğeyi kaldırır."
      ],
      "metadata": {
        "id": "xRgk9Evl3ZJq"
      }
    },
    {
      "cell_type": "code",
      "source": [
        "thislist = [\"apple\", \"banana\", \"cherry\"]\n",
        "thislist.remove(\"banana\")\n",
        "print(thislist)"
      ],
      "metadata": {
        "colab": {
          "base_uri": "https://localhost:8080/"
        },
        "id": "WQ46ouqL2s0d",
        "outputId": "e704c1ea-b387-4b28-9d68-7c748f407088"
      },
      "execution_count": null,
      "outputs": [
        {
          "output_type": "stream",
          "name": "stdout",
          "text": [
            "['apple', 'cherry']\n"
          ]
        }
      ]
    },
    {
      "cell_type": "markdown",
      "source": [
        "Belirtilen değere sahip birden fazla öğe varsa remove() ilk oluşumu kaldırır. Yani her seferinde 1 öğe kaldırır."
      ],
      "metadata": {
        "id": "uDdNSgc43GfS"
      }
    },
    {
      "cell_type": "code",
      "source": [
        "thislist = [\"apple\", \"banana\", \"cherry\", \"banana\", \"kiwi\"]\n",
        "thislist.remove(\"banana\")\n",
        "print(thislist)"
      ],
      "metadata": {
        "colab": {
          "base_uri": "https://localhost:8080/"
        },
        "id": "m7bUaGcg3IUL",
        "outputId": "585a7a5a-6f4e-46ba-90fb-efdfef8c6136"
      },
      "execution_count": null,
      "outputs": [
        {
          "output_type": "stream",
          "name": "stdout",
          "text": [
            "['apple', 'cherry', 'banana', 'kiwi']\n"
          ]
        }
      ]
    },
    {
      "cell_type": "markdown",
      "source": [
        "### 2. Belirtilen Dizini Kaldır"
      ],
      "metadata": {
        "id": "7fSE1-2f3Pzf"
      }
    },
    {
      "cell_type": "markdown",
      "source": [
        "pop()belirtilen dizini kaldırır."
      ],
      "metadata": {
        "id": "9zmsxP9y3Sdv"
      }
    },
    {
      "cell_type": "code",
      "source": [
        "thislist = [\"a\", \"b\", \"c\"]\n",
        "thislist.pop(1)\n",
        "print(thislist)"
      ],
      "metadata": {
        "colab": {
          "base_uri": "https://localhost:8080/"
        },
        "id": "jlCM1N6z3eIu",
        "outputId": "9a4ab3d8-d31e-42f3-dfb8-11c46f401aa6"
      },
      "execution_count": null,
      "outputs": [
        {
          "output_type": "stream",
          "name": "stdout",
          "text": [
            "['a', 'c']\n"
          ]
        }
      ]
    },
    {
      "cell_type": "markdown",
      "source": [
        "Dizini belirtmezseniz pop()yöntem son öğeyi kaldırır."
      ],
      "metadata": {
        "id": "Xz9Cb03n3jZi"
      }
    },
    {
      "cell_type": "code",
      "source": [
        "list1=[\"a\",\"b\",\"c\"]\n",
        "list1.pop()\n",
        "print(list1)"
      ],
      "metadata": {
        "colab": {
          "base_uri": "https://localhost:8080/"
        },
        "id": "-rF2WNcY3kF3",
        "outputId": "799ccf36-62f1-4616-e8f6-dad87780b6e6"
      },
      "execution_count": null,
      "outputs": [
        {
          "output_type": "stream",
          "name": "stdout",
          "text": [
            "['a', 'b']\n"
          ]
        }
      ]
    },
    {
      "cell_type": "markdown",
      "source": [
        "\"del\" anahtar kelimesi de belirtilen dizini de kaldırır:"
      ],
      "metadata": {
        "id": "MrFuElB03zxn"
      }
    },
    {
      "cell_type": "code",
      "source": [
        "list1=[\"a\",\"b\",\"c\"]\n",
        "del list1[0]\n",
        "print(list1)"
      ],
      "metadata": {
        "colab": {
          "base_uri": "https://localhost:8080/"
        },
        "id": "1UJdsm9w33x2",
        "outputId": "803a88fe-4833-4758-e76d-890646ea2b66"
      },
      "execution_count": null,
      "outputs": [
        {
          "output_type": "stream",
          "name": "stdout",
          "text": [
            "['b', 'c']\n"
          ]
        }
      ]
    },
    {
      "cell_type": "markdown",
      "source": [
        "\"del\" anahtar kelimesi aynı zamanda listeyi tamamen silebilir."
      ],
      "metadata": {
        "id": "A8UsmbH84CMK"
      }
    },
    {
      "cell_type": "code",
      "source": [
        "liste = [\"a\",\"b\",\"c\"]\n",
        "del liste\n"
      ],
      "metadata": {
        "id": "gP4SwTV_4FzU"
      },
      "execution_count": null,
      "outputs": []
    },
    {
      "cell_type": "markdown",
      "source": [
        "### 3. Listeyi Boşaltma\n",
        "\n",
        "clear() listenin içini  boşaltır."
      ],
      "metadata": {
        "id": "iyeghjwg4aHR"
      }
    },
    {
      "cell_type": "code",
      "source": [
        "liste = [\"a\",\"b\",\"c\"]\n",
        "liste.clear()\n",
        "print(liste)"
      ],
      "metadata": {
        "colab": {
          "base_uri": "https://localhost:8080/"
        },
        "id": "azDMPO5H4jF7",
        "outputId": "093a9a99-a813-4528-cdf1-5b3d7e5bd167"
      },
      "execution_count": null,
      "outputs": [
        {
          "output_type": "stream",
          "name": "stdout",
          "text": [
            "[]\n"
          ]
        }
      ]
    },
    {
      "cell_type": "markdown",
      "source": [
        "# Listeler ve Döngü"
      ],
      "metadata": {
        "id": "q-snXjB05KNZ"
      }
    },
    {
      "cell_type": "markdown",
      "source": [
        "Döngü kullanarak liste öğeleri arasında geçiş yapabilirsiniz"
      ],
      "metadata": {
        "id": "DDI6AYRU5RAX"
      }
    },
    {
      "cell_type": "code",
      "source": [
        "liste=[\"a\",\"b\",\"c\"]\n",
        "for x in liste:\n",
        "  print(x)"
      ],
      "metadata": {
        "colab": {
          "base_uri": "https://localhost:8080/"
        },
        "id": "5W-QZNe65o5s",
        "outputId": "e9f801a5-be56-46f3-f3a7-a83166ac2e92"
      },
      "execution_count": null,
      "outputs": [
        {
          "output_type": "stream",
          "name": "stdout",
          "text": [
            "a\n",
            "b\n",
            "c\n"
          ]
        }
      ]
    },
    {
      "cell_type": "code",
      "source": [
        "liste=[\"a\",\"b\",\"c\"]\n",
        "for i in range(len(liste)):\n",
        "  print(liste[i])\n"
      ],
      "metadata": {
        "colab": {
          "base_uri": "https://localhost:8080/"
        },
        "id": "HDntWr3f53sJ",
        "outputId": "cc08c949-515b-4a35-f086-5402225f0553"
      },
      "execution_count": null,
      "outputs": [
        {
          "output_type": "stream",
          "name": "stdout",
          "text": [
            "a\n",
            "b\n",
            "c\n"
          ]
        }
      ]
    },
    {
      "cell_type": "code",
      "source": [
        "liste=[\"a\",\"b\",\"c\"]\n",
        "i=0\n",
        "while i<len(liste):\n",
        "  print(liste[i])\n",
        "  i=i+1"
      ],
      "metadata": {
        "colab": {
          "base_uri": "https://localhost:8080/"
        },
        "id": "iqbU_Ui76IQS",
        "outputId": "90cacee2-93fa-4e2c-9b97-82ff47e91691"
      },
      "execution_count": null,
      "outputs": [
        {
          "output_type": "stream",
          "name": "stdout",
          "text": [
            "a\n",
            "b\n",
            "c\n"
          ]
        }
      ]
    },
    {
      "cell_type": "markdown",
      "source": [
        "List Comprehension ile  liste döngüye sokulabilir."
      ],
      "metadata": {
        "id": "CGSAHJB-6jFG"
      }
    },
    {
      "cell_type": "code",
      "source": [
        "thislist = [\"apple\", \"banana\", \"cherry\"]\n",
        "[print(x) for x in thislist]"
      ],
      "metadata": {
        "colab": {
          "base_uri": "https://localhost:8080/"
        },
        "id": "6UoU0ocr6oF7",
        "outputId": "55d403c5-6282-42c2-abef-78851f419638"
      },
      "execution_count": null,
      "outputs": [
        {
          "output_type": "stream",
          "name": "stdout",
          "text": [
            "apple\n",
            "banana\n",
            "cherry\n"
          ]
        },
        {
          "output_type": "execute_result",
          "data": {
            "text/plain": [
              "[None, None, None]"
            ]
          },
          "metadata": {},
          "execution_count": 30
        }
      ]
    },
    {
      "cell_type": "markdown",
      "source": [
        "# List Comprehension"
      ],
      "metadata": {
        "id": "JjMeTvCaLVDK"
      }
    },
    {
      "cell_type": "markdown",
      "source": [
        "mevcut bir listenin değerlerine dayalı olarak yeni bir liste oluşturmak istediğinizde daha kısa bir sözdizimi sunar."
      ],
      "metadata": {
        "id": "bVDkehkYLX8s"
      }
    },
    {
      "cell_type": "markdown",
      "source": [
        "![image.png](data:image/png;base64,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)\n",
        "\n",
        "expression = ifadede geçerli öğedir.\n",
        "\n",
        "iterable = eski liste, tuple, dictionary vb. nesnedir\n",
        "\n",
        "condition = isteğe bağlıdır. eski listeden hangi şartı taşıyan öğelerin kabul edileceğini belirleyen şarttır."
      ],
      "metadata": {
        "id": "gXqgaSw-Nhc_"
      }
    },
    {
      "cell_type": "code",
      "source": [
        "#örneğin meyve isimleri içeren bir listeniz var\n",
        "# o listedeki meyvelerden içinde \"a\" harfi bulunan meyve isimlerini yeni listeye ekleyeceksiniz.\n",
        "# for döngüsü ile yazılışı aşağıdaki gibidir\n",
        "fruits=[\"apple\",\"banana\",\"cheerry\",\"kiwi\",\"mango\"]\n",
        "newList=[]\n",
        "for x in fruits:\n",
        "  if \"a\" in x:\n",
        "    newList.append(x)\n",
        "\n",
        "print(newList)"
      ],
      "metadata": {
        "colab": {
          "base_uri": "https://localhost:8080/"
        },
        "id": "WETkWYESLep9",
        "outputId": "2a620e61-9ee4-42b1-8d46-418c79027c44"
      },
      "execution_count": null,
      "outputs": [
        {
          "output_type": "stream",
          "name": "stdout",
          "text": [
            "['apple', 'banana', 'mango']\n"
          ]
        }
      ]
    },
    {
      "cell_type": "markdown",
      "source": [
        "list comprehension ile 1 satırda bu işlemi gerçekleştirebiliriz."
      ],
      "metadata": {
        "id": "QmjZf26hMlFh"
      }
    },
    {
      "cell_type": "code",
      "source": [
        "fruits=[\"apple\",\"banana\",\"chery\",\"kiwi\",\"mango\"]\n",
        "newlist= [x for x in fruits if \"a\" in x ]\n",
        "print(newlist)"
      ],
      "metadata": {
        "colab": {
          "base_uri": "https://localhost:8080/"
        },
        "id": "VwGa-hkFM2Wi",
        "outputId": "10548fcb-7c72-4200-847b-f6dcafbec075"
      },
      "execution_count": null,
      "outputs": [
        {
          "output_type": "stream",
          "name": "stdout",
          "text": [
            "['apple', 'banana', 'mango']\n"
          ]
        }
      ]
    },
    {
      "cell_type": "code",
      "source": [
        "newlist = [x for x in fruits if x != \"apple\"] # yalnızca \"apple\" olmayan öğeleri kabul eder."
      ],
      "metadata": {
        "id": "duwVOoUeN0YE"
      },
      "execution_count": null,
      "outputs": []
    },
    {
      "cell_type": "code",
      "source": [
        "newlist= [x for x in fruits if \"a\" in x ]   # yalnızca \"a\" içeren öğeleri kabul eder."
      ],
      "metadata": {
        "id": "grup60RNN5lC"
      },
      "execution_count": null,
      "outputs": []
    },
    {
      "cell_type": "code",
      "source": [
        "newlist = [x for x in fruits] # koşulsuz tüm öğeleri kabul eder."
      ],
      "metadata": {
        "id": "RMH-Ar7hOcTi"
      },
      "execution_count": null,
      "outputs": []
    },
    {
      "cell_type": "markdown",
      "source": [
        "\"iterable\" objesi liste,set,tuple,dictionary gibi herhangi bir nesne olabilir. Liste olması şart değildir."
      ],
      "metadata": {
        "id": "gDMYVg_COuTy"
      }
    },
    {
      "cell_type": "code",
      "source": [
        "newlist = [x for x in range(10)]\n",
        "print(newlist)"
      ],
      "metadata": {
        "colab": {
          "base_uri": "https://localhost:8080/"
        },
        "id": "7sjSKGBnO3wH",
        "outputId": "e0e36036-3ab9-41e8-ea93-0f64a08f1ba9"
      },
      "execution_count": null,
      "outputs": [
        {
          "output_type": "stream",
          "name": "stdout",
          "text": [
            "[0, 1, 2, 3, 4, 5, 6, 7, 8, 9]\n"
          ]
        }
      ]
    },
    {
      "cell_type": "code",
      "source": [
        "newlist = [x for x in range(10) if x < 5]   #0 dan 10 a bir rangeden 5 ten küçük öğeleri kabul eder."
      ],
      "metadata": {
        "id": "KdO3CCKbPmXM"
      },
      "execution_count": null,
      "outputs": []
    },
    {
      "cell_type": "markdown",
      "source": [
        "Öğeyi kabul etmeden önce değişiklik yapabiliriz."
      ],
      "metadata": {
        "id": "Z5ZGb5cxRqT6"
      }
    },
    {
      "cell_type": "code",
      "source": [
        "newlist = [x.upper() for x in fruits] # öğe büyük harflere dönüştürülüp öyle kabul edildi."
      ],
      "metadata": {
        "id": "NJmbm_XFRwlF"
      },
      "execution_count": null,
      "outputs": []
    },
    {
      "cell_type": "code",
      "source": [
        "newlist = ['hello' for x in fruits] #yeni listedeki tüm değerler \"hello\" olarak kabul edilir."
      ],
      "metadata": {
        "id": "-dLSI4OJSHuQ"
      },
      "execution_count": null,
      "outputs": []
    },
    {
      "cell_type": "code",
      "source": [
        "newlist = [x if x != \"banana\" else \"orange\" for x in fruits] # tüm \"banana\"'ları \"orange\" olarak değiştirerek kabul edildi."
      ],
      "metadata": {
        "id": "2xvazBSLSdmd"
      },
      "execution_count": null,
      "outputs": []
    },
    {
      "cell_type": "markdown",
      "source": [
        "# Listeleri Sıralama"
      ],
      "metadata": {
        "id": "FvoD4L2eT4P8"
      }
    },
    {
      "cell_type": "markdown",
      "source": [
        "sort() metodu listeleri alfasayısal şekilde sıralar."
      ],
      "metadata": {
        "id": "hIrYwD0dUIi4"
      }
    },
    {
      "cell_type": "markdown",
      "source": [
        "#### 1. Artan Şekilde Sırala"
      ],
      "metadata": {
        "id": "pE-wVl9YT7nV"
      }
    },
    {
      "cell_type": "code",
      "source": [
        "liste=[\"c\",\"b\",\"a\"]\n",
        "liste.sort()\n",
        "print(liste)"
      ],
      "metadata": {
        "colab": {
          "base_uri": "https://localhost:8080/"
        },
        "id": "nKEaibqwUPDk",
        "outputId": "d6e6ebde-4bc9-4627-9cee-4088049f2283"
      },
      "execution_count": null,
      "outputs": [
        {
          "output_type": "stream",
          "name": "stdout",
          "text": [
            "['a', 'b', 'c']\n"
          ]
        }
      ]
    },
    {
      "cell_type": "code",
      "source": [
        "liste=[1,2,6,2,3]\n",
        "liste.sort()\n",
        "print(liste)"
      ],
      "metadata": {
        "colab": {
          "base_uri": "https://localhost:8080/"
        },
        "id": "NwPgPkGPUkCx",
        "outputId": "3c67060c-558e-4b01-d70d-d69a784e265e"
      },
      "execution_count": null,
      "outputs": [
        {
          "output_type": "stream",
          "name": "stdout",
          "text": [
            "[1, 2, 2, 3, 6]\n"
          ]
        }
      ]
    },
    {
      "cell_type": "markdown",
      "source": [
        "#### 2. Azalan Şekilde Sırala\n"
      ],
      "metadata": {
        "id": "-Xukr_bPU1So"
      }
    },
    {
      "cell_type": "markdown",
      "source": [
        "reverse=true parametresi listeyi azalan şekilde sıralamayı sağlar."
      ],
      "metadata": {
        "id": "aLv85MG8U5kW"
      }
    },
    {
      "cell_type": "code",
      "source": [
        "liste=[\"c\",\"b\",\"a\"]\n",
        "liste.sort(reverse=True)\n",
        "print(liste)"
      ],
      "metadata": {
        "colab": {
          "base_uri": "https://localhost:8080/"
        },
        "id": "MyxBFlKbVB6g",
        "outputId": "182e74a5-4ed4-491e-8179-32b8836465b3"
      },
      "execution_count": null,
      "outputs": [
        {
          "output_type": "stream",
          "name": "stdout",
          "text": [
            "['c', 'b', 'a']\n"
          ]
        }
      ]
    },
    {
      "cell_type": "code",
      "source": [
        "liste=[1,2,6,2,3]\n",
        "liste.sort(reverse=True)\n",
        "print(liste)"
      ],
      "metadata": {
        "colab": {
          "base_uri": "https://localhost:8080/"
        },
        "id": "QVCB_kS2U-_n",
        "outputId": "b17b0424-7f32-4716-d432-9b682c3180ba"
      },
      "execution_count": null,
      "outputs": [
        {
          "output_type": "stream",
          "name": "stdout",
          "text": [
            "[6, 3, 2, 2, 1]\n"
          ]
        }
      ]
    },
    {
      "cell_type": "markdown",
      "source": [
        "#### 3. Sıralama Metodunu Özelleştir"
      ],
      "metadata": {
        "id": "yIo5n6P3Vjgw"
      }
    },
    {
      "cell_type": "markdown",
      "source": [
        "key=function argümanı ile sıralamayı yazdığınız fonksiyona göre yaptırabilirsiniz."
      ],
      "metadata": {
        "id": "7WgSvymCVngE"
      }
    },
    {
      "cell_type": "code",
      "source": [
        "# 50 ile farkının mutlak değeri en küçük çıkandan en büyüğe doğru sıraladı.\n",
        "list=[50,60,100,-20,-30]\n",
        "\n",
        "def myfunc(n):\n",
        "  return abs(n-50)\n",
        "\n",
        "list.sort(key=myfunc)\n",
        "print(list)"
      ],
      "metadata": {
        "colab": {
          "base_uri": "https://localhost:8080/"
        },
        "id": "KS_dziDMVwGl",
        "outputId": "43dd8400-caa7-43a0-e71d-71efcd445bb6"
      },
      "execution_count": null,
      "outputs": [
        {
          "output_type": "stream",
          "name": "stdout",
          "text": [
            "[50, 60, 100, -20, -30]\n"
          ]
        }
      ]
    },
    {
      "cell_type": "code",
      "source": [
        "# mod 2 değeri en küçük çıkandan büyük çıkana doğru sıraladı.\n",
        "\n",
        "list=[1,2,3,4,5,6,7,8]\n",
        "\n",
        "def myfunc(n):\n",
        "  return n%2\n",
        "\n",
        "list.sort(key=myfunc)\n",
        "print(list)"
      ],
      "metadata": {
        "colab": {
          "base_uri": "https://localhost:8080/"
        },
        "id": "Z_PQ-w_9WCJR",
        "outputId": "32fd2f90-558b-4a97-f4b4-deeddcf57ba6"
      },
      "execution_count": null,
      "outputs": [
        {
          "output_type": "stream",
          "name": "stdout",
          "text": [
            "[2, 4, 6, 8, 1, 3, 5, 7]\n"
          ]
        }
      ]
    },
    {
      "cell_type": "markdown",
      "source": [
        "Sort() metodu büyük/küçük harfe duyarlıdır. Sort() a göre tüm büyük harfler küçük harflerden önce sıralanır."
      ],
      "metadata": {
        "id": "8SASiZmPWy35"
      }
    },
    {
      "cell_type": "code",
      "source": [
        "#büyük/küçük harfe duyarlılık istemiyorsak sonuç mantık olarak hatalı çıkacaktır.\n",
        "list=[\"a\",\"B\",\"c\",\"d\",\"A\"]\n",
        "list.sort()\n",
        "print(list)"
      ],
      "metadata": {
        "colab": {
          "base_uri": "https://localhost:8080/"
        },
        "id": "IHoZT74VW74S",
        "outputId": "7c30e1dc-4abf-44a2-d13b-d6f9edbbb250"
      },
      "execution_count": null,
      "outputs": [
        {
          "output_type": "stream",
          "name": "stdout",
          "text": [
            "['A', 'B', 'a', 'c', 'd']\n"
          ]
        }
      ]
    },
    {
      "cell_type": "markdown",
      "source": [
        "Sıralamanın büyük/küçük harf duyarlı olmamasını istiyorsanız key=function argümanı olarak str.lower() kullanın."
      ],
      "metadata": {
        "id": "BOauoXT4XN8m"
      }
    },
    {
      "cell_type": "code",
      "source": [
        "list=[\"a\",\"B\",\"c\",\"d\",\"A\"]\n",
        "list.sort(key=str.lower)\n",
        "print(list)"
      ],
      "metadata": {
        "colab": {
          "base_uri": "https://localhost:8080/"
        },
        "id": "1xWEVKLDXTIP",
        "outputId": "dc02895a-64cf-4956-e63f-f27676574185"
      },
      "execution_count": null,
      "outputs": [
        {
          "output_type": "stream",
          "name": "stdout",
          "text": [
            "['a', 'A', 'B', 'c', 'd']\n"
          ]
        }
      ]
    },
    {
      "cell_type": "markdown",
      "source": [
        "Bir listeyi ters çevirmek için reverse() metodu kullanın."
      ],
      "metadata": {
        "id": "aAuYPaXtXjwW"
      }
    },
    {
      "cell_type": "code",
      "source": [
        "list=[\"a\",\"B\",\"c\",\"d\",\"A\"]\n",
        "list.reverse()\n",
        "print(list)"
      ],
      "metadata": {
        "colab": {
          "base_uri": "https://localhost:8080/"
        },
        "id": "uGrzWQoPXnO5",
        "outputId": "b96d1e7c-bcee-4d4b-e87a-7d4578bd1036"
      },
      "execution_count": null,
      "outputs": [
        {
          "output_type": "stream",
          "name": "stdout",
          "text": [
            "['A', 'd', 'c', 'B', 'a']\n"
          ]
        }
      ]
    },
    {
      "cell_type": "markdown",
      "source": [
        "#Listeyi Kopyalama"
      ],
      "metadata": {
        "id": "BwaPX3AbX3a_"
      }
    },
    {
      "cell_type": "markdown",
      "source": [
        "List2 = List1 yaptığınızda\n",
        "* List2 List1'i referans alır.\n",
        "* List 1 de yapılan değişiklikler List2 ye yansıtılır.\n",
        "\n",
        "List1'in bağımsız olmasını ve birbirlerini etkilememesini istiyorsanız copy() metodunu kullanmalısınız."
      ],
      "metadata": {
        "id": "5W7A3tgmX5Nm"
      }
    },
    {
      "cell_type": "code",
      "source": [
        "liste1=[\"a\",\"b\"]\n",
        "liste2 = liste1 #LİSTE1'DEKİ TÜM DEĞİŞİKLİKLER LİSTE2'Yİ ETKİLER!\n",
        "\n",
        "print(liste1)\n",
        "print(liste2)\n",
        "\n",
        "liste1.append(\"c\")\n",
        "\n",
        "print(liste1)\n",
        "print(liste2)"
      ],
      "metadata": {
        "colab": {
          "base_uri": "https://localhost:8080/"
        },
        "id": "AvGBxKkAZ1q4",
        "outputId": "37235679-fa5b-4589-f15d-b50ebc0943c4"
      },
      "execution_count": null,
      "outputs": [
        {
          "output_type": "stream",
          "name": "stdout",
          "text": [
            "['a', 'b']\n",
            "['a', 'b']\n",
            "['a', 'b', 'c']\n",
            "['a', 'b', 'c']\n"
          ]
        }
      ]
    },
    {
      "cell_type": "code",
      "source": [
        "liste1=[\"a\",\"b\"]\n",
        "liste2 = liste1.copy()#LİSTE1 DEĞİL LİSTE1'İN DEĞERLERİ LİSTE2'YE KOPYALANMIŞTIR!\n",
        "\n",
        "print(liste1)\n",
        "print(liste2)\n",
        "\n",
        "liste1.append(\"c\")\n",
        "\n",
        "print(liste1)\n",
        "print(liste2)"
      ],
      "metadata": {
        "colab": {
          "base_uri": "https://localhost:8080/"
        },
        "id": "4mOqaIpQZkq2",
        "outputId": "94c54bd1-b4ec-486d-be8c-589f7ab81c89"
      },
      "execution_count": null,
      "outputs": [
        {
          "output_type": "stream",
          "name": "stdout",
          "text": [
            "['a', 'b']\n",
            "['a', 'b']\n",
            "['a', 'b', 'c']\n",
            "['a', 'b']\n"
          ]
        }
      ]
    },
    {
      "cell_type": "markdown",
      "source": [
        "Kopyalamanın bir diğer yöntemi list() metodudur."
      ],
      "metadata": {
        "id": "f8lgRGdjaMLR"
      }
    },
    {
      "cell_type": "code",
      "source": [
        "thislist = [\"apple\", \"banana\", \"cherry\"]\n",
        "mylist = list(thislist)\n",
        "print(mylist)"
      ],
      "metadata": {
        "colab": {
          "base_uri": "https://localhost:8080/"
        },
        "id": "taocJ51GaPgn",
        "outputId": "280d69f1-01fd-49e5-b6a5-7a227acc4c3e"
      },
      "execution_count": null,
      "outputs": [
        {
          "output_type": "error",
          "ename": "TypeError",
          "evalue": "'list' object is not callable",
          "traceback": [
            "\u001b[0;31m---------------------------------------------------------------------------\u001b[0m",
            "\u001b[0;31mTypeError\u001b[0m                                 Traceback (most recent call last)",
            "\u001b[0;32m<ipython-input-58-621040ec68bc>\u001b[0m in \u001b[0;36m<cell line: 2>\u001b[0;34m()\u001b[0m\n\u001b[1;32m      1\u001b[0m \u001b[0mthislist\u001b[0m \u001b[0;34m=\u001b[0m \u001b[0;34m[\u001b[0m\u001b[0;34m\"apple\"\u001b[0m\u001b[0;34m,\u001b[0m \u001b[0;34m\"banana\"\u001b[0m\u001b[0;34m,\u001b[0m \u001b[0;34m\"cherry\"\u001b[0m\u001b[0;34m]\u001b[0m\u001b[0;34m\u001b[0m\u001b[0;34m\u001b[0m\u001b[0m\n\u001b[0;32m----> 2\u001b[0;31m \u001b[0mmylist\u001b[0m \u001b[0;34m=\u001b[0m \u001b[0mlist\u001b[0m\u001b[0;34m(\u001b[0m\u001b[0mthislist\u001b[0m\u001b[0;34m)\u001b[0m\u001b[0;34m\u001b[0m\u001b[0;34m\u001b[0m\u001b[0m\n\u001b[0m\u001b[1;32m      3\u001b[0m \u001b[0mprint\u001b[0m\u001b[0;34m(\u001b[0m\u001b[0mmylist\u001b[0m\u001b[0;34m)\u001b[0m\u001b[0;34m\u001b[0m\u001b[0;34m\u001b[0m\u001b[0m\n",
            "\u001b[0;31mTypeError\u001b[0m: 'list' object is not callable"
          ]
        }
      ]
    },
    {
      "cell_type": "markdown",
      "source": [
        "# Listeleri Birleştirme (Join Lists)"
      ],
      "metadata": {
        "id": "cN-14RBsaneR"
      }
    },
    {
      "cell_type": "markdown",
      "source": [
        "#### 1.yöntem : + operatörü ile 2 listeyi birleştirmek"
      ],
      "metadata": {
        "id": "uLbk-wOxasKr"
      }
    },
    {
      "cell_type": "code",
      "source": [
        "list1 = [\"a\", \"b\", \"c\"]\n",
        "list2 = [1, 2, 3]\n",
        "\n",
        "list3 = list1 + list2\n",
        "print(list3)"
      ],
      "metadata": {
        "colab": {
          "base_uri": "https://localhost:8080/"
        },
        "id": "V8pbiJDFa39X",
        "outputId": "f74060cc-7b63-4911-fa27-4d0c16faf324"
      },
      "execution_count": null,
      "outputs": [
        {
          "output_type": "stream",
          "name": "stdout",
          "text": [
            "['a', 'b', 'c', 1, 2, 3]\n",
            "['a', 'b', 'c', 1, 2, 3]\n"
          ]
        }
      ]
    },
    {
      "cell_type": "markdown",
      "source": [
        " #### 2. yöntem: append() ile listeleri birleştirmek"
      ],
      "metadata": {
        "id": "QLnQfArebWIp"
      }
    },
    {
      "cell_type": "code",
      "source": [
        "liste1=[\"a\",\"b\",\"c\"]\n",
        "liste2=[1,2,3]\n",
        "\n",
        "for x in liste2:\n",
        "  liste1.append(x)\n",
        "\n",
        "print(liste1)"
      ],
      "metadata": {
        "colab": {
          "base_uri": "https://localhost:8080/"
        },
        "id": "aX3TVqmcbfeI",
        "outputId": "80e4aa9d-c079-43db-be9c-a6ba6ddc82e1"
      },
      "execution_count": null,
      "outputs": [
        {
          "output_type": "stream",
          "name": "stdout",
          "text": [
            "['a', 'b', 'c', 1, 2, 3]\n"
          ]
        }
      ]
    },
    {
      "cell_type": "markdown",
      "source": [
        "#### 3. yöntem : extend() ile liste1'in sonuna liste2'yi eklemek"
      ],
      "metadata": {
        "id": "33Tu-ZZUcEnv"
      }
    },
    {
      "cell_type": "code",
      "source": [
        "liste1=[\"a\",\"b\",\"c\"]\n",
        "liste2=[1,2,3]\n",
        "\n",
        "liste1.extend(liste2)\n",
        "print(liste1)"
      ],
      "metadata": {
        "colab": {
          "base_uri": "https://localhost:8080/"
        },
        "id": "rULEWslOcN-l",
        "outputId": "5d0addd9-be16-45f7-eb7f-079aef63eb4f"
      },
      "execution_count": null,
      "outputs": [
        {
          "output_type": "stream",
          "name": "stdout",
          "text": [
            "['a', 'b', 'c', 1, 2, 3]\n"
          ]
        }
      ]
    },
    {
      "cell_type": "markdown",
      "source": [
        "#Liste Metodları"
      ],
      "metadata": {
        "id": "uhKefwXzcmpc"
      }
    },
    {
      "cell_type": "markdown",
      "source": [
        "#### 1. append()"
      ],
      "metadata": {
        "id": "OJYznZOGdAWg"
      }
    },
    {
      "cell_type": "markdown",
      "source": [
        "append()listenin sonuna bir öğe ekler.\n",
        "\n",
        "![image.png](data:image/png;base64,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)"
      ],
      "metadata": {
        "id": "kL2DHQ5mdFjM"
      }
    },
    {
      "cell_type": "code",
      "source": [
        "a = [\"apple\", \"banana\", \"cherry\"]\n",
        "b = [\"Ford\", \"BMW\", \"Volvo\"]\n",
        "a.append(b)"
      ],
      "metadata": {
        "id": "w1v-Y7uEcpWJ"
      },
      "execution_count": null,
      "outputs": []
    },
    {
      "cell_type": "markdown",
      "source": [
        "#### 2. clear()"
      ],
      "metadata": {
        "id": "EKQVxT-gd0Zf"
      }
    },
    {
      "cell_type": "markdown",
      "source": [
        "clear(), bir listedeki tüm öğeleri kaldırır.\n",
        "\n",
        "![image.png](data:image/png;base64,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)"
      ],
      "metadata": {
        "id": "pTc1OXg1d2P_"
      }
    },
    {
      "cell_type": "code",
      "source": [
        "fruits = ['apple', 'banana', 'cherry', 'orange']\n",
        "\n",
        "fruits.clear()"
      ],
      "metadata": {
        "id": "JIPdAuM7d5m4"
      },
      "execution_count": null,
      "outputs": []
    },
    {
      "cell_type": "markdown",
      "source": [
        "#### 3.copy()"
      ],
      "metadata": {
        "id": "ltv_tgdAd_25"
      }
    },
    {
      "cell_type": "markdown",
      "source": [
        "copy()belirtilen listenin bir kopyasını döndürür.\n",
        "\n",
        "![image.png](data:image/png;base64,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)"
      ],
      "metadata": {
        "id": "E0axtjXmeB0P"
      }
    },
    {
      "cell_type": "code",
      "source": [
        "fruits = ['apple', 'banana', 'cherry', 'orange']\n",
        "\n",
        "x = fruits.copy()"
      ],
      "metadata": {
        "id": "LiE5KohLeFZk"
      },
      "execution_count": null,
      "outputs": []
    },
    {
      "cell_type": "markdown",
      "source": [
        "#### 4. count()"
      ],
      "metadata": {
        "id": "PvFfUekAeLt0"
      }
    },
    {
      "cell_type": "markdown",
      "source": [
        "count(), belirtilen değere sahip öğelerin sayısını döndürür.\n",
        "\n",
        "![image.png](data:image/png;base64,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)"
      ],
      "metadata": {
        "id": "anE_UxDaeNue"
      }
    },
    {
      "cell_type": "code",
      "source": [
        "fruits = ['apple', 'banana', 'cherry']\n",
        "\n",
        "x = fruits.count(\"cherry\")"
      ],
      "metadata": {
        "id": "-1IRRQabeSFo"
      },
      "execution_count": null,
      "outputs": []
    },
    {
      "cell_type": "code",
      "source": [
        "points = [1, 4, 2, 9, 7, 8, 9, 3, 1]\n",
        "\n",
        "x = points.count(9)"
      ],
      "metadata": {
        "id": "xYg7KWwgecGR"
      },
      "execution_count": null,
      "outputs": []
    },
    {
      "cell_type": "markdown",
      "source": [
        "#### 5. extend()"
      ],
      "metadata": {
        "id": "r0Og65liegxu"
      }
    },
    {
      "cell_type": "markdown",
      "source": [
        "extend()belirtilen liste öğelerini (veya yinelenebilir herhangi bir öğeyi) geçerli listenin sonuna ekler."
      ],
      "metadata": {
        "id": "MdeptQ-6eiOG"
      }
    },
    {
      "cell_type": "markdown",
      "source": [
        "![image.png](data:image/png;base64,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)"
      ],
      "metadata": {
        "id": "xjm9cLouQ878"
      }
    },
    {
      "cell_type": "code",
      "source": [
        "fruits = ['apple', 'banana', 'cherry']\n",
        "\n",
        "cars = ['Ford', 'BMW', 'Volvo']\n",
        "\n",
        "fruits.extend(cars)"
      ],
      "metadata": {
        "id": "j8c0PTMEQzyN"
      },
      "execution_count": null,
      "outputs": []
    },
    {
      "cell_type": "markdown",
      "source": [
        " #### 6. index()"
      ],
      "metadata": {
        "id": "zOuNV3IKQ-8L"
      }
    },
    {
      "cell_type": "markdown",
      "source": [
        "index() belirtilen değerin ilk geçtiği yerdeki konumu döndürür."
      ],
      "metadata": {
        "id": "bVv7-we0RBSr"
      }
    },
    {
      "cell_type": "markdown",
      "source": [
        "![image.png](data:image/png;base64,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)"
      ],
      "metadata": {
        "id": "cT7nytVaRME9"
      }
    },
    {
      "cell_type": "markdown",
      "source": [
        "Not: Yöntem index()yalnızca değerin ilk oluşumunu döndürür."
      ],
      "metadata": {
        "id": "FrVdkzfARRfN"
      }
    },
    {
      "cell_type": "code",
      "source": [
        "fruits = [4, 55, 64, 32, 16, 32]\n",
        "\n",
        "x = fruits.index(32)"
      ],
      "metadata": {
        "id": "7ITWyPLgRHIN"
      },
      "execution_count": null,
      "outputs": []
    },
    {
      "cell_type": "markdown",
      "source": [
        "#### 7. insert()"
      ],
      "metadata": {
        "id": "Ldz9YSGGRSts"
      }
    },
    {
      "cell_type": "markdown",
      "source": [
        "insert(), belirtilen değeri belirtilen konuma ekler."
      ],
      "metadata": {
        "id": "SGOnQNNKRZ6V"
      }
    },
    {
      "cell_type": "markdown",
      "source": [
        "![image.png](data:image/png;base64,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)"
      ],
      "metadata": {
        "id": "l40DFMwTRffj"
      }
    },
    {
      "cell_type": "code",
      "source": [
        "fruits = ['apple', 'banana', 'cherry']\n",
        "\n",
        "fruits.insert(1, \"orange\")"
      ],
      "metadata": {
        "id": "v1fOtCTkRaYc"
      },
      "execution_count": null,
      "outputs": []
    },
    {
      "cell_type": "markdown",
      "source": [
        "#### 8. pop()"
      ],
      "metadata": {
        "id": "yz1ygAAQRjeb"
      }
    },
    {
      "cell_type": "markdown",
      "source": [
        "pop(), belirtilen konumdaki öğeyi kaldırır.\n",
        "\n"
      ],
      "metadata": {
        "id": "bNHWCiteRmnL"
      }
    },
    {
      "cell_type": "markdown",
      "source": [
        "![image.png](data:image/png;base64,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)"
      ],
      "metadata": {
        "id": "bPHJB0cgR0xU"
      }
    },
    {
      "cell_type": "code",
      "source": [
        "fruits = ['apple', 'banana', 'cherry']\n",
        "\n",
        "fruits.pop(1)"
      ],
      "metadata": {
        "colab": {
          "base_uri": "https://localhost:8080/",
          "height": 35
        },
        "id": "kLh8bN0QRvp7",
        "outputId": "1adccca9-257c-45fd-bb5c-7905d0e47b5c"
      },
      "execution_count": null,
      "outputs": [
        {
          "output_type": "execute_result",
          "data": {
            "text/plain": [
              "'banana'"
            ],
            "application/vnd.google.colaboratory.intrinsic+json": {
              "type": "string"
            }
          },
          "metadata": {},
          "execution_count": 4
        }
      ]
    },
    {
      "cell_type": "markdown",
      "source": [
        "#### 9. remove()"
      ],
      "metadata": {
        "id": "4DKkTaXxR2Te"
      }
    },
    {
      "cell_type": "markdown",
      "source": [
        "remove()belirtilen değere sahip öğenin ilk oluşumunu kaldırır.\n",
        "\n"
      ],
      "metadata": {
        "id": "faQc6wO0R7WX"
      }
    },
    {
      "cell_type": "markdown",
      "source": [
        "![image.png](data:image/png;base64,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)"
      ],
      "metadata": {
        "id": "LjVCi4lcR-o1"
      }
    },
    {
      "cell_type": "code",
      "source": [
        "fruits = ['apple', 'banana', 'cherry']\n",
        "\n",
        "fruits.remove(\"banana\")"
      ],
      "metadata": {
        "id": "PgQB0j4TR758"
      },
      "execution_count": null,
      "outputs": []
    },
    {
      "cell_type": "markdown",
      "source": [
        "#### 10.reverse()"
      ],
      "metadata": {
        "id": "Qcqav-xiSBWl"
      }
    },
    {
      "cell_type": "markdown",
      "source": [
        "reverse(), öğelerin sıralama düzenini tersine çevirir."
      ],
      "metadata": {
        "id": "75LswKHvSF1K"
      }
    },
    {
      "cell_type": "markdown",
      "source": [
        "![image.png](data:image/png;base64,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)"
      ],
      "metadata": {
        "id": "g49zp09WSKOA"
      }
    },
    {
      "cell_type": "code",
      "source": [
        "fruits = ['apple', 'banana', 'cherry']\n",
        "\n",
        "fruits.reverse()"
      ],
      "metadata": {
        "id": "UBw7iArtSHhV"
      },
      "execution_count": null,
      "outputs": []
    },
    {
      "cell_type": "markdown",
      "source": [
        "#### 11. sort()"
      ],
      "metadata": {
        "id": "m6o2_m40SNCU"
      }
    },
    {
      "cell_type": "markdown",
      "source": [
        "sort(), listeyi varsayılan olarak artan şekilde sıralar.\n",
        "\n",
        "Ayrıca sıralama kriterlerine karar verecek bir fonksiyon da oluşturabilirsiniz.\n",
        "\n"
      ],
      "metadata": {
        "id": "_ek2JKe8SOnt"
      }
    },
    {
      "cell_type": "markdown",
      "source": [
        "![image.png](data:image/png;base64,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)"
      ],
      "metadata": {
        "id": "tHjPJeHaSZfc"
      }
    },
    {
      "cell_type": "code",
      "source": [
        "cars = ['Ford', 'BMW', 'Volvo']\n",
        "\n",
        "cars.sort(reverse=True)"
      ],
      "metadata": {
        "id": "Ldi2unc6SaOc"
      },
      "execution_count": null,
      "outputs": []
    },
    {
      "cell_type": "code",
      "source": [
        "# A function that returns the length of the value:\n",
        "def myFunc(e):\n",
        "  return len(e)\n",
        "\n",
        "cars = ['Ford', 'Mitsubishi', 'BMW', 'VW']\n",
        "\n",
        "cars.sort(key=myFunc)"
      ],
      "metadata": {
        "id": "iWg8MPnaShQ0"
      },
      "execution_count": null,
      "outputs": []
    },
    {
      "cell_type": "code",
      "source": [
        "#Sözlüklerin \"yıl\" değerine göre sözlük listesini sıralayın:\n",
        "\n",
        "# A function that returns the 'year' value:\n",
        "def myFunc(e):\n",
        "  return e['year']\n",
        "\n",
        "cars = [\n",
        "  {'car': 'Ford', 'year': 2005},\n",
        "  {'car': 'Mitsubishi', 'year': 2000},\n",
        "  {'car': 'BMW', 'year': 2019},\n",
        "  {'car': 'VW', 'year': 2011}\n",
        "]\n",
        "\n",
        "cars.sort(key=myFunc)"
      ],
      "metadata": {
        "id": "mNP2UvrFSlk1"
      },
      "execution_count": null,
      "outputs": []
    },
    {
      "cell_type": "code",
      "source": [
        "# A function that returns the length of the value:\n",
        "def myFunc(e):\n",
        "  return len(e)\n",
        "\n",
        "cars = ['Ford', 'Mitsubishi', 'BMW', 'VW']\n",
        "\n",
        "cars.sort(reverse=True, key=myFunc)"
      ],
      "metadata": {
        "id": "N-l7idaiSqyN"
      },
      "execution_count": null,
      "outputs": []
    },
    {
      "cell_type": "markdown",
      "source": [
        "EXAMPLES ON UDEMY\n",
        "\n",
        "Basit Seviye Sorular:\n",
        "\n",
        "* Bir boş liste oluşturun ve bu listeye elemanlar ekleyerek listeyi yazdırın.\n",
        "* Bir listedeki belirli bir elemanın indeksini bulun.\n",
        "* Bir listeyi ters çevirin.\n",
        "* İki listeyi birleştirerek yeni bir liste oluşturun.\n",
        "* Bir listeden belirli bir elemanı kaldırın.\n",
        "\n",
        "\n",
        "\n",
        "Orta Seviye Sorular:\n",
        "* Bir listedeki çift sayıları bulup yeni bir liste oluşturun.\n",
        "* Bir listedeki elemanları alfabetik sıraya göre sıralayın.\n",
        "* Bir listenin belirli bir aralığındaki elemanları kesip yeni bir liste oluşturun.\n",
        "* Bir listede tekrar eden elemanları bulun.\n",
        "* İki listenin kesişimini bulun.\n",
        "\n",
        "Zor Seviye Sorular:\n",
        "\n",
        "* İki boyutlu bir listeyi düz bir liste haline getirin.\n",
        "* Bir listedeki elemanları başka bir liste içindeki elemanlarla çarpın (zip ve map fonksiyonlarını kullanarak).\n",
        "* Listenin içindeki elemanların tüm kombinasyonlarını bulun.\n",
        "* Bir listenin içindeki elemanları belirli bir sırayla döndüren bir döngü (cycle) oluşturun.\n",
        "* İki sıralı liste üzerinde birleşik bir sıralı liste oluşturun (merge sort algoritmasını uygulayarak)."
      ],
      "metadata": {
        "id": "HZ9OUMgEVoBA"
      }
    },
    {
      "cell_type": "code",
      "source": [
        "#Bir boş liste oluşturun ve bu listeye elemanlar ekleyerek listeyi yazdırın.\n",
        "liste1=[]\n",
        "liste1.append(\"ahmet\")\n",
        "liste1.append(\"ayşe\")\n",
        "liste1.append(\"cengiz\")\n",
        "for x in liste1:\n",
        "  print(x)"
      ],
      "metadata": {
        "colab": {
          "base_uri": "https://localhost:8080/"
        },
        "id": "GPac2pH_VnV1",
        "outputId": "6a2586f2-77b3-4d40-93aa-1432fd537c55"
      },
      "execution_count": 3,
      "outputs": [
        {
          "output_type": "stream",
          "name": "stdout",
          "text": [
            "ahmet\n",
            "ayşe\n",
            "cengiz\n"
          ]
        }
      ]
    },
    {
      "cell_type": "code",
      "source": [
        "#Bir listedeki belirli bir elemanın indeksini bulun.\n",
        "liste1 = [\"abc\",\"bde\",\"eee\"]\n",
        "x = liste1.index(\"eee\")\n",
        "print(x)"
      ],
      "metadata": {
        "colab": {
          "base_uri": "https://localhost:8080/"
        },
        "id": "e2gtW2YNXeZ9",
        "outputId": "a5741c9e-fcf8-4df3-c5e8-824d83e40ff3"
      },
      "execution_count": 4,
      "outputs": [
        {
          "output_type": "stream",
          "name": "stdout",
          "text": [
            "2\n"
          ]
        }
      ]
    },
    {
      "cell_type": "code",
      "source": [
        "#Bir listeyi ters çevirin.\n",
        "liste1=[\"a\",\"b\",\"c\"]\n",
        "liste1.reverse()\n",
        "print(liste1)"
      ],
      "metadata": {
        "colab": {
          "base_uri": "https://localhost:8080/"
        },
        "id": "wAhpds0MX2u1",
        "outputId": "d26ac18a-ed98-4bca-8ec5-429d56ffc297"
      },
      "execution_count": 5,
      "outputs": [
        {
          "output_type": "stream",
          "name": "stdout",
          "text": [
            "['c', 'b', 'a']\n"
          ]
        }
      ]
    },
    {
      "cell_type": "code",
      "source": [
        "#İki listeyi birleştirerek yeni bir liste oluşturun.\n",
        "liste1=[1,2,3]\n",
        "liste2=[4,5,6]\n",
        "liste3 = liste1 + liste2\n",
        "print(liste3)"
      ],
      "metadata": {
        "colab": {
          "base_uri": "https://localhost:8080/"
        },
        "id": "aLsqCX-cX_0d",
        "outputId": "cb8e1b8e-1903-4410-9a5d-a7a675769fec"
      },
      "execution_count": 6,
      "outputs": [
        {
          "output_type": "stream",
          "name": "stdout",
          "text": [
            "[1, 2, 3, 4, 5, 6]\n"
          ]
        }
      ]
    },
    {
      "cell_type": "code",
      "source": [
        "#Bir listeden belirli bir elemanı kaldırın.\n",
        "liste1=[3,4,2,7]\n",
        "liste1.remove(4)\n",
        "print(liste1)"
      ],
      "metadata": {
        "colab": {
          "base_uri": "https://localhost:8080/"
        },
        "id": "MH2_HRGCYLp9",
        "outputId": "25c406d2-5770-49ed-b3e6-83efb2723e29"
      },
      "execution_count": 7,
      "outputs": [
        {
          "output_type": "stream",
          "name": "stdout",
          "text": [
            "[3, 2, 7]\n"
          ]
        }
      ]
    },
    {
      "cell_type": "code",
      "source": [
        "#Bir listedeki çift sayıları bulup yeni bir liste oluşturun.\n",
        "liste1=[1,2,3,4,5,6,7]\n",
        "liste2 = [x  for x in liste1 if x%2==0]  #list comprehension yöntemi ile\n",
        "print(liste2)"
      ],
      "metadata": {
        "colab": {
          "base_uri": "https://localhost:8080/"
        },
        "id": "7xFPSsqjYVZu",
        "outputId": "675f67a9-8a14-4b9d-e8f4-584489321d3d"
      },
      "execution_count": 8,
      "outputs": [
        {
          "output_type": "stream",
          "name": "stdout",
          "text": [
            "[2, 4, 6]\n"
          ]
        }
      ]
    },
    {
      "cell_type": "code",
      "source": [
        "#Bir listedeki elemanları alfabetik sıraya göre sıralayın.\n",
        "liste1 = [\"abc\",\"dee\",\"fgd\",\"ccc\"]\n",
        "liste1.sort()\n",
        "print(liste1)"
      ],
      "metadata": {
        "colab": {
          "base_uri": "https://localhost:8080/"
        },
        "id": "9OYFPfbhY0kN",
        "outputId": "008d3642-ceb0-4899-9f1c-6837ce5a7b86"
      },
      "execution_count": 9,
      "outputs": [
        {
          "output_type": "stream",
          "name": "stdout",
          "text": [
            "['abc', 'ccc', 'dee', 'fgd']\n"
          ]
        }
      ]
    },
    {
      "cell_type": "code",
      "source": [
        "#Bir listenin belirli bir aralığındaki elemanları kesip yeni bir liste oluşturun.\n",
        "liste1=[1,2,3,4,5]\n",
        "liste2 = liste1[1:3]\n",
        "print(liste2)"
      ],
      "metadata": {
        "colab": {
          "base_uri": "https://localhost:8080/"
        },
        "id": "bYuYwXrlY_u-",
        "outputId": "a1dc71ad-cfa3-45a0-9447-c0435d3b919f"
      },
      "execution_count": 10,
      "outputs": [
        {
          "output_type": "stream",
          "name": "stdout",
          "text": [
            "[2, 3]\n"
          ]
        }
      ]
    },
    {
      "cell_type": "code",
      "source": [
        "#Bir listede tekrar eden elemanları bulun.\n",
        "liste1=[\"a\",\"b\",\"a\"]\n",
        "yeniListe=[]\n",
        "\n",
        "for y in liste1:\n",
        "  if liste1.count(y)>1:\n",
        "    if yeniListe.count(y)==0:\n",
        "     yeniListe.append(y)\n",
        "\n",
        "print(yeniListe)"
      ],
      "metadata": {
        "colab": {
          "base_uri": "https://localhost:8080/"
        },
        "id": "3ZnWxEuwZPmV",
        "outputId": "00231e07-62f0-42c5-82f4-5b1bd6d643f4"
      },
      "execution_count": 22,
      "outputs": [
        {
          "output_type": "stream",
          "name": "stdout",
          "text": [
            "['a']\n"
          ]
        }
      ]
    },
    {
      "cell_type": "code",
      "source": [
        "#İki listenin kesişimini bulun.\n",
        "liste1=[1,2,3,2,4,5]\n",
        "liste2=[3,4,5,6,7,]\n",
        "yeni=[]\n",
        "for x in liste1:\n",
        "  if x in liste2:\n",
        "    if not x in yeni:\n",
        "      yeni.append(x)\n",
        "\n",
        "print(yeni)"
      ],
      "metadata": {
        "colab": {
          "base_uri": "https://localhost:8080/"
        },
        "id": "q4BLS92ucDHN",
        "outputId": "1e7cf00b-1001-4eb8-b533-f3b5f867a178"
      },
      "execution_count": 24,
      "outputs": [
        {
          "output_type": "stream",
          "name": "stdout",
          "text": [
            "[3, 4, 5]\n"
          ]
        }
      ]
    },
    {
      "cell_type": "code",
      "source": [
        "liste1=[1,2,3,2,4,5]\n",
        "liste1 = liste1 + ['a']\n",
        "print(liste1)"
      ],
      "metadata": {
        "colab": {
          "base_uri": "https://localhost:8080/"
        },
        "id": "fV5AQw6rhpRw",
        "outputId": "bfd3da6f-16a1-428d-ff92-760235134a82"
      },
      "execution_count": 25,
      "outputs": [
        {
          "output_type": "stream",
          "name": "stdout",
          "text": [
            "[1, 2, 3, 2, 4, 5, 'a']\n"
          ]
        }
      ]
    }
  ]
}
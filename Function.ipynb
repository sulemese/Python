{
  "nbformat": 4,
  "nbformat_minor": 0,
  "metadata": {
    "colab": {
      "provenance": []
    },
    "kernelspec": {
      "name": "python3",
      "display_name": "Python 3"
    },
    "language_info": {
      "name": "python"
    }
  },
  "cells": [
    {
      "cell_type": "markdown",
      "source": [
        "# **Fonksiyonlar**"
      ],
      "metadata": {
        "id": "OCFpCy01Hyjg"
      }
    },
    {
      "cell_type": "markdown",
      "source": [
        "Fonksiyon, yalnızca çağrıldığında çalışan bir kod bloğudur.\n",
        "\n",
        "Parametre olarak bilinen verileri bir fonksiyona aktarabilirsiniz.\n",
        "\n",
        "Bir işlev sonuç olarak verileri döndürebilir.\n",
        "\n"
      ],
      "metadata": {
        "id": "kYRIzXZiH0pJ"
      }
    },
    {
      "cell_type": "markdown",
      "source": [
        "Fonksiyon kullanmanın amacı nedir ?\n",
        "\n",
        "Bir kod bloğunun birden çok yerde kullanıldığı yada çağırılabildiği durumlarda tekrar tekrar yazılmasını önlemek amacıyla kullanılır. Kod bloğu 1 kere tanımlanır. istenen yerlerde çağırılarak kullanılır."
      ],
      "metadata": {
        "id": "S-fOmyoK7XbK"
      }
    },
    {
      "cell_type": "markdown",
      "source": [
        "# Fonksiyon Oluşturulması"
      ],
      "metadata": {
        "id": "-Y5Tb0PIH3DY"
      }
    },
    {
      "cell_type": "markdown",
      "source": [
        "Fonksiyonlar \"def\" anahtar kelimesi ile oluşturulur.\n",
        "\n",
        "Fonksiyona sonradan okuyan kişilerin anlaması için \"\"\" \"\"\" ifadeleri yani docstringler bırakmak okunaklık açısından önemlidir."
      ],
      "metadata": {
        "id": "30M-JIb8H5pV"
      }
    },
    {
      "cell_type": "code",
      "execution_count": null,
      "metadata": {
        "id": "Bic67qH5swqA"
      },
      "outputs": [],
      "source": [
        "def function1():\n",
        "  \"\"\"\n",
        "  Bu fonksiyon ekrana hello word yazmaktadır.\n",
        "  \"\"\"\n",
        "  print(\"hello world\")\n"
      ]
    },
    {
      "cell_type": "markdown",
      "source": [
        "# Fonksiyonun Çağırılması"
      ],
      "metadata": {
        "id": "O6evDEK2INgk"
      }
    },
    {
      "cell_type": "markdown",
      "source": [
        "#### 1. Positional Arguments : Fonksiyonu çağırmak için sırasıyla parametre değerleri verilir. Burda parametre sırasına uyulmalıdır."
      ],
      "metadata": {
        "id": "FFDLEFn0IQKD"
      }
    },
    {
      "cell_type": "code",
      "source": [
        "def function1(name,surname):\n",
        "  print(\"hello \"+ name + \" \" + surname)\n",
        "\n",
        "function1(\"şule\",\"meşe\")"
      ],
      "metadata": {
        "id": "yZoMnGxFIYAV"
      },
      "execution_count": null,
      "outputs": []
    },
    {
      "cell_type": "markdown",
      "source": [
        "#### 2. Keyword Arguments : Parametreler key=value şeklinde verilir. Burada parametreleri sıra ile vermek zorunlu değildir. Bu yönteme keyword arguments denir.\n",
        "\n"
      ],
      "metadata": {
        "id": "00oKjbltMgA5"
      }
    },
    {
      "cell_type": "code",
      "source": [
        "def function1(name,surname):\n",
        "  print(\"hello \"+ name + \" \" + surname)\n",
        "\n",
        "function1(surname=\"meşe\",name=\"şule\")"
      ],
      "metadata": {
        "id": "bfQFAOrKNCbv",
        "colab": {
          "base_uri": "https://localhost:8080/"
        },
        "outputId": "a5acad2f-38d1-46e9-dced-be67aa31a6c0"
      },
      "execution_count": null,
      "outputs": [
        {
          "output_type": "stream",
          "name": "stdout",
          "text": [
            "hello şule meşe\n"
          ]
        }
      ]
    },
    {
      "cell_type": "markdown",
      "source": [
        "#### NOT !\n",
        "\n",
        "Fonksiyonu parametre sayısından farklı değerlerle çağırmak hata verir."
      ],
      "metadata": {
        "id": "oaztJYkYRpWI"
      }
    },
    {
      "cell_type": "code",
      "source": [
        "def myfunc(name):\n",
        "  print(name)\n",
        "\n",
        "myfunc(\"şule\",\"meşe\")"
      ],
      "metadata": {
        "id": "wftXgR-7R1te"
      },
      "execution_count": null,
      "outputs": []
    },
    {
      "cell_type": "markdown",
      "source": [
        "# Fonksiyon Tipleri"
      ],
      "metadata": {
        "id": "7J_oRSrwIcEA"
      }
    },
    {
      "cell_type": "markdown",
      "source": [
        "## 1. Parametresiz Fonksiyon"
      ],
      "metadata": {
        "id": "ZzuAQ1AcIrUY"
      }
    },
    {
      "cell_type": "markdown",
      "source": [
        "Fonksiyon parametre almaz."
      ],
      "metadata": {
        "id": "5u_vA9iKIuNr"
      }
    },
    {
      "cell_type": "code",
      "source": [
        "def myfunc():\n",
        "  print(\"hello\")\n",
        "\n",
        "myfunc()"
      ],
      "metadata": {
        "id": "cEkYr_3hIxdC"
      },
      "execution_count": null,
      "outputs": []
    },
    {
      "cell_type": "markdown",
      "source": [
        "## 2. Parametreli Fonksiyon"
      ],
      "metadata": {
        "id": "0ZRoMBPQI03c"
      }
    },
    {
      "cell_type": "markdown",
      "source": [
        "Fonksiyon parametre alır.\n",
        "Bilgiler argümanlar olarak işlevlere aktarılabilir.\n",
        "\n",
        "Bağımsız değişkenler, işlev adından sonra parantez içinde belirtilir.\n",
        "\n",
        "İstediğiniz kadar argüman ekleyebilirsiniz, sadece virgülle ayırın."
      ],
      "metadata": {
        "id": "90zv26suI4Rd"
      }
    },
    {
      "cell_type": "code",
      "source": [
        "def myfunc(name,age):\n",
        "  print(\"my name is \" , name , \" and my age is \" , age)\n",
        "\n",
        "myfunc(\"şule\",16)"
      ],
      "metadata": {
        "id": "31JIUhgcI6lv"
      },
      "execution_count": null,
      "outputs": []
    },
    {
      "cell_type": "code",
      "source": [
        "def myfunc(name,surname):\n",
        "  print(name + \" \" + surname )\n",
        "\n",
        "myfunc(\"şule\",\"meşe\")"
      ],
      "metadata": {
        "id": "nekW_D25Jdoz"
      },
      "execution_count": null,
      "outputs": []
    },
    {
      "cell_type": "markdown",
      "source": [
        "## 3.  Arbitrary *Arguments* , *args"
      ],
      "metadata": {
        "id": "s4c-AtfDKN2C"
      }
    },
    {
      "cell_type": "markdown",
      "source": [
        "Fonksiyona kaç adet parametre aktarılacağını bilmiyorsak fonksiyon tanımında parametrenin önüne \"*\" koyarız. Bu şekilde fonksiyon hata almadan çalışır."
      ],
      "metadata": {
        "id": "MLjoaBOpKT8B"
      }
    },
    {
      "cell_type": "code",
      "source": [
        "def myfunc(*name):\n",
        "  print(name[1])\n",
        "\n",
        "myfunc(\"şule\",\"meşe\")"
      ],
      "metadata": {
        "colab": {
          "base_uri": "https://localhost:8080/"
        },
        "id": "qOhlRF4lKoNs",
        "outputId": "483c81bf-51df-453d-a030-85a5d7e43e91"
      },
      "execution_count": null,
      "outputs": [
        {
          "output_type": "stream",
          "name": "stdout",
          "text": [
            "meşe\n"
          ]
        }
      ]
    },
    {
      "cell_type": "markdown",
      "source": [
        "## 4. Arbitrary Keyword Arguments, **kwargs"
      ],
      "metadata": {
        "id": "ANV0YZVMOH85"
      }
    },
    {
      "cell_type": "markdown",
      "source": [
        "Fonkaiyona parametre olarak kaç adet keyword argüman geçeceğini bilmiyorsak fonksiyonda argüman adının önüne ** koyarız."
      ],
      "metadata": {
        "id": "Piaw-oQpSbpp"
      }
    },
    {
      "cell_type": "code",
      "source": [
        "def myfunc(**name):\n",
        "  print(name[\"firstname\"])\n",
        "\n",
        "myfunc(firstname=\"şule\",lastname=\"meşe\")"
      ],
      "metadata": {
        "colab": {
          "base_uri": "https://localhost:8080/"
        },
        "id": "1pTtytQUS7aG",
        "outputId": "8a619952-9ee9-45d6-d2c1-0c058a0e8a1a"
      },
      "execution_count": null,
      "outputs": [
        {
          "output_type": "stream",
          "name": "stdout",
          "text": [
            "şule\n"
          ]
        }
      ]
    },
    {
      "cell_type": "markdown",
      "source": [
        "## 5. Default Parametreli Fonksiyon"
      ],
      "metadata": {
        "id": "cizkq2CkWmbX"
      }
    },
    {
      "cell_type": "markdown",
      "source": [
        "Fonksiyonu parametre vermeden çağırırsak vasayılan değerini kullanır."
      ],
      "metadata": {
        "id": "ZgZEJgmzWppP"
      }
    },
    {
      "cell_type": "code",
      "source": [
        "def myfunc(name=\"şule\"):\n",
        "  print(\"HELLO\" + \" \" + name)\n",
        "\n",
        "myfunc()\n",
        "myfunc(\"ahmet\")"
      ],
      "metadata": {
        "colab": {
          "base_uri": "https://localhost:8080/"
        },
        "id": "2IlRCbnVWyzr",
        "outputId": "8a9b13cf-02ed-40a1-9b89-694eee0fe12d"
      },
      "execution_count": null,
      "outputs": [
        {
          "output_type": "stream",
          "name": "stdout",
          "text": [
            "HELLO şule\n",
            "HELLO ahmet\n"
          ]
        }
      ]
    },
    {
      "cell_type": "markdown",
      "source": [
        "defult parametreler ortaya yazılmaz , en sona yazılır !"
      ],
      "metadata": {
        "id": "HgZqUfdY3kkB"
      }
    },
    {
      "cell_type": "code",
      "source": [
        "def myfunc(*args,age=30):\n",
        "  print(age,args[0])\n",
        "\n",
        "myfunc(45,age=50)\n"
      ],
      "metadata": {
        "colab": {
          "base_uri": "https://localhost:8080/"
        },
        "id": "pCpYuOg73oLx",
        "outputId": "467c071f-aa76-41e5-ed98-2d2b980e786a"
      },
      "execution_count": null,
      "outputs": [
        {
          "output_type": "stream",
          "name": "stdout",
          "text": [
            "50 45\n"
          ]
        }
      ]
    },
    {
      "cell_type": "markdown",
      "source": [
        "# Fonksiyona Argüman Olarak Değişik Veri Tipleri Göndermek"
      ],
      "metadata": {
        "id": "yOANJcxyXWkp"
      }
    },
    {
      "cell_type": "markdown",
      "source": [
        "Bir işleve herhangi bir veri türü argümanını (dize, sayı, liste, sözlük vb.) gönderebilirsiniz; bu, işlevin içindeki aynı veri türü olarak kabul edilecektir.\n",
        "\n",
        "Örneğin, argüman olarak bir Liste gönderirseniz, işleve ulaştığında bu yine de bir Liste olacaktır:"
      ],
      "metadata": {
        "id": "B9xKdvGuXkHn"
      }
    },
    {
      "cell_type": "code",
      "source": [
        "def my_function(food):\n",
        "  for x in food:\n",
        "    print(x)\n",
        "\n",
        "fruits = [\"apple\", \"banana\", \"cherry\"]\n",
        "\n",
        "my_function(fruits)"
      ],
      "metadata": {
        "colab": {
          "base_uri": "https://localhost:8080/"
        },
        "id": "1gci-o68Xm4M",
        "outputId": "f19876c3-35dd-4f15-a51c-d5b626ad4f14"
      },
      "execution_count": null,
      "outputs": [
        {
          "output_type": "stream",
          "name": "stdout",
          "text": [
            "apple\n",
            "banana\n",
            "cherry\n"
          ]
        }
      ]
    },
    {
      "cell_type": "markdown",
      "source": [
        "# Dönüş Değeri\n",
        "\n",
        "Bir fonksiyonun değer döndürmesine izin vermek için \"return\" anahtar kelimesi kullanılır."
      ],
      "metadata": {
        "id": "H0ndx0PaXv-u"
      }
    },
    {
      "cell_type": "code",
      "source": [
        "def my_function(x):\n",
        "  return 5 * x\n",
        "\n",
        "print(my_function(3))\n",
        "print(my_function(5))\n",
        "print(my_function(9))"
      ],
      "metadata": {
        "colab": {
          "base_uri": "https://localhost:8080/"
        },
        "id": "jZMoVaWCX7c3",
        "outputId": "367bac2c-64d8-4b2d-ed7f-ed3c2f275250"
      },
      "execution_count": null,
      "outputs": [
        {
          "output_type": "stream",
          "name": "stdout",
          "text": [
            "15\n",
            "25\n",
            "45\n"
          ]
        }
      ]
    },
    {
      "cell_type": "markdown",
      "source": [
        "# Pass Statement\n",
        "\n",
        "Fonksiyonun gövdesi boş olamaz. Eğer boş olması gerekliyse gövdeye \"pass\" anahtar kelimesi yazılır ve hata almaktan kaçınılır."
      ],
      "metadata": {
        "id": "a5aFOuXeYOu_"
      }
    },
    {
      "cell_type": "code",
      "source": [
        "def myfunc():\n",
        "  pass"
      ],
      "metadata": {
        "id": "5KKcIHLmYYG_"
      },
      "execution_count": null,
      "outputs": []
    },
    {
      "cell_type": "markdown",
      "source": [
        "# Positional-Only Arguments\n",
        "\n",
        "Bir fonksiyonun sadece positional arguments almasını istiyorsak fonksiyon tanımında parametrelerin sonuna \",/\" ekleriz."
      ],
      "metadata": {
        "id": "GVQcsGIzYouQ"
      }
    },
    {
      "cell_type": "code",
      "source": [
        "def myfunc(name,/):\n",
        "  print(name)\n",
        "\n",
        "myfunc(\"şule\")\n",
        "#myfunc(name=\"şule\") -> hata verir"
      ],
      "metadata": {
        "colab": {
          "base_uri": "https://localhost:8080/"
        },
        "id": "OsxCdyITY2zH",
        "outputId": "ca125a1c-5d7d-4076-c45e-1a814266edc5"
      },
      "execution_count": null,
      "outputs": [
        {
          "output_type": "stream",
          "name": "stdout",
          "text": [
            "şule\n"
          ]
        }
      ]
    },
    {
      "cell_type": "markdown",
      "source": [
        "# Keyword-Only Arguments\n",
        "Bir fonksiyonun sadece keyword argüman almasını istiyorsak fonksiyon tanımında parametrelerin başına \"*,\" ekleriz."
      ],
      "metadata": {
        "id": "Cx4X-NjIZ64I"
      }
    },
    {
      "cell_type": "code",
      "source": [
        "def myfunc(*,name):\n",
        "  print(name)\n",
        "\n",
        "myfunc(name=\"şule\")"
      ],
      "metadata": {
        "colab": {
          "base_uri": "https://localhost:8080/"
        },
        "id": "lIDdadluaWcn",
        "outputId": "164fae5d-0b64-4a2e-efbf-5af1d79140bb"
      },
      "execution_count": null,
      "outputs": [
        {
          "output_type": "stream",
          "name": "stdout",
          "text": [
            "şule\n"
          ]
        }
      ]
    },
    {
      "cell_type": "markdown",
      "source": [
        "# Positional-Only ve Keyword-Only Kombinasyonu\n",
        "Bir fonksiyonda hem keyword hem positional argümanları kullanmak isteyebiliriz. O zaman fonksiyon tanımında Positional Argümanların sonuna ,/ işareti ve keyword argümanların başına *, işareti ekleriz."
      ],
      "metadata": {
        "id": "LLXTn-9XalX4"
      }
    },
    {
      "cell_type": "code",
      "source": [
        "def myfunc(name1,name2,/, *, age1,age2):\n",
        "  print(name1,name2,age1,age2)\n",
        "\n",
        "myfunc(\"şule\",\"mert\",age1=16,age2=17)"
      ],
      "metadata": {
        "colab": {
          "base_uri": "https://localhost:8080/"
        },
        "id": "xSp7hSgJbUT-",
        "outputId": "761d1090-73f5-4414-84ee-0041e4779bb4"
      },
      "execution_count": null,
      "outputs": [
        {
          "output_type": "stream",
          "name": "stdout",
          "text": [
            "şule mert 16 17\n"
          ]
        }
      ]
    },
    {
      "cell_type": "markdown",
      "source": [
        "# Recursion (Özyineleme)\n",
        "Özyineleme bir fonksiyonun kendisini çağırmasıdır.\n",
        "Özyineleme yazarken dikkatli olunmalıdır. Sonsuz döngüye yol açılmamalıdır."
      ],
      "metadata": {
        "id": "p90bTF7JcbSR"
      }
    },
    {
      "cell_type": "code",
      "source": [
        "def faktoryel(k):\n",
        "  if(k > 1):\n",
        "    x = k*faktoryel(k-1)\n",
        "    return(x)\n",
        "  else:\n",
        "    x=1\n",
        "    return x\n",
        "\n",
        "print(faktoryel(5))"
      ],
      "metadata": {
        "colab": {
          "base_uri": "https://localhost:8080/"
        },
        "id": "z6-qgWQfdubg",
        "outputId": "fafd5cce-3422-4a70-88bb-ec7beb977d96"
      },
      "execution_count": null,
      "outputs": [
        {
          "output_type": "stream",
          "name": "stdout",
          "text": [
            "120\n"
          ]
        }
      ]
    },
    {
      "cell_type": "markdown",
      "source": [
        "\n",
        "\n",
        "---\n",
        "\n"
      ],
      "metadata": {
        "id": "-hKw8OOD94iw"
      }
    },
    {
      "cell_type": "markdown",
      "source": [
        "#ÖRNEKLER"
      ],
      "metadata": {
        "id": "HshGfFCs95TP"
      }
    },
    {
      "cell_type": "code",
      "source": [
        "#Fonksiyon içinde fonksiyon çağırılabilir.\n",
        "\"\"\"\n",
        "a yada b den büyük olanı döndürür.\n",
        "argümanlar : a(int),b(int)\n",
        "return a yada b\n",
        "\"\"\"\n",
        "def buyukSayiDondur(a,b):\n",
        "  if a>b:\n",
        "    return a\n",
        "  elif b>a:\n",
        "    return b\n",
        "\n",
        "\"\"\"\n",
        "a ve b yi buyukSayiDondur() ' e gönderir. Büyük olan sayıyı buyukSayi değişkenine atar. SablonMetin ise büyükSayi değişkeninin değerini bastırır.\n",
        "argümanlar:a(int),b(int)\n",
        "\n",
        "\"\"\"\n",
        "def metinYazdir(a,b):\n",
        "  buyukSayi = buyukSayiDondur(a,b)\n",
        "  sablonMetin = \"{} daha buyuk sayıdır\".format(buyukSayi)\n",
        "  print(sablonMetin)\n",
        "\n",
        "metinYazdir(50,10)\n",
        "\n",
        "\n",
        "\n"
      ],
      "metadata": {
        "colab": {
          "base_uri": "https://localhost:8080/"
        },
        "id": "Pc9iPMLU96cG",
        "outputId": "c7198d1d-6b76-4957-dc1a-4e3b083c5061"
      },
      "execution_count": 2,
      "outputs": [
        {
          "output_type": "stream",
          "name": "stdout",
          "text": [
            "50 daha buyuk sayıdır\n"
          ]
        }
      ]
    },
    {
      "cell_type": "code",
      "source": [
        "\"\"\"\n",
        "Bu fonksiyon argüman olarak string alır. stringi boşluk karakterine göre böler ve liste haline getirir. Listenin 0. elemanı ve 1. elemanını isim , soyisim dknlerine atar.\n",
        "argümanlar:isimSoyisim(string)\n",
        "\"\"\"\n",
        "def isimSoyisimAyırma(isimSoyisim):\n",
        "  isim = isimSoyisim.split()[0]\n",
        "  soyisim=isimSoyisim.split()[1]\n",
        "  return isim,soyisim\n",
        "\n",
        "a,b=isimSoyisimAyırma(\"Şule Meşe\")\n",
        "print(a)\n",
        "print(b)\n",
        "\n"
      ],
      "metadata": {
        "colab": {
          "base_uri": "https://localhost:8080/"
        },
        "id": "kQ-lgA3__mnF",
        "outputId": "7b8f2fdc-abf3-497c-ced1-f4adce71bc2e"
      },
      "execution_count": 8,
      "outputs": [
        {
          "output_type": "stream",
          "name": "stdout",
          "text": [
            "Şule\n",
            "Meşe\n"
          ]
        }
      ]
    },
    {
      "cell_type": "code",
      "source": [
        "def isimSoyisimBirleştir(*args): #args bir listeye referans verir.\n",
        "  return \" \".join(args)\n",
        "\n",
        "isimSoyisimBirleştir(\"Şule\",\"Yavuz\",\"Akgün\",\"Meşe\")\n",
        ""
      ],
      "metadata": {
        "colab": {
          "base_uri": "https://localhost:8080/",
          "height": 36
        },
        "id": "slkgVJOuBkI6",
        "outputId": "56a3bfbd-63a2-4b95-ddf1-a8d440b6cecc"
      },
      "execution_count": 14,
      "outputs": [
        {
          "output_type": "execute_result",
          "data": {
            "text/plain": [
              "'Şule Yavuz Akgün Meşe'"
            ],
            "application/vnd.google.colaboratory.intrinsic+json": {
              "type": "string"
            }
          },
          "metadata": {},
          "execution_count": 14
        }
      ]
    },
    {
      "cell_type": "code",
      "source": [
        "def  gobekAdiYazdir(**kwargs):\n",
        "  if 'gobekAdi' in kwargs:\n",
        "    print(kwargs['gobekAdi'])\n",
        "\n",
        "gobekAdiYazdir(ad=\"şule\",soyad=\"meşe\",gobekAdi=\"ela\")"
      ],
      "metadata": {
        "colab": {
          "base_uri": "https://localhost:8080/",
          "height": 36
        },
        "id": "8RW3BJExEBD9",
        "outputId": "c22342fb-4959-4fc0-8bdc-cbe94c73100f"
      },
      "execution_count": 15,
      "outputs": [
        {
          "output_type": "execute_result",
          "data": {
            "text/plain": [
              "'ela'"
            ],
            "application/vnd.google.colaboratory.intrinsic+json": {
              "type": "string"
            }
          },
          "metadata": {},
          "execution_count": 15
        }
      ]
    },
    {
      "cell_type": "code",
      "source": [
        "\n",
        "#Verilen bir listedeki tüm elemanların toplamını, çarpımını ve karesini hesaplayan bir fonksiyon yazın.\n",
        "liste = [1,4,3,2,6]\n",
        "\n",
        "def listedekiElemanlarinToplaminiHesapla(liste):\n",
        "  toplam = 0\n",
        "  for i in liste:\n",
        "    toplam+=i\n",
        "  return toplam\n",
        "\n",
        "def listedekiElemanlarinCarpiminiHesapla(liste):\n",
        "  carpim=1\n",
        "  for i in liste:\n",
        "    carpim*=i\n",
        "  return carpim\n",
        "\n",
        "def listedekiElemanlarınKaresiniHesapla(liste):\n",
        "  yeniListe=[]\n",
        "  for i in liste:\n",
        "    yeniListe.append(pow(i,2))\n",
        "  return yeniListe\n",
        "\n",
        "def Listeİslemleri(liste):\n",
        "  toplam=listedekiElemanlarinToplaminiHesapla(liste)\n",
        "  carpim=listedekiElemanlarinCarpiminiHesapla(liste)\n",
        "  kare=listedekiElemanlarınKaresiniHesapla(liste)\n",
        "  print(toplam)\n",
        "  print(carpim)\n",
        "  print(kare)\n",
        "\n",
        "Listeİslemleri(liste) #çağırılması\n",
        "\n",
        "\n"
      ],
      "metadata": {
        "colab": {
          "base_uri": "https://localhost:8080/"
        },
        "id": "_cQDGX0sFiTs",
        "outputId": "9743f2e3-d313-459d-ce02-d73f766b1bd0"
      },
      "execution_count": 17,
      "outputs": [
        {
          "output_type": "stream",
          "name": "stdout",
          "text": [
            "16\n",
            "144\n",
            "[1, 16, 9, 4, 36]\n"
          ]
        }
      ]
    },
    {
      "cell_type": "code",
      "source": [
        "#Verilen bir sayı listesindeki tüm elemanların ortalamasını, medyanını ve modunu hesaplayan bir fonksiyon yazın.\n",
        "\n",
        "liste = [1,26,3,2,6,1,1]\n",
        "\n",
        "def ortalama(liste):\n",
        "  return sum(liste) / len(liste)\n",
        "\n",
        "def medyan(liste):\n",
        "\n",
        "  siraliListe =sorted(liste)\n",
        "  n = len(siraliListe)\n",
        "\n",
        "  if n%2 == 0:\n",
        "    return (siraliListe[int(n/2)-1] + siraliListe[int(n/2)-1]) / 2\n",
        "  else:\n",
        "    return siraliListe[int(n/2)]\n",
        "\n",
        "\n",
        "def mod(liste):\n",
        "  frekanslar={}\n",
        "  for eleman in liste:\n",
        "    if eleman in frekanslar:\n",
        "      frekanslar[eleman]+=1\n",
        "    else:\n",
        "      frekanslar[eleman]=1\n",
        "  en_yuksek_frekans = max(frekanslar.values())\n",
        "  modlar = [key for key, value in frekanslar.items() if value == en_yuksek_frekans]\n",
        "  return modlar\n",
        "\n",
        "\n",
        "print(ortalama(liste))\n",
        "print(medyan(liste))\n",
        "print(mod(liste))\n",
        "\n",
        "\n",
        "\n",
        "\n",
        "\n",
        "\n",
        "\n",
        "\n",
        "\n",
        "\n",
        "\n"
      ],
      "metadata": {
        "colab": {
          "base_uri": "https://localhost:8080/"
        },
        "id": "2IRzaLd1Hmbc",
        "outputId": "6e79942b-a6ea-42b3-eb96-231ecf80bdd5"
      },
      "execution_count": 54,
      "outputs": [
        {
          "output_type": "stream",
          "name": "stdout",
          "text": [
            "5.714285714285714\n",
            "2\n",
            "[1]\n"
          ]
        }
      ]
    },
    {
      "cell_type": "code",
      "source": [
        "#Verilen bir metindeki en çok tekrar eden kelimeyi bulan bir fonksiyon yazın.\n",
        "metin = \"şule şule şule hello world şule world\"\n",
        "\n",
        "def enÇokTekrarEdenKelimeyiBul(metin):\n",
        "  liste = metin.split()\n",
        "  sözlük={}\n",
        "\n",
        "  for kelime in liste:\n",
        "    if kelime not in sözlük:\n",
        "      sözlük[kelime]=1\n",
        "    else:\n",
        "      sözlük[kelime]+=1\n",
        "\n",
        "  enYüksekFrekans = max(sözlük.values())\n",
        "  kelime = [key for key,value in sözlük.items() if value == enYüksekFrekans]\n",
        "  return kelime\n",
        "\n",
        "print(enÇokTekrarEdenKelimeyiBul(metin))"
      ],
      "metadata": {
        "colab": {
          "base_uri": "https://localhost:8080/"
        },
        "id": "QMu8cb--b4i5",
        "outputId": "87a8fc7e-878e-47b2-b0da-76deb2cecb56"
      },
      "execution_count": 56,
      "outputs": [
        {
          "output_type": "stream",
          "name": "stdout",
          "text": [
            "['şule']\n"
          ]
        }
      ]
    },
    {
      "cell_type": "code",
      "source": [
        "#Bir sayının Armstrong sayısı olup olmadığını kontrol eden bir fonksiyon yazın (Armstrong sayısı: Sayının rakamlarının küplerinin toplamı, sayıya eşitse bu sayı Armstrong sayısıdır).\n"
      ],
      "metadata": {
        "id": "NQu9taL0b60w"
      },
      "execution_count": null,
      "outputs": []
    },
    {
      "cell_type": "code",
      "source": [
        "#Verilen bir liste içindeki tüm permütasyonları (sıralı kombinasyonları) bulan bir fonksiyon yazın."
      ],
      "metadata": {
        "id": "ZJmix5wzb-jd"
      },
      "execution_count": null,
      "outputs": []
    }
  ]
}
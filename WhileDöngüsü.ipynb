{
  "nbformat": 4,
  "nbformat_minor": 0,
  "metadata": {
    "colab": {
      "provenance": []
    },
    "kernelspec": {
      "name": "python3",
      "display_name": "Python 3"
    },
    "language_info": {
      "name": "python"
    }
  },
  "cells": [
    {
      "cell_type": "markdown",
      "source": [
        "# WHİLE DÖNGÜSÜ"
      ],
      "metadata": {
        "id": "8B7kV2VxAsbg"
      }
    },
    {
      "cell_type": "markdown",
      "source": [
        "Python'da 2 temel döngü komutu vardır:\n",
        "* while döngüsü\n",
        "* for döngüsü\n",
        "\n",
        "Bugün while döngüsünü öğreneceğiz.\n",
        "\n",
        "While döngüsü bir koşul doğru olduğu sürece bir dizi ifadeyi çalıştırır."
      ],
      "metadata": {
        "id": "K6DNnJINAvOX"
      }
    },
    {
      "cell_type": "code",
      "execution_count": 3,
      "metadata": {
        "colab": {
          "base_uri": "https://localhost:8080/"
        },
        "id": "1TpChBh_Arn0",
        "outputId": "82683e97-a1a2-466a-a7df-1ba3efc80e22"
      },
      "outputs": [
        {
          "output_type": "stream",
          "name": "stdout",
          "text": [
            "1\n",
            "2\n",
            "3\n",
            "4\n",
            "5\n"
          ]
        }
      ],
      "source": [
        "i=1\n",
        "\n",
        "while (i<6):\n",
        "  print(i)\n",
        "  i+=1 #Not: i'yi artırmayı unutmayın, yoksa döngü sonsuza kadar devam eder."
      ]
    },
    {
      "cell_type": "markdown",
      "source": [
        "### BREAK DEYİMİ"
      ],
      "metadata": {
        "id": "rqB0r3ima_GK"
      }
    },
    {
      "cell_type": "markdown",
      "source": [
        "While döngüsünü kırar. Döngüden çıkılır."
      ],
      "metadata": {
        "id": "gEHtz0MebDs6"
      }
    },
    {
      "cell_type": "code",
      "source": [
        "i=1\n",
        "\n",
        "while(i<6):\n",
        "  print(i)\n",
        "  if (i==3):\n",
        "    break\n",
        "  i+=1"
      ],
      "metadata": {
        "colab": {
          "base_uri": "https://localhost:8080/"
        },
        "id": "zPsMWxTZbKR-",
        "outputId": "346dbf7b-b04a-4bed-af03-a0f0922ce3d2"
      },
      "execution_count": 4,
      "outputs": [
        {
          "output_type": "stream",
          "name": "stdout",
          "text": [
            "1\n",
            "2\n",
            "3\n"
          ]
        }
      ]
    },
    {
      "cell_type": "markdown",
      "source": [
        "### CONTINUE DEYİMİ"
      ],
      "metadata": {
        "id": "oz3GbqEtbe_K"
      }
    },
    {
      "cell_type": "markdown",
      "source": [
        "While döngüsünü bir sonraki  adımdan başlatır."
      ],
      "metadata": {
        "id": "-lvRCpSibiE6"
      }
    },
    {
      "cell_type": "code",
      "source": [
        "i=1\n",
        "while (i<6):\n",
        "  i+=1\n",
        "  if (i==3):\n",
        "    continue\n",
        "  print(i)\n",
        "\n",
        "\n",
        "\n"
      ],
      "metadata": {
        "colab": {
          "base_uri": "https://localhost:8080/"
        },
        "id": "tnuKx3Pabxfd",
        "outputId": "3ae1ea48-923e-4a62-b9c3-62460b9096a9"
      },
      "execution_count": 8,
      "outputs": [
        {
          "output_type": "stream",
          "name": "stdout",
          "text": [
            "2\n",
            "4\n",
            "5\n",
            "6\n"
          ]
        }
      ]
    },
    {
      "cell_type": "markdown",
      "source": [
        "### ELSE DEYİMİ"
      ],
      "metadata": {
        "id": "4LMVS_Pqc_kM"
      }
    },
    {
      "cell_type": "markdown",
      "source": [
        "else deyimiyle, koşul artık doğru olmadığında bir kod bloğunu bir kez çalıştırabiliriz:"
      ],
      "metadata": {
        "id": "kHN2J3vsdBli"
      }
    },
    {
      "cell_type": "code",
      "source": [
        "i=1\n",
        "\n",
        "while(i<6):\n",
        "  print(i)\n",
        "  i+=1\n",
        "else:\n",
        "  print(\"i is no longer less than 6\")\n"
      ],
      "metadata": {
        "colab": {
          "base_uri": "https://localhost:8080/"
        },
        "id": "nzg7pEp-dDwU",
        "outputId": "c505c1b9-5a21-4b13-b99f-7e7fef003f56"
      },
      "execution_count": 9,
      "outputs": [
        {
          "output_type": "stream",
          "name": "stdout",
          "text": [
            "1\n",
            "2\n",
            "3\n",
            "4\n",
            "5\n",
            "i is no longer less than 6\n"
          ]
        }
      ]
    },
    {
      "cell_type": "markdown",
      "source": [
        "\n",
        "\n",
        "---\n",
        "\n"
      ],
      "metadata": {
        "id": "GDZdhgO_rM_O"
      }
    },
    {
      "cell_type": "code",
      "source": [
        "#örnek1\n",
        "x=0\n",
        "\n",
        "while x<10:\n",
        "  print(\"{} değeri 10 dan küçüktür\".format(x))\n",
        "  x+=1"
      ],
      "metadata": {
        "colab": {
          "base_uri": "https://localhost:8080/"
        },
        "id": "R8FguFdZrNtV",
        "outputId": "1e0ebe75-6cbf-48d0-f908-223d102f39ee"
      },
      "execution_count": 10,
      "outputs": [
        {
          "output_type": "stream",
          "name": "stdout",
          "text": [
            "0 değeri 10 dan küçüktür\n",
            "1 değeri 10 dan küçüktür\n",
            "2 değeri 10 dan küçüktür\n",
            "3 değeri 10 dan küçüktür\n",
            "4 değeri 10 dan küçüktür\n",
            "5 değeri 10 dan küçüktür\n",
            "6 değeri 10 dan küçüktür\n",
            "7 değeri 10 dan küçüktür\n",
            "8 değeri 10 dan küçüktür\n",
            "9 değeri 10 dan küçüktür\n"
          ]
        }
      ]
    },
    {
      "cell_type": "code",
      "source": [
        "#örnek2\n",
        "#SONSUZ DÖNGÜ !\n",
        "while True:\n",
        "  print(\"TRUE\")"
      ],
      "metadata": {
        "id": "yyu66x8mr1E9"
      },
      "execution_count": null,
      "outputs": []
    },
    {
      "cell_type": "markdown",
      "source": [
        "ddos gibi saldırılarda da sonsuz döngü gibi işlemler yapılır :)"
      ],
      "metadata": {
        "id": "ZjRxPUztsCUN"
      }
    },
    {
      "cell_type": "code",
      "source": [
        "#örnek3\n",
        "x=0\n",
        "\n",
        "while x<10:\n",
        "  print(\"{} değeri 10 dan küçüktür\".format(x))\n",
        "  x+=1\n",
        "else:\n",
        "  print(\"{} değeri 10 dan küçük değildir!\".format(x))"
      ],
      "metadata": {
        "colab": {
          "base_uri": "https://localhost:8080/"
        },
        "id": "Yi8Nl026sGWv",
        "outputId": "df1bf76d-877e-4ec2-a8de-09b98f89b435"
      },
      "execution_count": 12,
      "outputs": [
        {
          "output_type": "stream",
          "name": "stdout",
          "text": [
            "0 değeri 10 dan küçüktür\n",
            "1 değeri 10 dan küçüktür\n",
            "2 değeri 10 dan küçüktür\n",
            "3 değeri 10 dan küçüktür\n",
            "4 değeri 10 dan küçüktür\n",
            "5 değeri 10 dan küçüktür\n",
            "6 değeri 10 dan küçüktür\n",
            "7 değeri 10 dan küçüktür\n",
            "8 değeri 10 dan küçüktür\n",
            "9 değeri 10 dan küçüktür\n",
            "10 değeri 10 dan küçük değildir!\n"
          ]
        }
      ]
    },
    {
      "cell_type": "code",
      "source": [
        "#örnek4\n",
        "#faktöryel\n",
        "sayi=5\n",
        "carpim=1\n",
        "\n",
        "while 1<sayi:\n",
        "  carpim=carpim*sayi\n",
        "  sayi=sayi-1\n",
        "\n",
        "\n",
        "print(\"Sonuç = {}\".format(carpim))\n"
      ],
      "metadata": {
        "colab": {
          "base_uri": "https://localhost:8080/"
        },
        "id": "1UbgLIfxsnPt",
        "outputId": "be95a03d-36ad-4822-c1fa-aed7e9a5ab94"
      },
      "execution_count": 13,
      "outputs": [
        {
          "output_type": "stream",
          "name": "stdout",
          "text": [
            "Sonuç = 120\n"
          ]
        }
      ]
    },
    {
      "cell_type": "code",
      "source": [
        "#liste elemanlarını toplama\n",
        "liste = [1,2,3,4,5]\n",
        "\n",
        "sınır=len(liste)\n",
        "i=0\n",
        "toplam=0\n",
        "while i<sınır:\n",
        "  toplam+=liste[i]\n",
        "  i+=1\n",
        "\n",
        "print(toplam)"
      ],
      "metadata": {
        "colab": {
          "base_uri": "https://localhost:8080/"
        },
        "id": "kJYygV6lujOe",
        "outputId": "b0404cd7-90eb-47e6-fb69-7d124ace1489"
      },
      "execution_count": 15,
      "outputs": [
        {
          "output_type": "stream",
          "name": "stdout",
          "text": [
            "15\n"
          ]
        }
      ]
    }
  ]
}
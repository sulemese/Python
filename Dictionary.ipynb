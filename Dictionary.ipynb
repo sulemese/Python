{
  "nbformat": 4,
  "nbformat_minor": 0,
  "metadata": {
    "colab": {
      "provenance": []
    },
    "kernelspec": {
      "name": "python3",
      "display_name": "Python 3"
    },
    "language_info": {
      "name": "python"
    }
  },
  "cells": [
    {
      "cell_type": "markdown",
      "source": [
        "#Dictionary(Sözlük)"
      ],
      "metadata": {
        "id": "Dx98CqYD408a"
      }
    },
    {
      "cell_type": "markdown",
      "source": [
        "Veri değerlerini anahtar:değer çiftlerinde depolamak için kullanılır."
      ],
      "metadata": {
        "id": "dJMXZNc04sKo"
      }
    },
    {
      "cell_type": "markdown",
      "source": [
        "#Dictionary Oluşturulması"
      ],
      "metadata": {
        "id": "Y0Xn3e4e4z7P"
      }
    },
    {
      "cell_type": "markdown",
      "source": [
        "## 1. Yöntem : süslü parantezler içinde anahtar:değer çiftleri halinde yazarak"
      ],
      "metadata": {
        "id": "yYa3AoiW48mp"
      }
    },
    {
      "cell_type": "code",
      "execution_count": null,
      "metadata": {
        "id": "2QGhI6ca4ULB"
      },
      "outputs": [],
      "source": [
        "x = {\"ad\": \"şule\", \"soyad\": \"meşe\"}"
      ]
    },
    {
      "cell_type": "markdown",
      "source": [
        "##2. Yöntem : Yapıcı Metod Kullanarak"
      ],
      "metadata": {
        "id": "2HqbC97268No"
      }
    },
    {
      "cell_type": "code",
      "source": [
        "x = dict(ad=\"şule\", soyad=\"meşe\")"
      ],
      "metadata": {
        "id": "gJGZHqW-7BJQ"
      },
      "execution_count": null,
      "outputs": []
    },
    {
      "cell_type": "markdown",
      "source": [
        "#Dictionary Özellikleri"
      ],
      "metadata": {
        "id": "Xl8cSKqF5d7g"
      }
    },
    {
      "cell_type": "markdown",
      "source": [
        "##1.Sıralıdır (Ordered)"
      ],
      "metadata": {
        "id": "q6xi32iN5gmw"
      }
    },
    {
      "cell_type": "markdown",
      "source": [
        "Sözlüklerin sıralı olduğunu söylediğimizde maddelerin belli bir sırası vardır ve bu sıra değişmez demektir.\n",
        "\n",
        "Sırasız, öğelerin tanımlanmış bir sıraya sahip olmadığı anlamına gelir; bir öğeye indeks kullanarak başvuramazsınız."
      ],
      "metadata": {
        "id": "MB_4Vmj_5phx"
      }
    },
    {
      "cell_type": "markdown",
      "source": [
        "##2.Değiştirilebilir(Changeable)"
      ],
      "metadata": {
        "id": "q4IFwNYF5tNo"
      }
    },
    {
      "cell_type": "markdown",
      "source": [
        "Sözlükler değiştirilebilir; yani sözlük oluşturulduktan sonra öğeleri değiştirebilir, ekleyebilir veya kaldırabiliriz."
      ],
      "metadata": {
        "id": "p4LQpnDb5waI"
      }
    },
    {
      "cell_type": "markdown",
      "source": [
        "##3.Kopyalara İzin Verilmez"
      ],
      "metadata": {
        "id": "DcsRtugP5y_Y"
      }
    },
    {
      "cell_type": "markdown",
      "source": [
        "Sözlüklerde aynı anahtara sahip iki öğe bulunamaz:"
      ],
      "metadata": {
        "id": "Xeyt96gk52Kw"
      }
    },
    {
      "cell_type": "code",
      "source": [
        "x = {\n",
        "    \"name\":\"şule\",\n",
        "    \"name\":\"aslı\"\n",
        "}\n",
        "\n",
        "print(x)\n"
      ],
      "metadata": {
        "colab": {
          "base_uri": "https://localhost:8080/"
        },
        "id": "ZW6ywIm856di",
        "outputId": "d7eae7c1-0694-4740-f088-ec83586e23e0"
      },
      "execution_count": null,
      "outputs": [
        {
          "output_type": "stream",
          "name": "stdout",
          "text": [
            "{'name': 'aslı'}\n"
          ]
        }
      ]
    },
    {
      "cell_type": "markdown",
      "source": [
        "##4.Sözlük Öğelerindeki Değerler Herhangi Bir Veri Türünde Olabilir:"
      ],
      "metadata": {
        "id": "h-lGzyUP6UYn"
      }
    },
    {
      "cell_type": "code",
      "source": [
        "x = {\n",
        "    \"ad\": \"şule\",\n",
        "    \"soyad\": \"meşe\",\n",
        "    \"yaş\":19\n",
        "    }"
      ],
      "metadata": {
        "id": "6_aXu48_6a_S"
      },
      "execution_count": null,
      "outputs": []
    },
    {
      "cell_type": "markdown",
      "source": [
        "#Dictionary Uzunluğu"
      ],
      "metadata": {
        "id": "yY08tU9Z6HAg"
      }
    },
    {
      "cell_type": "markdown",
      "source": [
        "Bir sözlüğün kaç öğeye sahip olduğunu belirlemek için  len() işlevi kullanın:"
      ],
      "metadata": {
        "id": "AtEpgt9f6I2f"
      }
    },
    {
      "cell_type": "code",
      "source": [
        "x = {\n",
        "    \"ad\": \"şule\",\n",
        "    \"soyad\": \"meşe\"\n",
        "    }\n",
        "\n",
        "len(x)"
      ],
      "metadata": {
        "colab": {
          "base_uri": "https://localhost:8080/"
        },
        "id": "GYDDrg3u6LnP",
        "outputId": "387682dc-ca1b-484d-f21b-961880599967"
      },
      "execution_count": null,
      "outputs": [
        {
          "output_type": "execute_result",
          "data": {
            "text/plain": [
              "2"
            ]
          },
          "metadata": {},
          "execution_count": 4
        }
      ]
    },
    {
      "cell_type": "markdown",
      "source": [
        "#Type()"
      ],
      "metadata": {
        "id": "L4G8xryM6RhH"
      }
    },
    {
      "cell_type": "markdown",
      "source": [
        "Python'un bakış açısına göre sözlükler 'dict' veri türüne sahip nesneler olarak tanımlanır:"
      ],
      "metadata": {
        "id": "SawLMpdq6z-I"
      }
    },
    {
      "cell_type": "code",
      "source": [
        "x = {\n",
        "    \"ad\": \"şule\",\n",
        "    \"soyad\": \"meşe\"\n",
        "    }\n",
        "\n",
        "type(x)"
      ],
      "metadata": {
        "colab": {
          "base_uri": "https://localhost:8080/"
        },
        "id": "cA1JhPIj61j4",
        "outputId": "8ec1479c-49d2-422e-ea7a-2cd34ff873c6"
      },
      "execution_count": null,
      "outputs": [
        {
          "output_type": "execute_result",
          "data": {
            "text/plain": [
              "dict"
            ]
          },
          "metadata": {},
          "execution_count": 9
        }
      ]
    },
    {
      "cell_type": "markdown",
      "source": [
        "#Dictionary Öğelerine Erişim"
      ],
      "metadata": {
        "id": "a9A2b_Ua8cEB"
      }
    },
    {
      "cell_type": "markdown",
      "source": [
        "Bir sözlüğün öğelerine, köşeli parantez içindeki anahtar adına başvurarak erişebilirsiniz:"
      ],
      "metadata": {
        "id": "QLnXzPpi8lGq"
      }
    },
    {
      "cell_type": "code",
      "source": [
        "x = {\n",
        "    \"ad\": \"şule\",\n",
        "    \"soyad\": \"meşe\"\n",
        "    }\n",
        "\n",
        "print(x[\"ad\"])"
      ],
      "metadata": {
        "colab": {
          "base_uri": "https://localhost:8080/"
        },
        "id": "B3wBD1DT8rZQ",
        "outputId": "5a1ed67a-788d-41fd-a32f-9858587ea079"
      },
      "execution_count": null,
      "outputs": [
        {
          "output_type": "stream",
          "name": "stdout",
          "text": [
            "şule\n"
          ]
        }
      ]
    },
    {
      "cell_type": "markdown",
      "source": [
        "Bir sözlüğün öğelerine, get() kullanarak da erişebilirsiniz:"
      ],
      "metadata": {
        "id": "N8OEtrR39XmT"
      }
    },
    {
      "cell_type": "code",
      "source": [
        "x = {\n",
        "    \"ad\": \"şule\",\n",
        "    \"soyad\": \"meşe\"\n",
        "    }\n",
        "\n",
        "print(x.get(\"ad\"))"
      ],
      "metadata": {
        "colab": {
          "base_uri": "https://localhost:8080/"
        },
        "id": "RIZnV56x9eIF",
        "outputId": "6a58ed50-fee7-41dc-ad3d-6402b06eb8c8"
      },
      "execution_count": null,
      "outputs": [
        {
          "output_type": "stream",
          "name": "stdout",
          "text": [
            "şule\n"
          ]
        }
      ]
    },
    {
      "cell_type": "markdown",
      "source": [
        "keys() tüm anahtarların listesini döndürür:"
      ],
      "metadata": {
        "id": "dXPZS-hN9kjr"
      }
    },
    {
      "cell_type": "code",
      "source": [
        "x = {\n",
        "    \"ad\": \"şule\",\n",
        "    \"soyad\": \"meşe\"\n",
        "    }\n",
        "\n",
        "print(x.keys())"
      ],
      "metadata": {
        "colab": {
          "base_uri": "https://localhost:8080/"
        },
        "id": "oTs976zm9naY",
        "outputId": "1e70f6d2-7e22-4fac-ff72-6faefabf0902"
      },
      "execution_count": null,
      "outputs": [
        {
          "output_type": "stream",
          "name": "stdout",
          "text": [
            "dict_keys(['ad', 'soyad'])\n"
          ]
        }
      ]
    },
    {
      "cell_type": "markdown",
      "source": [
        "values() tüm değerlerin listesini döndürür :"
      ],
      "metadata": {
        "id": "nxalLrOi99hr"
      }
    },
    {
      "cell_type": "code",
      "source": [
        "x = {\n",
        "    \"ad\": \"şule\",\n",
        "    \"soyad\": \"meşe\"\n",
        "    }\n",
        "\n",
        "print(x.values())"
      ],
      "metadata": {
        "colab": {
          "base_uri": "https://localhost:8080/"
        },
        "id": "4FSwiRo0-Lw6",
        "outputId": "61a3a0a5-fd50-49a5-e063-7c727570fd74"
      },
      "execution_count": null,
      "outputs": [
        {
          "output_type": "stream",
          "name": "stdout",
          "text": [
            "dict_values(['şule', 'meşe'])\n"
          ]
        }
      ]
    },
    {
      "cell_type": "markdown",
      "source": [
        "items(), sözlükteki anahtar - değer çiftlerini listedeki tuple'lar olarak döndürecektir."
      ],
      "metadata": {
        "id": "Zt9xZ71U-t11"
      }
    },
    {
      "cell_type": "code",
      "source": [
        "x = {\n",
        "    \"ad\": \"şule\",\n",
        "    \"soyad\": \"meşe\"\n",
        "    }\n",
        "\n",
        "print(x.items())"
      ],
      "metadata": {
        "colab": {
          "base_uri": "https://localhost:8080/"
        },
        "id": "U33Bcsqp_CSg",
        "outputId": "159f6e36-3c27-4c51-a7a8-b65a009e000d"
      },
      "execution_count": null,
      "outputs": [
        {
          "output_type": "stream",
          "name": "stdout",
          "text": [
            "dict_items([('ad', 'şule'), ('soyad', 'meşe')])\n"
          ]
        }
      ]
    },
    {
      "cell_type": "markdown",
      "source": [
        "\"in\" anahtar kelimesi belirli bir anahtarın sözlükte bulunma durumunu kontrol eder:"
      ],
      "metadata": {
        "id": "OcPL_Hg3_VOt"
      }
    },
    {
      "cell_type": "code",
      "source": [
        "x = {\n",
        "    \"ad\": \"şule\",\n",
        "    \"soyad\": \"meşe\"\n",
        "    }\n",
        "\n",
        "print(\"yaş\" in x)\n",
        "print(\"ad\" in x)"
      ],
      "metadata": {
        "colab": {
          "base_uri": "https://localhost:8080/"
        },
        "id": "y3nivz2P_btl",
        "outputId": "e2c0c792-6584-4149-9685-86b7e6394304"
      },
      "execution_count": null,
      "outputs": [
        {
          "output_type": "stream",
          "name": "stdout",
          "text": [
            "False\n",
            "True\n"
          ]
        }
      ]
    },
    {
      "cell_type": "markdown",
      "source": [
        "#Dictionary Öğelerini Değiştirme"
      ],
      "metadata": {
        "id": "Iff4fCFFAIMz"
      }
    },
    {
      "cell_type": "markdown",
      "source": [
        "Bir öğenin değerini anahtar adı ile değiştirebilirsiniz:"
      ],
      "metadata": {
        "id": "NKkEpfNuALQG"
      }
    },
    {
      "cell_type": "code",
      "source": [
        "x = {\n",
        "    \"ad\": \"şule\",\n",
        "    \"soyad\": \"meşe\"\n",
        "    }\n",
        "\n",
        "x[\"ad\"]=\"ezgi\"\n",
        "\n",
        "print(x)"
      ],
      "metadata": {
        "colab": {
          "base_uri": "https://localhost:8080/"
        },
        "id": "wn3Y6JYPBEHd",
        "outputId": "1441066e-4097-486b-deea-d11a8788e63c"
      },
      "execution_count": null,
      "outputs": [
        {
          "output_type": "stream",
          "name": "stdout",
          "text": [
            "{'ad': 'ezgi', 'soyad': 'meşe'}\n"
          ]
        }
      ]
    },
    {
      "cell_type": "markdown",
      "source": [
        "Birden fazla değeri  aynı anda değiştirmek için update() kullanabilirsiniz:"
      ],
      "metadata": {
        "id": "c2fRH6-5BRKF"
      }
    },
    {
      "cell_type": "code",
      "source": [
        "x = {\n",
        "    \"ad\": \"şule\",\n",
        "    \"soyad\": \"meşe\"\n",
        "    }\n",
        "\n",
        "x.update({\"ad\":\"sevgi\",\"soyad\":\"bayrak\"})\n",
        "\n",
        "print(x)"
      ],
      "metadata": {
        "colab": {
          "base_uri": "https://localhost:8080/"
        },
        "id": "VkEfLzh6BZHZ",
        "outputId": "58751d17-f81b-4d21-fe09-d85bcd0c2d89"
      },
      "execution_count": null,
      "outputs": [
        {
          "output_type": "stream",
          "name": "stdout",
          "text": [
            "{'ad': 'sevgi', 'soyad': 'bayrak'}\n"
          ]
        }
      ]
    },
    {
      "cell_type": "markdown",
      "source": [
        "#Öğe Ekleme"
      ],
      "metadata": {
        "id": "7pTMObLBBvSB"
      }
    },
    {
      "cell_type": "markdown",
      "source": [
        "Sözlüğe bir öğe eklemek, yeni bir dizin anahtarı kullanılarak ve ona bir değer atanarak yapılır:"
      ],
      "metadata": {
        "id": "XadgT-jABxIK"
      }
    },
    {
      "cell_type": "code",
      "source": [
        "x = {\n",
        "    \"ad\": \"şule\",\n",
        "    \"soyad\": \"meşe\"\n",
        "    }\n",
        "\n",
        "x[\"yaş\"]=19\n",
        "\n",
        "print(x)"
      ],
      "metadata": {
        "colab": {
          "base_uri": "https://localhost:8080/"
        },
        "id": "htRrKFGSBzrb",
        "outputId": "0bdb962c-4562-4133-d71f-19625d35f00f"
      },
      "execution_count": null,
      "outputs": [
        {
          "output_type": "stream",
          "name": "stdout",
          "text": [
            "{'ad': 'şule', 'soyad': 'meşe', 'yaş': 19}\n"
          ]
        }
      ]
    },
    {
      "cell_type": "markdown",
      "source": [
        "Sözlüğe yeni öğeler eklemek için update() kullanabilirsiniz:"
      ],
      "metadata": {
        "id": "8aRc3yznB-Mx"
      }
    },
    {
      "cell_type": "code",
      "source": [
        "x = {\n",
        "    \"ad\": \"şule\",\n",
        "    \"soyad\": \"meşe\"\n",
        "    }\n",
        "\n",
        "x.update({\"yaş\":19,\"şehir\":\"bursa\"})\n",
        "\n",
        "print(x)"
      ],
      "metadata": {
        "colab": {
          "base_uri": "https://localhost:8080/"
        },
        "id": "UHx9g5DfCJhB",
        "outputId": "d8b01f8f-9158-4052-e754-b0f15a8fc3e2"
      },
      "execution_count": null,
      "outputs": [
        {
          "output_type": "stream",
          "name": "stdout",
          "text": [
            "{'ad': 'şule', 'soyad': 'meşe', 'yaş': 19, 'şehir': 'bursa'}\n"
          ]
        }
      ]
    },
    {
      "cell_type": "markdown",
      "source": [
        "#Öğe Kaldırma"
      ],
      "metadata": {
        "id": "YuO8fDfTCW0K"
      }
    },
    {
      "cell_type": "markdown",
      "source": [
        "pop() belirtilen anahtar adına sahip öğeyi kaldırır:"
      ],
      "metadata": {
        "id": "kKo8AoqQCYhq"
      }
    },
    {
      "cell_type": "code",
      "source": [
        "x = {\n",
        "    \"ad\": \"şule\",\n",
        "    \"soyad\": \"meşe\"\n",
        "    }\n",
        "\n",
        "x.pop(\"soyad\") # \"soyad\" anahtarına sahip öğe kaldırıldı\n",
        "\n",
        "print(x)"
      ],
      "metadata": {
        "colab": {
          "base_uri": "https://localhost:8080/"
        },
        "id": "yokLQpvVCghi",
        "outputId": "375c56f0-d6cb-49c0-bd19-c4241b9f2075"
      },
      "execution_count": null,
      "outputs": [
        {
          "output_type": "stream",
          "name": "stdout",
          "text": [
            "{'ad': 'şule'}\n"
          ]
        }
      ]
    },
    {
      "cell_type": "markdown",
      "source": [
        "popitem(), eklenen son öğeyi kaldırır"
      ],
      "metadata": {
        "id": "xkIfSwi9CpCq"
      }
    },
    {
      "cell_type": "code",
      "source": [
        "x = {\n",
        "    \"ad\": \"şule\",\n",
        "    \"soyad\": \"meşe\"\n",
        "    }\n",
        "\n",
        "x.popitem() # son öğe kaldırıldı\n",
        "\n",
        "print(x)"
      ],
      "metadata": {
        "colab": {
          "base_uri": "https://localhost:8080/"
        },
        "id": "Y16EbWIOCsdC",
        "outputId": "3e0adf67-b222-47f8-e6b0-2d893a346753"
      },
      "execution_count": null,
      "outputs": [
        {
          "output_type": "stream",
          "name": "stdout",
          "text": [
            "{'ad': 'şule'}\n"
          ]
        }
      ]
    },
    {
      "cell_type": "markdown",
      "source": [
        "\"del\" anahtar kelimesi belirtilen anahtara sahip öğeyi kaldırır:"
      ],
      "metadata": {
        "id": "5HTbHV1wC2Xx"
      }
    },
    {
      "cell_type": "code",
      "source": [
        "x = {\n",
        "    \"ad\": \"şule\",\n",
        "    \"soyad\": \"meşe\"\n",
        "    }\n",
        "\n",
        "del x[\"soyad\"]\n",
        "\n",
        "print(x)"
      ],
      "metadata": {
        "colab": {
          "base_uri": "https://localhost:8080/"
        },
        "id": "McFJPdQsC6_h",
        "outputId": "ca23ba9d-b271-4d8b-8b60-5baeb5a843ab"
      },
      "execution_count": null,
      "outputs": [
        {
          "output_type": "stream",
          "name": "stdout",
          "text": [
            "{'ad': 'şule'}\n"
          ]
        }
      ]
    },
    {
      "cell_type": "markdown",
      "source": [
        "\"del\" anahtar kelimesi dictionary'i siler."
      ],
      "metadata": {
        "id": "YDLkZMnmC-qz"
      }
    },
    {
      "cell_type": "code",
      "source": [
        "x = {\n",
        "    \"ad\": \"şule\",\n",
        "    \"soyad\": \"meşe\"\n",
        "    }\n",
        "\n",
        "del x"
      ],
      "metadata": {
        "id": "EdkP-Za0DHiy"
      },
      "execution_count": null,
      "outputs": []
    },
    {
      "cell_type": "markdown",
      "source": [
        "clear() dictionary'nin içini boşaltır:"
      ],
      "metadata": {
        "id": "gKtGevLRDMVr"
      }
    },
    {
      "cell_type": "code",
      "source": [
        "x = {\n",
        "    \"ad\": \"şule\",\n",
        "    \"soyad\": \"meşe\"\n",
        "    }\n",
        "\n",
        "x.clear()"
      ],
      "metadata": {
        "id": "mjrPz0EDDPZ6"
      },
      "execution_count": null,
      "outputs": []
    },
    {
      "cell_type": "markdown",
      "source": [
        "#Döngüler"
      ],
      "metadata": {
        "id": "458w9asmDd3C"
      }
    },
    {
      "cell_type": "markdown",
      "source": [
        "for döngüsü ile bir dictionary'de dolaşabilirsiniz:"
      ],
      "metadata": {
        "id": "4JdLlRK8Dg3z"
      }
    },
    {
      "cell_type": "code",
      "source": [
        "x = {\n",
        "    \"ad\": \"şule\",\n",
        "    \"soyad\": \"meşe\"\n",
        "    }\n",
        "\n",
        "for i in x:\n",
        "  print(i)  #anahtarları bastırır"
      ],
      "metadata": {
        "colab": {
          "base_uri": "https://localhost:8080/"
        },
        "id": "2hr3AdWVDqR6",
        "outputId": "376a27ea-7f4f-4c96-8475-91fc0be90d49"
      },
      "execution_count": null,
      "outputs": [
        {
          "output_type": "stream",
          "name": "stdout",
          "text": [
            "ad\n",
            "soyad\n"
          ]
        }
      ]
    },
    {
      "cell_type": "code",
      "source": [
        "x = {\n",
        "    \"ad\": \"şule\",\n",
        "    \"soyad\": \"meşe\"\n",
        "    }\n",
        "\n",
        "for i in x:\n",
        "  print(x[i])  #değerleri bastırır"
      ],
      "metadata": {
        "colab": {
          "base_uri": "https://localhost:8080/"
        },
        "id": "LfEXOM9sEGiS",
        "outputId": "d0c85c9e-a58f-4351-db8b-60eb9cffb0e3"
      },
      "execution_count": null,
      "outputs": [
        {
          "output_type": "stream",
          "name": "stdout",
          "text": [
            "şule\n",
            "meşe\n"
          ]
        }
      ]
    },
    {
      "cell_type": "markdown",
      "source": [
        "for döngüsü içinde values() ile sadece değerleri, keys() ile sadece anahtarları , items() ile anahtar/değer çiftlerini dolaşabilirsiniz:"
      ],
      "metadata": {
        "id": "48aRJB24ERAb"
      }
    },
    {
      "cell_type": "code",
      "source": [
        "x = {\n",
        "    \"ad\": \"şule\",\n",
        "    \"soyad\": \"meşe\"\n",
        "    }\n",
        "\n",
        "for i in x.keys():\n",
        "  print(i)"
      ],
      "metadata": {
        "colab": {
          "base_uri": "https://localhost:8080/"
        },
        "id": "exfFB8BZEVua",
        "outputId": "b7e4bbac-ec7c-45f2-ff6b-0b0d8e621c99"
      },
      "execution_count": null,
      "outputs": [
        {
          "output_type": "stream",
          "name": "stdout",
          "text": [
            "ad\n",
            "soyad\n"
          ]
        }
      ]
    },
    {
      "cell_type": "code",
      "source": [
        "x = {\n",
        "    \"ad\": \"şule\",\n",
        "    \"soyad\": \"meşe\"\n",
        "    }\n",
        "\n",
        "for i in x.values():\n",
        "  print(i)"
      ],
      "metadata": {
        "colab": {
          "base_uri": "https://localhost:8080/"
        },
        "id": "0qHnGXO5Eabq",
        "outputId": "5afd4c42-eb22-4502-9596-337816c12f46"
      },
      "execution_count": null,
      "outputs": [
        {
          "output_type": "stream",
          "name": "stdout",
          "text": [
            "şule\n",
            "meşe\n"
          ]
        }
      ]
    },
    {
      "cell_type": "code",
      "source": [
        "x = {\n",
        "    \"ad\": \"şule\",\n",
        "    \"soyad\": \"meşe\"\n",
        "    }\n",
        "\n",
        "for a,b in x.items():\n",
        "  print(a,b)"
      ],
      "metadata": {
        "colab": {
          "base_uri": "https://localhost:8080/"
        },
        "id": "jIQh73ueEjrZ",
        "outputId": "7003068c-4704-4efc-df85-e2895c544a85"
      },
      "execution_count": null,
      "outputs": [
        {
          "output_type": "stream",
          "name": "stdout",
          "text": [
            "ad şule\n",
            "soyad meşe\n"
          ]
        }
      ]
    },
    {
      "cell_type": "markdown",
      "source": [
        "#Dictionary'leri Kopyalama"
      ],
      "metadata": {
        "id": "ceJOgEi9E6lk"
      }
    },
    {
      "cell_type": "markdown",
      "source": [
        "##1.Yöntem : copy() metodu ile\n",
        "\n"
      ],
      "metadata": {
        "id": "FbGqnw90E-r6"
      }
    },
    {
      "cell_type": "code",
      "source": [
        "x = {\"ad\":\"şule\",\"soyad\":\"meşe\"}\n",
        "y = x.copy()\n",
        "print(x)"
      ],
      "metadata": {
        "colab": {
          "base_uri": "https://localhost:8080/"
        },
        "id": "5qEwkG7DYVUd",
        "outputId": "fabc21f1-e51b-43d1-c58d-c7eb1b3fee21"
      },
      "execution_count": null,
      "outputs": [
        {
          "output_type": "stream",
          "name": "stdout",
          "text": [
            "{'ad': 'şule', 'soyad': 'meşe'}\n"
          ]
        }
      ]
    },
    {
      "cell_type": "markdown",
      "source": [
        "## 2. Yöntem : dict() yapıcı metodu ile"
      ],
      "metadata": {
        "id": "_cBtUr9QY3kY"
      }
    },
    {
      "cell_type": "code",
      "source": [
        "x = {\"ad\":\"şule\",\"soyad\":\"meşe\"}\n",
        "y = dict(x)\n",
        "print(x)"
      ],
      "metadata": {
        "colab": {
          "base_uri": "https://localhost:8080/"
        },
        "id": "-gbIKVxiY623",
        "outputId": "4d7715ac-c998-4d2b-ba78-5955b581bb17"
      },
      "execution_count": null,
      "outputs": [
        {
          "output_type": "stream",
          "name": "stdout",
          "text": [
            "{'ad': 'şule', 'soyad': 'meşe'}\n"
          ]
        }
      ]
    },
    {
      "cell_type": "markdown",
      "source": [
        "#İç İçe Sözlükler"
      ],
      "metadata": {
        "id": "lHGPw3HaZCif"
      }
    },
    {
      "cell_type": "markdown",
      "source": [
        "Anahtar Değerleri sözlük olan Sözlük örnekleri"
      ],
      "metadata": {
        "id": "FK-w_Gt6af4I"
      }
    },
    {
      "cell_type": "code",
      "source": [
        "#Üç sözlük içeren bir sözlük oluşturun:\n",
        "children = {\n",
        "    \"child1\":{\"name\":\"alex\",\"age\":12},\n",
        "    \"child2\":{\"name\":\"ivan\",\"age\":13},\n",
        "    \"child3\":{\"name\":\"robe\",\"age\":14}\n",
        "           }"
      ],
      "metadata": {
        "id": "-eZ2WmXFZTa3"
      },
      "execution_count": null,
      "outputs": []
    },
    {
      "cell_type": "code",
      "source": [
        "#üç sözlük oluşturun, ardından diğer üç sözlüğü içerecek bir sözlük oluşturun:\n",
        "child1 = {\"name\":\"alex\",\"age\":12}\n",
        "\n",
        "child2 = {\"name\":\"ivan\",\"age\":13}\n",
        "\n",
        "child3 = {\"name\":\"robe\",\"age\":14}\n",
        "\n",
        "children = {\n",
        "    \"child1\":child1,\n",
        "    \"child2\":child2,\n",
        "    \"child3\":child3\n",
        "}"
      ],
      "metadata": {
        "id": "r8AqzpdHasue"
      },
      "execution_count": null,
      "outputs": []
    },
    {
      "cell_type": "code",
      "source": [
        "dict1={\n",
        "    \"isim\":\"murat\",\n",
        "    \"yas\":19,\n",
        "    \"lokasyon\":{\n",
        "      \"doğduguyer\":\"bursa\",\n",
        "      \"yasadıgıyer\":\"ankara\"\n",
        "    }\n",
        "}\n",
        "\n",
        "print(dict1[\"yas\"])\n",
        "print(dict1[\"lokasyon\"][\"doğduguyer\"])\n",
        "print(dict1[\"lokasyon\"][\"yasadıgıyer\"])\n",
        "dict1.get(\"lokasyon\").get(\"yasadıgıyer\")"
      ],
      "metadata": {
        "colab": {
          "base_uri": "https://localhost:8080/",
          "height": 90
        },
        "id": "xJOvnS0SGZGt",
        "outputId": "f5e76aa4-9a54-435b-a012-9d16f2e8ce08"
      },
      "execution_count": 6,
      "outputs": [
        {
          "output_type": "stream",
          "name": "stdout",
          "text": [
            "19\n",
            "bursa\n",
            "ankara\n"
          ]
        },
        {
          "output_type": "execute_result",
          "data": {
            "text/plain": [
              "'ankara'"
            ],
            "application/vnd.google.colaboratory.intrinsic+json": {
              "type": "string"
            }
          },
          "metadata": {},
          "execution_count": 6
        }
      ]
    },
    {
      "cell_type": "markdown",
      "source": [
        "İç İçe sözlüklere erişim için dış sözlükten başlayarak sözlüklerin adını kullanırsınız."
      ],
      "metadata": {
        "id": "EHQHv43IbzBH"
      }
    },
    {
      "cell_type": "code",
      "source": [
        "children[\"child1\"][\"name\"]   #children sözlüğü içindeki child1 sözlüğündeki \"name\" anahtarının değeri"
      ],
      "metadata": {
        "colab": {
          "base_uri": "https://localhost:8080/",
          "height": 36
        },
        "id": "EKIBID7vcCdL",
        "outputId": "ede70879-af16-4580-dea1-f52012d0b2c7"
      },
      "execution_count": null,
      "outputs": [
        {
          "output_type": "execute_result",
          "data": {
            "text/plain": [
              "'alex'"
            ],
            "application/vnd.google.colaboratory.intrinsic+json": {
              "type": "string"
            }
          },
          "metadata": {},
          "execution_count": 54
        }
      ]
    },
    {
      "cell_type": "markdown",
      "source": [
        "Kolay Düzey:\n",
        "* Soru: Bir boş sözlük oluşturun ve bu sözlüğe ardışık sayıları kullanarak (1'den 5'e kadar) anahtar-değer çiftleri ekleyin.\n",
        "\n",
        "* Soru: Oluşturduğunuz sözlükte belirli bir anahtarın değerini nasıl kontrol edersiniz?\n",
        "\n",
        "* Soru: Sözlüğünüzdeki bütün anahtarları listeleyin.\n",
        "\n",
        "Orta Düzey:\n",
        "\n",
        "* Soru: İki ayrı sözlüğü birleştirerek yeni bir sözlük oluşturun. Eğer aynı anahtar varsa, değerleri toplayarak yeni değeri atayın.\n",
        "\n",
        "* Soru: Bir sözlükte belirli bir anahtarı nasıl silebilirsiniz?\n",
        "\n",
        "* Soru: Bir sözlükteki bütün değerleri toplamak için bir fonksiyon yazın.\n",
        "\n",
        "Zor Düzey:\n",
        "\n",
        "* Soru: Sözlük içinde iç içe geçmiş bir yapı oluşturun. Örneğin, bir öğrenci adı olan anahtarlarla ilişkilendirilmiş derslerin sözlüğünü içeren bir sözlük.\n",
        "\n",
        "* Soru: Bir sözlükteki anahtarlar veya değerler üzerinde belirli bir işlemi gerçekleştiren bir fonksiyon yazın. Örneğin, bütün değerleri toplamak veya belli bir koşulu sağlayan anahtarları listelemek gibi.\n",
        "\n",
        "* Soru: Bir sözlükteki anahtarlar veya değerler için belirli bir sıralama kriterine göre sıralama yapın."
      ],
      "metadata": {
        "id": "UFfIc7e2gP1R"
      }
    },
    {
      "cell_type": "code",
      "source": [],
      "metadata": {
        "id": "yxCeSyYbgaSw"
      },
      "execution_count": null,
      "outputs": []
    }
  ]
}
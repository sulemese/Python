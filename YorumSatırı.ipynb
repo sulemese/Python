{
  "nbformat": 4,
  "nbformat_minor": 0,
  "metadata": {
    "colab": {
      "provenance": []
    },
    "kernelspec": {
      "name": "python3",
      "display_name": "Python 3"
    },
    "language_info": {
      "name": "python"
    }
  },
  "cells": [
    {
      "cell_type": "markdown",
      "source": [
        "# Yorum Satırı"
      ],
      "metadata": {
        "id": "Tay5W425q6KB"
      }
    },
    {
      "cell_type": "markdown",
      "source": [
        "Yorum satırı python kodunu açıklamak için kullanılır.\n",
        "\n",
        "\n",
        "Kodu okunaklı hale getirir.\n",
        "\n",
        "\n",
        "Kodu test ederken yürütmeyi önler.\n",
        "\n",
        "yorum satırı \"#\" ile başlar.\n",
        "\n",
        "Çok satırlı yorumlar için söz dizimi yoktur. her satır ayrı ayrı yorum içine alınır."
      ],
      "metadata": {
        "id": "nopMAjD4q952"
      }
    },
    {
      "cell_type": "code",
      "execution_count": 1,
      "metadata": {
        "id": "3Yx_J8tIZ-cW",
        "colab": {
          "base_uri": "https://localhost:8080/"
        },
        "outputId": "324491e6-9680-42cd-8bbb-8fa6a4f84c95"
      },
      "outputs": [
        {
          "output_type": "stream",
          "name": "stdout",
          "text": [
            "Hello, World!\n"
          ]
        }
      ],
      "source": [
        "#This is a comment\n",
        "#written in\n",
        "#more than just one line\n",
        "print(\"Hello, World!\")"
      ]
    },
    {
      "cell_type": "code",
      "source": [
        "#print(\"Hello, World!\")\n",
        "print(\"Cheers, Mate!\")\n"
      ],
      "metadata": {
        "colab": {
          "base_uri": "https://localhost:8080/"
        },
        "id": "JbBqh-Qurn0V",
        "outputId": "15b5bd16-9e8d-4ac1-ae71-cde563a7e850"
      },
      "execution_count": 2,
      "outputs": [
        {
          "output_type": "stream",
          "name": "stdout",
          "text": [
            "Cheers, Mate!\n"
          ]
        }
      ]
    },
    {
      "cell_type": "code",
      "source": [
        "print(\"Hello, World!\") #This is a comment"
      ],
      "metadata": {
        "colab": {
          "base_uri": "https://localhost:8080/"
        },
        "id": "EL9WwDLCrrQU",
        "outputId": "1da162f1-10c2-44b2-ec4b-b70810926e6f"
      },
      "execution_count": 3,
      "outputs": [
        {
          "output_type": "stream",
          "name": "stdout",
          "text": [
            "Hello, World!\n"
          ]
        }
      ]
    },
    {
      "cell_type": "code",
      "source": [
        "#This is a comment\n",
        "print(\"Hello, World!\")"
      ],
      "metadata": {
        "colab": {
          "base_uri": "https://localhost:8080/"
        },
        "id": "8ooQN4QvrtBO",
        "outputId": "3182e906-4966-41af-e07f-75197788fd77"
      },
      "execution_count": 4,
      "outputs": [
        {
          "output_type": "stream",
          "name": "stdout",
          "text": [
            "Hello, World!\n"
          ]
        }
      ]
    }
  ]
}